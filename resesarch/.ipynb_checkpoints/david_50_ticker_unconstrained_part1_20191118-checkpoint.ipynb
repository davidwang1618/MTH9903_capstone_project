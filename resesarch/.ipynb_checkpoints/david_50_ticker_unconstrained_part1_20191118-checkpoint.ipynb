{
 "cells": [
  {
   "cell_type": "code",
   "execution_count": 1,
   "metadata": {
    "ExecuteTime": {
     "end_time": "2019-12-04T22:07:28.854515Z",
     "start_time": "2019-12-04T22:07:27.651897Z"
    }
   },
   "outputs": [],
   "source": [
    "import numpy as np\n",
    "import pandas as pd\n",
    "import seaborn as sns\n",
    "import matplotlib.pyplot as plt\n",
    "from datetime import date, timedelta\n",
    "from dateutil.relativedelta import relativedelta\n",
    "\n",
    "from IPython.display import display\n",
    "from calendar import monthrange"
   ]
  },
  {
   "cell_type": "code",
   "execution_count": 2,
   "metadata": {
    "ExecuteTime": {
     "end_time": "2019-12-04T22:07:28.873226Z",
     "start_time": "2019-12-04T22:07:28.857900Z"
    }
   },
   "outputs": [],
   "source": [
    "%run 'backtest.py'\n",
    "%run 'unconstrained_RB_portfolio_construction.py'"
   ]
  },
  {
   "cell_type": "markdown",
   "metadata": {},
   "source": [
    "# 0. Some notations."
   ]
  },
  {
   "cell_type": "markdown",
   "metadata": {},
   "source": [
    "- $n$: positive integer, number of assets in our universe.\n",
    "- $x$: $(n\\times1)$ vector, dollar holding of each asset. We assume that $\\text{GMV}=1$, i.e., $\\sum_{i=1}^nx_i=1$.\n",
    "- $b$: $(n\\times1)$ vector, risk budget in percentage, i.e., $\\sum_{i=1}^nb_i=1$.\n",
    "- $\\mu$: $(n\\times1)$ vector, estimated return of each ticker.\n",
    "- $\\Sigma$: $(n\\times n)$ matrix, estimated covariance matrix of tickers."
   ]
  },
  {
   "cell_type": "markdown",
   "metadata": {},
   "source": [
    "# 1. Import data."
   ]
  },
  {
   "cell_type": "code",
   "execution_count": 3,
   "metadata": {
    "ExecuteTime": {
     "end_time": "2019-12-04T22:07:29.778421Z",
     "start_time": "2019-12-04T22:07:28.877180Z"
    }
   },
   "outputs": [],
   "source": [
    "close_raw = pd.read_excel('/Users/zichaowang/OneDrive - The City University of New York/Baruch/2019 Fall Semester/capstone/data/adj_closes.xlsx', index_col=0)\n",
    "cap_raw = pd.read_excel('/Users/zichaowang/OneDrive - The City University of New York/Baruch/2019 Fall Semester/capstone/data/market_cap.xlsx', index_col=0)"
   ]
  },
  {
   "cell_type": "code",
   "execution_count": 4,
   "metadata": {
    "ExecuteTime": {
     "end_time": "2019-12-04T22:07:29.842604Z",
     "start_time": "2019-12-04T22:07:29.781733Z"
    }
   },
   "outputs": [
    {
     "name": "stdout",
     "output_type": "stream",
     "text": [
      "head of raw close:\n"
     ]
    },
    {
     "data": {
      "text/html": [
       "<div>\n",
       "<style scoped>\n",
       "    .dataframe tbody tr th:only-of-type {\n",
       "        vertical-align: middle;\n",
       "    }\n",
       "\n",
       "    .dataframe tbody tr th {\n",
       "        vertical-align: top;\n",
       "    }\n",
       "\n",
       "    .dataframe thead th {\n",
       "        text-align: right;\n",
       "    }\n",
       "</style>\n",
       "<table border=\"1\" class=\"dataframe\">\n",
       "  <thead>\n",
       "    <tr style=\"text-align: right;\">\n",
       "      <th></th>\n",
       "      <th>FB</th>\n",
       "      <th>GOOG</th>\n",
       "      <th>GOOGL</th>\n",
       "      <th>T</th>\n",
       "      <th>VZ</th>\n",
       "      <th>DIS</th>\n",
       "      <th>CMCSA</th>\n",
       "      <th>NFLX</th>\n",
       "      <th>AMZN</th>\n",
       "      <th>HD</th>\n",
       "      <th>...</th>\n",
       "      <th>MA</th>\n",
       "      <th>INTC</th>\n",
       "      <th>CSCO</th>\n",
       "      <th>ADBE</th>\n",
       "      <th>CRM</th>\n",
       "      <th>ORCL</th>\n",
       "      <th>IBM</th>\n",
       "      <th>ACN</th>\n",
       "      <th>PYPL</th>\n",
       "      <th>AVGO</th>\n",
       "    </tr>\n",
       "    <tr>\n",
       "      <th>Date</th>\n",
       "      <th></th>\n",
       "      <th></th>\n",
       "      <th></th>\n",
       "      <th></th>\n",
       "      <th></th>\n",
       "      <th></th>\n",
       "      <th></th>\n",
       "      <th></th>\n",
       "      <th></th>\n",
       "      <th></th>\n",
       "      <th></th>\n",
       "      <th></th>\n",
       "      <th></th>\n",
       "      <th></th>\n",
       "      <th></th>\n",
       "      <th></th>\n",
       "      <th></th>\n",
       "      <th></th>\n",
       "      <th></th>\n",
       "      <th></th>\n",
       "      <th></th>\n",
       "    </tr>\n",
       "  </thead>\n",
       "  <tbody>\n",
       "    <tr>\n",
       "      <td>2013-07-01</td>\n",
       "      <td>24.809999</td>\n",
       "      <td>442.282227</td>\n",
       "      <td>444.384399</td>\n",
       "      <td>24.853468</td>\n",
       "      <td>37.604179</td>\n",
       "      <td>58.466511</td>\n",
       "      <td>18.164701</td>\n",
       "      <td>32.040001</td>\n",
       "      <td>282.100006</td>\n",
       "      <td>66.952759</td>\n",
       "      <td>...</td>\n",
       "      <td>55.963364</td>\n",
       "      <td>19.760447</td>\n",
       "      <td>20.010237</td>\n",
       "      <td>46.240002</td>\n",
       "      <td>37.799999</td>\n",
       "      <td>27.309420</td>\n",
       "      <td>148.934998</td>\n",
       "      <td>62.600643</td>\n",
       "      <td>NaN</td>\n",
       "      <td>32.95216</td>\n",
       "    </tr>\n",
       "    <tr>\n",
       "      <td>2013-07-02</td>\n",
       "      <td>24.410000</td>\n",
       "      <td>439.507629</td>\n",
       "      <td>441.596588</td>\n",
       "      <td>25.015408</td>\n",
       "      <td>37.805790</td>\n",
       "      <td>57.853760</td>\n",
       "      <td>18.204906</td>\n",
       "      <td>31.637142</td>\n",
       "      <td>283.730011</td>\n",
       "      <td>67.335991</td>\n",
       "      <td>...</td>\n",
       "      <td>55.948971</td>\n",
       "      <td>19.619829</td>\n",
       "      <td>19.993795</td>\n",
       "      <td>46.029999</td>\n",
       "      <td>38.169998</td>\n",
       "      <td>27.300346</td>\n",
       "      <td>149.106339</td>\n",
       "      <td>62.618011</td>\n",
       "      <td>NaN</td>\n",
       "      <td>33.71442</td>\n",
       "    </tr>\n",
       "  </tbody>\n",
       "</table>\n",
       "<p>2 rows × 51 columns</p>\n",
       "</div>"
      ],
      "text/plain": [
       "                   FB        GOOG       GOOGL          T         VZ  \\\n",
       "Date                                                                  \n",
       "2013-07-01  24.809999  442.282227  444.384399  24.853468  37.604179   \n",
       "2013-07-02  24.410000  439.507629  441.596588  25.015408  37.805790   \n",
       "\n",
       "                  DIS      CMCSA       NFLX        AMZN         HD  ...  \\\n",
       "Date                                                                ...   \n",
       "2013-07-01  58.466511  18.164701  32.040001  282.100006  66.952759  ...   \n",
       "2013-07-02  57.853760  18.204906  31.637142  283.730011  67.335991  ...   \n",
       "\n",
       "                   MA       INTC       CSCO       ADBE        CRM       ORCL  \\\n",
       "Date                                                                           \n",
       "2013-07-01  55.963364  19.760447  20.010237  46.240002  37.799999  27.309420   \n",
       "2013-07-02  55.948971  19.619829  19.993795  46.029999  38.169998  27.300346   \n",
       "\n",
       "                   IBM        ACN  PYPL      AVGO  \n",
       "Date                                               \n",
       "2013-07-01  148.934998  62.600643   NaN  32.95216  \n",
       "2013-07-02  149.106339  62.618011   NaN  33.71442  \n",
       "\n",
       "[2 rows x 51 columns]"
      ]
     },
     "metadata": {},
     "output_type": "display_data"
    },
    {
     "name": "stdout",
     "output_type": "stream",
     "text": [
      "tail of raw close:\n"
     ]
    },
    {
     "data": {
      "text/html": [
       "<div>\n",
       "<style scoped>\n",
       "    .dataframe tbody tr th:only-of-type {\n",
       "        vertical-align: middle;\n",
       "    }\n",
       "\n",
       "    .dataframe tbody tr th {\n",
       "        vertical-align: top;\n",
       "    }\n",
       "\n",
       "    .dataframe thead th {\n",
       "        text-align: right;\n",
       "    }\n",
       "</style>\n",
       "<table border=\"1\" class=\"dataframe\">\n",
       "  <thead>\n",
       "    <tr style=\"text-align: right;\">\n",
       "      <th></th>\n",
       "      <th>FB</th>\n",
       "      <th>GOOG</th>\n",
       "      <th>GOOGL</th>\n",
       "      <th>T</th>\n",
       "      <th>VZ</th>\n",
       "      <th>DIS</th>\n",
       "      <th>CMCSA</th>\n",
       "      <th>NFLX</th>\n",
       "      <th>AMZN</th>\n",
       "      <th>HD</th>\n",
       "      <th>...</th>\n",
       "      <th>MA</th>\n",
       "      <th>INTC</th>\n",
       "      <th>CSCO</th>\n",
       "      <th>ADBE</th>\n",
       "      <th>CRM</th>\n",
       "      <th>ORCL</th>\n",
       "      <th>IBM</th>\n",
       "      <th>ACN</th>\n",
       "      <th>PYPL</th>\n",
       "      <th>AVGO</th>\n",
       "    </tr>\n",
       "    <tr>\n",
       "      <th>Date</th>\n",
       "      <th></th>\n",
       "      <th></th>\n",
       "      <th></th>\n",
       "      <th></th>\n",
       "      <th></th>\n",
       "      <th></th>\n",
       "      <th></th>\n",
       "      <th></th>\n",
       "      <th></th>\n",
       "      <th></th>\n",
       "      <th></th>\n",
       "      <th></th>\n",
       "      <th></th>\n",
       "      <th></th>\n",
       "      <th></th>\n",
       "      <th></th>\n",
       "      <th></th>\n",
       "      <th></th>\n",
       "      <th></th>\n",
       "      <th></th>\n",
       "      <th></th>\n",
       "    </tr>\n",
       "  </thead>\n",
       "  <tbody>\n",
       "    <tr>\n",
       "      <td>2019-06-28</td>\n",
       "      <td>193.0</td>\n",
       "      <td>1080.910034</td>\n",
       "      <td>1082.800049</td>\n",
       "      <td>32.561829</td>\n",
       "      <td>55.952717</td>\n",
       "      <td>138.780548</td>\n",
       "      <td>41.876125</td>\n",
       "      <td>367.320007</td>\n",
       "      <td>1893.630005</td>\n",
       "      <td>206.707718</td>\n",
       "      <td>...</td>\n",
       "      <td>263.888916</td>\n",
       "      <td>47.288704</td>\n",
       "      <td>53.977940</td>\n",
       "      <td>294.649994</td>\n",
       "      <td>151.729996</td>\n",
       "      <td>56.488377</td>\n",
       "      <td>134.703110</td>\n",
       "      <td>183.979553</td>\n",
       "      <td>114.459999</td>\n",
       "      <td>285.235352</td>\n",
       "    </tr>\n",
       "    <tr>\n",
       "      <td>2019-07-01</td>\n",
       "      <td>193.0</td>\n",
       "      <td>1097.949951</td>\n",
       "      <td>1100.000000</td>\n",
       "      <td>32.484093</td>\n",
       "      <td>55.492397</td>\n",
       "      <td>140.778183</td>\n",
       "      <td>42.302013</td>\n",
       "      <td>374.600006</td>\n",
       "      <td>1922.189941</td>\n",
       "      <td>209.003693</td>\n",
       "      <td>...</td>\n",
       "      <td>266.123474</td>\n",
       "      <td>47.466518</td>\n",
       "      <td>53.987801</td>\n",
       "      <td>300.970001</td>\n",
       "      <td>154.059998</td>\n",
       "      <td>57.519581</td>\n",
       "      <td>136.637207</td>\n",
       "      <td>186.070557</td>\n",
       "      <td>115.029999</td>\n",
       "      <td>297.611481</td>\n",
       "    </tr>\n",
       "  </tbody>\n",
       "</table>\n",
       "<p>2 rows × 51 columns</p>\n",
       "</div>"
      ],
      "text/plain": [
       "               FB         GOOG        GOOGL          T         VZ         DIS  \\\n",
       "Date                                                                            \n",
       "2019-06-28  193.0  1080.910034  1082.800049  32.561829  55.952717  138.780548   \n",
       "2019-07-01  193.0  1097.949951  1100.000000  32.484093  55.492397  140.778183   \n",
       "\n",
       "                CMCSA        NFLX         AMZN          HD  ...          MA  \\\n",
       "Date                                                        ...               \n",
       "2019-06-28  41.876125  367.320007  1893.630005  206.707718  ...  263.888916   \n",
       "2019-07-01  42.302013  374.600006  1922.189941  209.003693  ...  266.123474   \n",
       "\n",
       "                 INTC       CSCO        ADBE         CRM       ORCL  \\\n",
       "Date                                                                  \n",
       "2019-06-28  47.288704  53.977940  294.649994  151.729996  56.488377   \n",
       "2019-07-01  47.466518  53.987801  300.970001  154.059998  57.519581   \n",
       "\n",
       "                   IBM         ACN        PYPL        AVGO  \n",
       "Date                                                        \n",
       "2019-06-28  134.703110  183.979553  114.459999  285.235352  \n",
       "2019-07-01  136.637207  186.070557  115.029999  297.611481  \n",
       "\n",
       "[2 rows x 51 columns]"
      ]
     },
     "metadata": {},
     "output_type": "display_data"
    }
   ],
   "source": [
    "print('head of raw close:')\n",
    "display(close_raw.head(2))\n",
    "print('tail of raw close:')\n",
    "display(close_raw.tail(2))"
   ]
  },
  {
   "cell_type": "markdown",
   "metadata": {},
   "source": [
    "Transpose cap dataframe to make it day by asset."
   ]
  },
  {
   "cell_type": "code",
   "execution_count": 5,
   "metadata": {
    "ExecuteTime": {
     "end_time": "2019-12-04T22:07:29.861709Z",
     "start_time": "2019-12-04T22:07:29.850257Z"
    }
   },
   "outputs": [],
   "source": [
    "cap_raw = pd.DataFrame(cap_raw.values.T, index=cap_raw.columns, columns=cap_raw.index)"
   ]
  },
  {
   "cell_type": "code",
   "execution_count": 6,
   "metadata": {
    "ExecuteTime": {
     "end_time": "2019-12-04T22:07:29.896641Z",
     "start_time": "2019-12-04T22:07:29.865060Z"
    }
   },
   "outputs": [
    {
     "data": {
      "text/html": [
       "<div>\n",
       "<style scoped>\n",
       "    .dataframe tbody tr th:only-of-type {\n",
       "        vertical-align: middle;\n",
       "    }\n",
       "\n",
       "    .dataframe tbody tr th {\n",
       "        vertical-align: top;\n",
       "    }\n",
       "\n",
       "    .dataframe thead th {\n",
       "        text-align: right;\n",
       "    }\n",
       "</style>\n",
       "<table border=\"1\" class=\"dataframe\">\n",
       "  <thead>\n",
       "    <tr style=\"text-align: right;\">\n",
       "      <th>HoldingsTicker</th>\n",
       "      <th>FB</th>\n",
       "      <th>GOOGL</th>\n",
       "      <th>T</th>\n",
       "      <th>VZ</th>\n",
       "      <th>DIS</th>\n",
       "      <th>CMCSA</th>\n",
       "      <th>NFLX</th>\n",
       "      <th>AMZN</th>\n",
       "      <th>HD</th>\n",
       "      <th>MCD</th>\n",
       "      <th>...</th>\n",
       "      <th>MA</th>\n",
       "      <th>INTC</th>\n",
       "      <th>CSCO</th>\n",
       "      <th>ADBE</th>\n",
       "      <th>CRM</th>\n",
       "      <th>ORCL</th>\n",
       "      <th>IBM</th>\n",
       "      <th>ACN</th>\n",
       "      <th>PYPL</th>\n",
       "      <th>AVGO</th>\n",
       "    </tr>\n",
       "  </thead>\n",
       "  <tbody>\n",
       "    <tr>\n",
       "      <td>2014-06-30</td>\n",
       "      <td>217.51</td>\n",
       "      <td>359.98</td>\n",
       "      <td>183.52</td>\n",
       "      <td>202.63</td>\n",
       "      <td>148.49</td>\n",
       "      <td>139.56</td>\n",
       "      <td>26.41</td>\n",
       "      <td>149.45</td>\n",
       "      <td>109.45</td>\n",
       "      <td>99.57</td>\n",
       "      <td>...</td>\n",
       "      <td>85.84</td>\n",
       "      <td>179.77</td>\n",
       "      <td>132.78</td>\n",
       "      <td>36.75</td>\n",
       "      <td>33.31</td>\n",
       "      <td>187.14</td>\n",
       "      <td>183.48</td>\n",
       "      <td>65.90</td>\n",
       "      <td>44.74</td>\n",
       "      <td>16.05</td>\n",
       "    </tr>\n",
       "    <tr>\n",
       "      <td>2015-06-30</td>\n",
       "      <td>295.98</td>\n",
       "      <td>535.06</td>\n",
       "      <td>184.46</td>\n",
       "      <td>190.10</td>\n",
       "      <td>191.82</td>\n",
       "      <td>151.16</td>\n",
       "      <td>39.82</td>\n",
       "      <td>202.15</td>\n",
       "      <td>151.84</td>\n",
       "      <td>91.13</td>\n",
       "      <td>...</td>\n",
       "      <td>106.59</td>\n",
       "      <td>164.83</td>\n",
       "      <td>143.47</td>\n",
       "      <td>45.97</td>\n",
       "      <td>48.08</td>\n",
       "      <td>191.23</td>\n",
       "      <td>160.18</td>\n",
       "      <td>77.66</td>\n",
       "      <td>44.23</td>\n",
       "      <td>31.09</td>\n",
       "    </tr>\n",
       "    <tr>\n",
       "      <td>2016-06-30</td>\n",
       "      <td>336.81</td>\n",
       "      <td>556.91</td>\n",
       "      <td>266.00</td>\n",
       "      <td>227.62</td>\n",
       "      <td>158.45</td>\n",
       "      <td>158.23</td>\n",
       "      <td>39.18</td>\n",
       "      <td>337.65</td>\n",
       "      <td>172.63</td>\n",
       "      <td>105.64</td>\n",
       "      <td>...</td>\n",
       "      <td>96.78</td>\n",
       "      <td>173.45</td>\n",
       "      <td>154.56</td>\n",
       "      <td>49.59</td>\n",
       "      <td>54.89</td>\n",
       "      <td>166.82</td>\n",
       "      <td>145.70</td>\n",
       "      <td>96.27</td>\n",
       "      <td>48.57</td>\n",
       "      <td>64.67</td>\n",
       "    </tr>\n",
       "    <tr>\n",
       "      <td>2017-06-30</td>\n",
       "      <td>527.17</td>\n",
       "      <td>745.67</td>\n",
       "      <td>231.96</td>\n",
       "      <td>182.18</td>\n",
       "      <td>168.16</td>\n",
       "      <td>184.60</td>\n",
       "      <td>64.39</td>\n",
       "      <td>462.68</td>\n",
       "      <td>178.86</td>\n",
       "      <td>124.84</td>\n",
       "      <td>...</td>\n",
       "      <td>130.18</td>\n",
       "      <td>219.26</td>\n",
       "      <td>157.25</td>\n",
       "      <td>88.49</td>\n",
       "      <td>64.67</td>\n",
       "      <td>186.77</td>\n",
       "      <td>144.52</td>\n",
       "      <td>89.56</td>\n",
       "      <td>88.75</td>\n",
       "      <td>100.29</td>\n",
       "    </tr>\n",
       "    <tr>\n",
       "      <td>2018-06-29</td>\n",
       "      <td>376.72</td>\n",
       "      <td>726.73</td>\n",
       "      <td>197.80</td>\n",
       "      <td>208.33</td>\n",
       "      <td>157.00</td>\n",
       "      <td>153.15</td>\n",
       "      <td>173.07</td>\n",
       "      <td>831.57</td>\n",
       "      <td>227.57</td>\n",
       "      <td>123.17</td>\n",
       "      <td>...</td>\n",
       "      <td>206.36</td>\n",
       "      <td>214.19</td>\n",
       "      <td>198.32</td>\n",
       "      <td>122.47</td>\n",
       "      <td>88.50</td>\n",
       "      <td>190.73</td>\n",
       "      <td>128.39</td>\n",
       "      <td>114.07</td>\n",
       "      <td>99.09</td>\n",
       "      <td>96.92</td>\n",
       "    </tr>\n",
       "  </tbody>\n",
       "</table>\n",
       "<p>5 rows × 50 columns</p>\n",
       "</div>"
      ],
      "text/plain": [
       "HoldingsTicker     FB   GOOGL       T      VZ     DIS   CMCSA    NFLX   \\\n",
       "2014-06-30      217.51  359.98  183.52  202.63  148.49  139.56   26.41   \n",
       "2015-06-30      295.98  535.06  184.46  190.10  191.82  151.16   39.82   \n",
       "2016-06-30      336.81  556.91  266.00  227.62  158.45  158.23   39.18   \n",
       "2017-06-30      527.17  745.67  231.96  182.18  168.16  184.60   64.39   \n",
       "2018-06-29      376.72  726.73  197.80  208.33  157.00  153.15  173.07   \n",
       "\n",
       "HoldingsTicker   AMZN      HD     MCD   ...     MA    INTC    CSCO    ADBE   \\\n",
       "2014-06-30      149.45  109.45   99.57  ...   85.84  179.77  132.78   36.75   \n",
       "2015-06-30      202.15  151.84   91.13  ...  106.59  164.83  143.47   45.97   \n",
       "2016-06-30      337.65  172.63  105.64  ...   96.78  173.45  154.56   49.59   \n",
       "2017-06-30      462.68  178.86  124.84  ...  130.18  219.26  157.25   88.49   \n",
       "2018-06-29      831.57  227.57  123.17  ...  206.36  214.19  198.32  122.47   \n",
       "\n",
       "HoldingsTicker   CRM    ORCL     IBM     ACN   PYPL    AVGO   \n",
       "2014-06-30      33.31  187.14  183.48   65.90  44.74   16.05  \n",
       "2015-06-30      48.08  191.23  160.18   77.66  44.23   31.09  \n",
       "2016-06-30      54.89  166.82  145.70   96.27  48.57   64.67  \n",
       "2017-06-30      64.67  186.77  144.52   89.56  88.75  100.29  \n",
       "2018-06-29      88.50  190.73  128.39  114.07  99.09   96.92  \n",
       "\n",
       "[5 rows x 50 columns]"
      ]
     },
     "execution_count": 6,
     "metadata": {},
     "output_type": "execute_result"
    }
   ],
   "source": [
    "cap_raw"
   ]
  },
  {
   "cell_type": "markdown",
   "metadata": {},
   "source": [
    "Since cap data only starts from 2014-06-30, we\n",
    "\n",
    "- use close data since 2015 as research data;\n",
    "- use close data in 2014 as burn-in data (to calibrate covariance matrix which we will use in 2015).\n",
    "\n",
    "We also need to\n",
    "- drop the 'GOOG' column since it does not exist in close;\n",
    "- drop the \"PYPL' column since there are some np.nans in it."
   ]
  },
  {
   "cell_type": "code",
   "execution_count": 7,
   "metadata": {
    "ExecuteTime": {
     "end_time": "2019-12-04T22:07:29.912183Z",
     "start_time": "2019-12-04T22:07:29.900724Z"
    }
   },
   "outputs": [],
   "source": [
    "close = close_raw['2015':].drop(labels=['GOOG', 'PYPL'], axis=1)\n",
    "close_burn_in = close_raw['2014'].drop(labels=['GOOG', 'PYPL'], axis=1)"
   ]
  },
  {
   "cell_type": "code",
   "execution_count": 8,
   "metadata": {
    "ExecuteTime": {
     "end_time": "2019-12-04T22:07:29.974869Z",
     "start_time": "2019-12-04T22:07:29.916973Z"
    }
   },
   "outputs": [
    {
     "name": "stdout",
     "output_type": "stream",
     "text": [
      "head of close data:\n"
     ]
    },
    {
     "data": {
      "text/html": [
       "<div>\n",
       "<style scoped>\n",
       "    .dataframe tbody tr th:only-of-type {\n",
       "        vertical-align: middle;\n",
       "    }\n",
       "\n",
       "    .dataframe tbody tr th {\n",
       "        vertical-align: top;\n",
       "    }\n",
       "\n",
       "    .dataframe thead th {\n",
       "        text-align: right;\n",
       "    }\n",
       "</style>\n",
       "<table border=\"1\" class=\"dataframe\">\n",
       "  <thead>\n",
       "    <tr style=\"text-align: right;\">\n",
       "      <th></th>\n",
       "      <th>FB</th>\n",
       "      <th>GOOGL</th>\n",
       "      <th>T</th>\n",
       "      <th>VZ</th>\n",
       "      <th>DIS</th>\n",
       "      <th>CMCSA</th>\n",
       "      <th>NFLX</th>\n",
       "      <th>AMZN</th>\n",
       "      <th>HD</th>\n",
       "      <th>MCD</th>\n",
       "      <th>...</th>\n",
       "      <th>V</th>\n",
       "      <th>MA</th>\n",
       "      <th>INTC</th>\n",
       "      <th>CSCO</th>\n",
       "      <th>ADBE</th>\n",
       "      <th>CRM</th>\n",
       "      <th>ORCL</th>\n",
       "      <th>IBM</th>\n",
       "      <th>ACN</th>\n",
       "      <th>AVGO</th>\n",
       "    </tr>\n",
       "    <tr>\n",
       "      <th>Date</th>\n",
       "      <th></th>\n",
       "      <th></th>\n",
       "      <th></th>\n",
       "      <th></th>\n",
       "      <th></th>\n",
       "      <th></th>\n",
       "      <th></th>\n",
       "      <th></th>\n",
       "      <th></th>\n",
       "      <th></th>\n",
       "      <th></th>\n",
       "      <th></th>\n",
       "      <th></th>\n",
       "      <th></th>\n",
       "      <th></th>\n",
       "      <th></th>\n",
       "      <th></th>\n",
       "      <th></th>\n",
       "      <th></th>\n",
       "      <th></th>\n",
       "      <th></th>\n",
       "    </tr>\n",
       "  </thead>\n",
       "  <tbody>\n",
       "    <tr>\n",
       "      <td>2015-01-02</td>\n",
       "      <td>78.449997</td>\n",
       "      <td>529.549988</td>\n",
       "      <td>25.786736</td>\n",
       "      <td>37.423592</td>\n",
       "      <td>87.899757</td>\n",
       "      <td>26.164961</td>\n",
       "      <td>49.848572</td>\n",
       "      <td>308.519989</td>\n",
       "      <td>92.971001</td>\n",
       "      <td>81.714760</td>\n",
       "      <td>...</td>\n",
       "      <td>63.518238</td>\n",
       "      <td>82.850563</td>\n",
       "      <td>31.625349</td>\n",
       "      <td>23.754028</td>\n",
       "      <td>72.339996</td>\n",
       "      <td>59.240002</td>\n",
       "      <td>41.001865</td>\n",
       "      <td>130.591095</td>\n",
       "      <td>80.170738</td>\n",
       "      <td>90.019257</td>\n",
       "    </tr>\n",
       "    <tr>\n",
       "      <td>2015-01-05</td>\n",
       "      <td>77.190002</td>\n",
       "      <td>519.460022</td>\n",
       "      <td>25.543106</td>\n",
       "      <td>37.112793</td>\n",
       "      <td>86.615250</td>\n",
       "      <td>25.631353</td>\n",
       "      <td>47.311428</td>\n",
       "      <td>302.190002</td>\n",
       "      <td>91.020462</td>\n",
       "      <td>80.812263</td>\n",
       "      <td>...</td>\n",
       "      <td>62.116177</td>\n",
       "      <td>80.520157</td>\n",
       "      <td>31.268734</td>\n",
       "      <td>23.280836</td>\n",
       "      <td>71.980003</td>\n",
       "      <td>58.169998</td>\n",
       "      <td>40.426842</td>\n",
       "      <td>128.536270</td>\n",
       "      <td>78.817101</td>\n",
       "      <td>88.580238</td>\n",
       "    </tr>\n",
       "  </tbody>\n",
       "</table>\n",
       "<p>2 rows × 49 columns</p>\n",
       "</div>"
      ],
      "text/plain": [
       "                   FB       GOOGL          T         VZ        DIS      CMCSA  \\\n",
       "Date                                                                            \n",
       "2015-01-02  78.449997  529.549988  25.786736  37.423592  87.899757  26.164961   \n",
       "2015-01-05  77.190002  519.460022  25.543106  37.112793  86.615250  25.631353   \n",
       "\n",
       "                 NFLX        AMZN         HD        MCD  ...          V  \\\n",
       "Date                                                     ...              \n",
       "2015-01-02  49.848572  308.519989  92.971001  81.714760  ...  63.518238   \n",
       "2015-01-05  47.311428  302.190002  91.020462  80.812263  ...  62.116177   \n",
       "\n",
       "                   MA       INTC       CSCO       ADBE        CRM       ORCL  \\\n",
       "Date                                                                           \n",
       "2015-01-02  82.850563  31.625349  23.754028  72.339996  59.240002  41.001865   \n",
       "2015-01-05  80.520157  31.268734  23.280836  71.980003  58.169998  40.426842   \n",
       "\n",
       "                   IBM        ACN       AVGO  \n",
       "Date                                          \n",
       "2015-01-02  130.591095  80.170738  90.019257  \n",
       "2015-01-05  128.536270  78.817101  88.580238  \n",
       "\n",
       "[2 rows x 49 columns]"
      ]
     },
     "metadata": {},
     "output_type": "display_data"
    },
    {
     "name": "stdout",
     "output_type": "stream",
     "text": [
      "tail of burn-in close data:\n"
     ]
    },
    {
     "data": {
      "text/html": [
       "<div>\n",
       "<style scoped>\n",
       "    .dataframe tbody tr th:only-of-type {\n",
       "        vertical-align: middle;\n",
       "    }\n",
       "\n",
       "    .dataframe tbody tr th {\n",
       "        vertical-align: top;\n",
       "    }\n",
       "\n",
       "    .dataframe thead th {\n",
       "        text-align: right;\n",
       "    }\n",
       "</style>\n",
       "<table border=\"1\" class=\"dataframe\">\n",
       "  <thead>\n",
       "    <tr style=\"text-align: right;\">\n",
       "      <th></th>\n",
       "      <th>FB</th>\n",
       "      <th>GOOGL</th>\n",
       "      <th>T</th>\n",
       "      <th>VZ</th>\n",
       "      <th>DIS</th>\n",
       "      <th>CMCSA</th>\n",
       "      <th>NFLX</th>\n",
       "      <th>AMZN</th>\n",
       "      <th>HD</th>\n",
       "      <th>MCD</th>\n",
       "      <th>...</th>\n",
       "      <th>V</th>\n",
       "      <th>MA</th>\n",
       "      <th>INTC</th>\n",
       "      <th>CSCO</th>\n",
       "      <th>ADBE</th>\n",
       "      <th>CRM</th>\n",
       "      <th>ORCL</th>\n",
       "      <th>IBM</th>\n",
       "      <th>ACN</th>\n",
       "      <th>AVGO</th>\n",
       "    </tr>\n",
       "    <tr>\n",
       "      <th>Date</th>\n",
       "      <th></th>\n",
       "      <th></th>\n",
       "      <th></th>\n",
       "      <th></th>\n",
       "      <th></th>\n",
       "      <th></th>\n",
       "      <th></th>\n",
       "      <th></th>\n",
       "      <th></th>\n",
       "      <th></th>\n",
       "      <th></th>\n",
       "      <th></th>\n",
       "      <th></th>\n",
       "      <th></th>\n",
       "      <th></th>\n",
       "      <th></th>\n",
       "      <th></th>\n",
       "      <th></th>\n",
       "      <th></th>\n",
       "      <th></th>\n",
       "      <th></th>\n",
       "    </tr>\n",
       "  </thead>\n",
       "  <tbody>\n",
       "    <tr>\n",
       "      <td>2014-12-30</td>\n",
       "      <td>79.220001</td>\n",
       "      <td>535.280029</td>\n",
       "      <td>25.946621</td>\n",
       "      <td>37.718464</td>\n",
       "      <td>88.790459</td>\n",
       "      <td>26.858433</td>\n",
       "      <td>49.032856</td>\n",
       "      <td>310.299988</td>\n",
       "      <td>93.726051</td>\n",
       "      <td>82.582207</td>\n",
       "      <td>...</td>\n",
       "      <td>63.405605</td>\n",
       "      <td>84.097977</td>\n",
       "      <td>31.973257</td>\n",
       "      <td>24.232641</td>\n",
       "      <td>73.080002</td>\n",
       "      <td>59.430000</td>\n",
       "      <td>41.936035</td>\n",
       "      <td>128.971390</td>\n",
       "      <td>81.388992</td>\n",
       "      <td>90.702797</td>\n",
       "    </tr>\n",
       "    <tr>\n",
       "      <td>2014-12-31</td>\n",
       "      <td>78.019997</td>\n",
       "      <td>530.659973</td>\n",
       "      <td>25.573561</td>\n",
       "      <td>37.280140</td>\n",
       "      <td>88.312309</td>\n",
       "      <td>26.466070</td>\n",
       "      <td>48.801430</td>\n",
       "      <td>310.350006</td>\n",
       "      <td>94.355286</td>\n",
       "      <td>82.100273</td>\n",
       "      <td>...</td>\n",
       "      <td>62.842369</td>\n",
       "      <td>83.314720</td>\n",
       "      <td>31.564465</td>\n",
       "      <td>23.771229</td>\n",
       "      <td>72.699997</td>\n",
       "      <td>59.310001</td>\n",
       "      <td>41.593811</td>\n",
       "      <td>129.285675</td>\n",
       "      <td>80.594864</td>\n",
       "      <td>90.468941</td>\n",
       "    </tr>\n",
       "  </tbody>\n",
       "</table>\n",
       "<p>2 rows × 49 columns</p>\n",
       "</div>"
      ],
      "text/plain": [
       "                   FB       GOOGL          T         VZ        DIS      CMCSA  \\\n",
       "Date                                                                            \n",
       "2014-12-30  79.220001  535.280029  25.946621  37.718464  88.790459  26.858433   \n",
       "2014-12-31  78.019997  530.659973  25.573561  37.280140  88.312309  26.466070   \n",
       "\n",
       "                 NFLX        AMZN         HD        MCD  ...          V  \\\n",
       "Date                                                     ...              \n",
       "2014-12-30  49.032856  310.299988  93.726051  82.582207  ...  63.405605   \n",
       "2014-12-31  48.801430  310.350006  94.355286  82.100273  ...  62.842369   \n",
       "\n",
       "                   MA       INTC       CSCO       ADBE        CRM       ORCL  \\\n",
       "Date                                                                           \n",
       "2014-12-30  84.097977  31.973257  24.232641  73.080002  59.430000  41.936035   \n",
       "2014-12-31  83.314720  31.564465  23.771229  72.699997  59.310001  41.593811   \n",
       "\n",
       "                   IBM        ACN       AVGO  \n",
       "Date                                          \n",
       "2014-12-30  128.971390  81.388992  90.702797  \n",
       "2014-12-31  129.285675  80.594864  90.468941  \n",
       "\n",
       "[2 rows x 49 columns]"
      ]
     },
     "metadata": {},
     "output_type": "display_data"
    }
   ],
   "source": [
    "print('head of close data:')\n",
    "display(close.head(2))\n",
    "print('tail of burn-in close data:')\n",
    "display(close_burn_in.tail(2))"
   ]
  },
  {
   "cell_type": "markdown",
   "metadata": {},
   "source": [
    "Reindex cap to make the indices for close price and cap same.\n",
    "\n",
    "Also there is an extra space for each ticker name in cap_raw, we need to exclude it."
   ]
  },
  {
   "cell_type": "code",
   "execution_count": 9,
   "metadata": {
    "ExecuteTime": {
     "end_time": "2019-12-04T22:07:29.989610Z",
     "start_time": "2019-12-04T22:07:29.979140Z"
    }
   },
   "outputs": [],
   "source": [
    "cap_raw.columns = [ticker[:-1] for ticker in cap_raw.columns]\n",
    "cap = cap_raw.drop(columns=['PYPL']).reindex(index=close_raw.index, fill_value=np.nan).ffill()['2015':]"
   ]
  },
  {
   "cell_type": "code",
   "execution_count": 10,
   "metadata": {
    "ExecuteTime": {
     "end_time": "2019-12-04T22:07:30.064509Z",
     "start_time": "2019-12-04T22:07:29.993413Z"
    }
   },
   "outputs": [
    {
     "name": "stdout",
     "output_type": "stream",
     "text": [
      "head of cap data:\n"
     ]
    },
    {
     "data": {
      "text/html": [
       "<div>\n",
       "<style scoped>\n",
       "    .dataframe tbody tr th:only-of-type {\n",
       "        vertical-align: middle;\n",
       "    }\n",
       "\n",
       "    .dataframe tbody tr th {\n",
       "        vertical-align: top;\n",
       "    }\n",
       "\n",
       "    .dataframe thead th {\n",
       "        text-align: right;\n",
       "    }\n",
       "</style>\n",
       "<table border=\"1\" class=\"dataframe\">\n",
       "  <thead>\n",
       "    <tr style=\"text-align: right;\">\n",
       "      <th></th>\n",
       "      <th>FB</th>\n",
       "      <th>GOOGL</th>\n",
       "      <th>T</th>\n",
       "      <th>VZ</th>\n",
       "      <th>DIS</th>\n",
       "      <th>CMCSA</th>\n",
       "      <th>NFLX</th>\n",
       "      <th>AMZN</th>\n",
       "      <th>HD</th>\n",
       "      <th>MCD</th>\n",
       "      <th>...</th>\n",
       "      <th>V</th>\n",
       "      <th>MA</th>\n",
       "      <th>INTC</th>\n",
       "      <th>CSCO</th>\n",
       "      <th>ADBE</th>\n",
       "      <th>CRM</th>\n",
       "      <th>ORCL</th>\n",
       "      <th>IBM</th>\n",
       "      <th>ACN</th>\n",
       "      <th>AVGO</th>\n",
       "    </tr>\n",
       "    <tr>\n",
       "      <th>Date</th>\n",
       "      <th></th>\n",
       "      <th></th>\n",
       "      <th></th>\n",
       "      <th></th>\n",
       "      <th></th>\n",
       "      <th></th>\n",
       "      <th></th>\n",
       "      <th></th>\n",
       "      <th></th>\n",
       "      <th></th>\n",
       "      <th></th>\n",
       "      <th></th>\n",
       "      <th></th>\n",
       "      <th></th>\n",
       "      <th></th>\n",
       "      <th></th>\n",
       "      <th></th>\n",
       "      <th></th>\n",
       "      <th></th>\n",
       "      <th></th>\n",
       "      <th></th>\n",
       "    </tr>\n",
       "  </thead>\n",
       "  <tbody>\n",
       "    <tr>\n",
       "      <td>2015-01-02</td>\n",
       "      <td>217.51</td>\n",
       "      <td>359.98</td>\n",
       "      <td>183.52</td>\n",
       "      <td>202.63</td>\n",
       "      <td>148.49</td>\n",
       "      <td>139.56</td>\n",
       "      <td>26.41</td>\n",
       "      <td>149.45</td>\n",
       "      <td>109.45</td>\n",
       "      <td>99.57</td>\n",
       "      <td>...</td>\n",
       "      <td>163.31</td>\n",
       "      <td>85.84</td>\n",
       "      <td>179.77</td>\n",
       "      <td>132.78</td>\n",
       "      <td>36.75</td>\n",
       "      <td>33.31</td>\n",
       "      <td>187.14</td>\n",
       "      <td>183.48</td>\n",
       "      <td>65.9</td>\n",
       "      <td>16.05</td>\n",
       "    </tr>\n",
       "    <tr>\n",
       "      <td>2015-01-05</td>\n",
       "      <td>217.51</td>\n",
       "      <td>359.98</td>\n",
       "      <td>183.52</td>\n",
       "      <td>202.63</td>\n",
       "      <td>148.49</td>\n",
       "      <td>139.56</td>\n",
       "      <td>26.41</td>\n",
       "      <td>149.45</td>\n",
       "      <td>109.45</td>\n",
       "      <td>99.57</td>\n",
       "      <td>...</td>\n",
       "      <td>163.31</td>\n",
       "      <td>85.84</td>\n",
       "      <td>179.77</td>\n",
       "      <td>132.78</td>\n",
       "      <td>36.75</td>\n",
       "      <td>33.31</td>\n",
       "      <td>187.14</td>\n",
       "      <td>183.48</td>\n",
       "      <td>65.9</td>\n",
       "      <td>16.05</td>\n",
       "    </tr>\n",
       "  </tbody>\n",
       "</table>\n",
       "<p>2 rows × 49 columns</p>\n",
       "</div>"
      ],
      "text/plain": [
       "                FB   GOOGL       T      VZ     DIS   CMCSA   NFLX    AMZN  \\\n",
       "Date                                                                        \n",
       "2015-01-02  217.51  359.98  183.52  202.63  148.49  139.56  26.41  149.45   \n",
       "2015-01-05  217.51  359.98  183.52  202.63  148.49  139.56  26.41  149.45   \n",
       "\n",
       "                HD    MCD  ...       V     MA    INTC    CSCO   ADBE    CRM  \\\n",
       "Date                       ...                                                \n",
       "2015-01-02  109.45  99.57  ...  163.31  85.84  179.77  132.78  36.75  33.31   \n",
       "2015-01-05  109.45  99.57  ...  163.31  85.84  179.77  132.78  36.75  33.31   \n",
       "\n",
       "              ORCL     IBM   ACN   AVGO  \n",
       "Date                                     \n",
       "2015-01-02  187.14  183.48  65.9  16.05  \n",
       "2015-01-05  187.14  183.48  65.9  16.05  \n",
       "\n",
       "[2 rows x 49 columns]"
      ]
     },
     "metadata": {},
     "output_type": "display_data"
    },
    {
     "name": "stdout",
     "output_type": "stream",
     "text": [
      "tail of cap data:\n"
     ]
    },
    {
     "data": {
      "text/html": [
       "<div>\n",
       "<style scoped>\n",
       "    .dataframe tbody tr th:only-of-type {\n",
       "        vertical-align: middle;\n",
       "    }\n",
       "\n",
       "    .dataframe tbody tr th {\n",
       "        vertical-align: top;\n",
       "    }\n",
       "\n",
       "    .dataframe thead th {\n",
       "        text-align: right;\n",
       "    }\n",
       "</style>\n",
       "<table border=\"1\" class=\"dataframe\">\n",
       "  <thead>\n",
       "    <tr style=\"text-align: right;\">\n",
       "      <th></th>\n",
       "      <th>FB</th>\n",
       "      <th>GOOGL</th>\n",
       "      <th>T</th>\n",
       "      <th>VZ</th>\n",
       "      <th>DIS</th>\n",
       "      <th>CMCSA</th>\n",
       "      <th>NFLX</th>\n",
       "      <th>AMZN</th>\n",
       "      <th>HD</th>\n",
       "      <th>MCD</th>\n",
       "      <th>...</th>\n",
       "      <th>V</th>\n",
       "      <th>MA</th>\n",
       "      <th>INTC</th>\n",
       "      <th>CSCO</th>\n",
       "      <th>ADBE</th>\n",
       "      <th>CRM</th>\n",
       "      <th>ORCL</th>\n",
       "      <th>IBM</th>\n",
       "      <th>ACN</th>\n",
       "      <th>AVGO</th>\n",
       "    </tr>\n",
       "    <tr>\n",
       "      <th>Date</th>\n",
       "      <th></th>\n",
       "      <th></th>\n",
       "      <th></th>\n",
       "      <th></th>\n",
       "      <th></th>\n",
       "      <th></th>\n",
       "      <th></th>\n",
       "      <th></th>\n",
       "      <th></th>\n",
       "      <th></th>\n",
       "      <th></th>\n",
       "      <th></th>\n",
       "      <th></th>\n",
       "      <th></th>\n",
       "      <th></th>\n",
       "      <th></th>\n",
       "      <th></th>\n",
       "      <th></th>\n",
       "      <th></th>\n",
       "      <th></th>\n",
       "      <th></th>\n",
       "    </tr>\n",
       "  </thead>\n",
       "  <tbody>\n",
       "    <tr>\n",
       "      <td>2019-06-28</td>\n",
       "      <td>376.72</td>\n",
       "      <td>726.73</td>\n",
       "      <td>197.8</td>\n",
       "      <td>208.33</td>\n",
       "      <td>157.0</td>\n",
       "      <td>153.15</td>\n",
       "      <td>173.07</td>\n",
       "      <td>831.57</td>\n",
       "      <td>227.57</td>\n",
       "      <td>123.17</td>\n",
       "      <td>...</td>\n",
       "      <td>306.74</td>\n",
       "      <td>206.36</td>\n",
       "      <td>214.19</td>\n",
       "      <td>198.32</td>\n",
       "      <td>122.47</td>\n",
       "      <td>88.5</td>\n",
       "      <td>190.73</td>\n",
       "      <td>128.39</td>\n",
       "      <td>114.07</td>\n",
       "      <td>96.92</td>\n",
       "    </tr>\n",
       "    <tr>\n",
       "      <td>2019-07-01</td>\n",
       "      <td>376.72</td>\n",
       "      <td>726.73</td>\n",
       "      <td>197.8</td>\n",
       "      <td>208.33</td>\n",
       "      <td>157.0</td>\n",
       "      <td>153.15</td>\n",
       "      <td>173.07</td>\n",
       "      <td>831.57</td>\n",
       "      <td>227.57</td>\n",
       "      <td>123.17</td>\n",
       "      <td>...</td>\n",
       "      <td>306.74</td>\n",
       "      <td>206.36</td>\n",
       "      <td>214.19</td>\n",
       "      <td>198.32</td>\n",
       "      <td>122.47</td>\n",
       "      <td>88.5</td>\n",
       "      <td>190.73</td>\n",
       "      <td>128.39</td>\n",
       "      <td>114.07</td>\n",
       "      <td>96.92</td>\n",
       "    </tr>\n",
       "  </tbody>\n",
       "</table>\n",
       "<p>2 rows × 49 columns</p>\n",
       "</div>"
      ],
      "text/plain": [
       "                FB   GOOGL      T      VZ    DIS   CMCSA    NFLX    AMZN  \\\n",
       "Date                                                                       \n",
       "2019-06-28  376.72  726.73  197.8  208.33  157.0  153.15  173.07  831.57   \n",
       "2019-07-01  376.72  726.73  197.8  208.33  157.0  153.15  173.07  831.57   \n",
       "\n",
       "                HD     MCD  ...       V      MA    INTC    CSCO    ADBE   CRM  \\\n",
       "Date                        ...                                                 \n",
       "2019-06-28  227.57  123.17  ...  306.74  206.36  214.19  198.32  122.47  88.5   \n",
       "2019-07-01  227.57  123.17  ...  306.74  206.36  214.19  198.32  122.47  88.5   \n",
       "\n",
       "              ORCL     IBM     ACN   AVGO  \n",
       "Date                                       \n",
       "2019-06-28  190.73  128.39  114.07  96.92  \n",
       "2019-07-01  190.73  128.39  114.07  96.92  \n",
       "\n",
       "[2 rows x 49 columns]"
      ]
     },
     "metadata": {},
     "output_type": "display_data"
    }
   ],
   "source": [
    "print('head of cap data:')\n",
    "display(cap.head(2))\n",
    "print('tail of cap data:')\n",
    "display(cap.tail(2))"
   ]
  },
  {
   "cell_type": "markdown",
   "metadata": {},
   "source": [
    "Finally we make the indices and columns the same for cap and close."
   ]
  },
  {
   "cell_type": "code",
   "execution_count": 11,
   "metadata": {
    "ExecuteTime": {
     "end_time": "2019-12-04T22:07:30.077850Z",
     "start_time": "2019-12-04T22:07:30.070562Z"
    }
   },
   "outputs": [],
   "source": [
    "close = pd.DataFrame(close.values, index=close.index, columns=close.columns)\n",
    "cap = pd.DataFrame(cap.values, index=close.index, columns=close.columns)\n",
    "close_burn_in = close_burn_in"
   ]
  },
  {
   "cell_type": "code",
   "execution_count": 12,
   "metadata": {
    "ExecuteTime": {
     "end_time": "2019-12-04T22:07:30.133432Z",
     "start_time": "2019-12-04T22:07:30.086135Z"
    }
   },
   "outputs": [
    {
     "data": {
      "text/html": [
       "<div>\n",
       "<style scoped>\n",
       "    .dataframe tbody tr th:only-of-type {\n",
       "        vertical-align: middle;\n",
       "    }\n",
       "\n",
       "    .dataframe tbody tr th {\n",
       "        vertical-align: top;\n",
       "    }\n",
       "\n",
       "    .dataframe thead th {\n",
       "        text-align: right;\n",
       "    }\n",
       "</style>\n",
       "<table border=\"1\" class=\"dataframe\">\n",
       "  <thead>\n",
       "    <tr style=\"text-align: right;\">\n",
       "      <th></th>\n",
       "      <th>FB</th>\n",
       "      <th>GOOGL</th>\n",
       "      <th>T</th>\n",
       "      <th>VZ</th>\n",
       "      <th>DIS</th>\n",
       "      <th>CMCSA</th>\n",
       "      <th>NFLX</th>\n",
       "      <th>AMZN</th>\n",
       "      <th>HD</th>\n",
       "      <th>MCD</th>\n",
       "      <th>...</th>\n",
       "      <th>V</th>\n",
       "      <th>MA</th>\n",
       "      <th>INTC</th>\n",
       "      <th>CSCO</th>\n",
       "      <th>ADBE</th>\n",
       "      <th>CRM</th>\n",
       "      <th>ORCL</th>\n",
       "      <th>IBM</th>\n",
       "      <th>ACN</th>\n",
       "      <th>AVGO</th>\n",
       "    </tr>\n",
       "    <tr>\n",
       "      <th>Date</th>\n",
       "      <th></th>\n",
       "      <th></th>\n",
       "      <th></th>\n",
       "      <th></th>\n",
       "      <th></th>\n",
       "      <th></th>\n",
       "      <th></th>\n",
       "      <th></th>\n",
       "      <th></th>\n",
       "      <th></th>\n",
       "      <th></th>\n",
       "      <th></th>\n",
       "      <th></th>\n",
       "      <th></th>\n",
       "      <th></th>\n",
       "      <th></th>\n",
       "      <th></th>\n",
       "      <th></th>\n",
       "      <th></th>\n",
       "      <th></th>\n",
       "      <th></th>\n",
       "    </tr>\n",
       "  </thead>\n",
       "  <tbody>\n",
       "    <tr>\n",
       "      <td>2015-01-02</td>\n",
       "      <td>78.449997</td>\n",
       "      <td>529.549988</td>\n",
       "      <td>25.786736</td>\n",
       "      <td>37.423592</td>\n",
       "      <td>87.899757</td>\n",
       "      <td>26.164961</td>\n",
       "      <td>49.848572</td>\n",
       "      <td>308.519989</td>\n",
       "      <td>92.971001</td>\n",
       "      <td>81.714760</td>\n",
       "      <td>...</td>\n",
       "      <td>63.518238</td>\n",
       "      <td>82.850563</td>\n",
       "      <td>31.625349</td>\n",
       "      <td>23.754028</td>\n",
       "      <td>72.339996</td>\n",
       "      <td>59.240002</td>\n",
       "      <td>41.001865</td>\n",
       "      <td>130.591095</td>\n",
       "      <td>80.170738</td>\n",
       "      <td>90.019257</td>\n",
       "    </tr>\n",
       "    <tr>\n",
       "      <td>2015-01-05</td>\n",
       "      <td>77.190002</td>\n",
       "      <td>519.460022</td>\n",
       "      <td>25.543106</td>\n",
       "      <td>37.112793</td>\n",
       "      <td>86.615250</td>\n",
       "      <td>25.631353</td>\n",
       "      <td>47.311428</td>\n",
       "      <td>302.190002</td>\n",
       "      <td>91.020462</td>\n",
       "      <td>80.812263</td>\n",
       "      <td>...</td>\n",
       "      <td>62.116177</td>\n",
       "      <td>80.520157</td>\n",
       "      <td>31.268734</td>\n",
       "      <td>23.280836</td>\n",
       "      <td>71.980003</td>\n",
       "      <td>58.169998</td>\n",
       "      <td>40.426842</td>\n",
       "      <td>128.536270</td>\n",
       "      <td>78.817101</td>\n",
       "      <td>88.580238</td>\n",
       "    </tr>\n",
       "  </tbody>\n",
       "</table>\n",
       "<p>2 rows × 49 columns</p>\n",
       "</div>"
      ],
      "text/plain": [
       "                   FB       GOOGL          T         VZ        DIS      CMCSA  \\\n",
       "Date                                                                            \n",
       "2015-01-02  78.449997  529.549988  25.786736  37.423592  87.899757  26.164961   \n",
       "2015-01-05  77.190002  519.460022  25.543106  37.112793  86.615250  25.631353   \n",
       "\n",
       "                 NFLX        AMZN         HD        MCD  ...          V  \\\n",
       "Date                                                     ...              \n",
       "2015-01-02  49.848572  308.519989  92.971001  81.714760  ...  63.518238   \n",
       "2015-01-05  47.311428  302.190002  91.020462  80.812263  ...  62.116177   \n",
       "\n",
       "                   MA       INTC       CSCO       ADBE        CRM       ORCL  \\\n",
       "Date                                                                           \n",
       "2015-01-02  82.850563  31.625349  23.754028  72.339996  59.240002  41.001865   \n",
       "2015-01-05  80.520157  31.268734  23.280836  71.980003  58.169998  40.426842   \n",
       "\n",
       "                   IBM        ACN       AVGO  \n",
       "Date                                          \n",
       "2015-01-02  130.591095  80.170738  90.019257  \n",
       "2015-01-05  128.536270  78.817101  88.580238  \n",
       "\n",
       "[2 rows x 49 columns]"
      ]
     },
     "execution_count": 12,
     "metadata": {},
     "output_type": "execute_result"
    }
   ],
   "source": [
    "close.head(2)"
   ]
  },
  {
   "cell_type": "code",
   "execution_count": 13,
   "metadata": {
    "ExecuteTime": {
     "end_time": "2019-12-04T22:07:30.175962Z",
     "start_time": "2019-12-04T22:07:30.139892Z"
    }
   },
   "outputs": [
    {
     "data": {
      "text/html": [
       "<div>\n",
       "<style scoped>\n",
       "    .dataframe tbody tr th:only-of-type {\n",
       "        vertical-align: middle;\n",
       "    }\n",
       "\n",
       "    .dataframe tbody tr th {\n",
       "        vertical-align: top;\n",
       "    }\n",
       "\n",
       "    .dataframe thead th {\n",
       "        text-align: right;\n",
       "    }\n",
       "</style>\n",
       "<table border=\"1\" class=\"dataframe\">\n",
       "  <thead>\n",
       "    <tr style=\"text-align: right;\">\n",
       "      <th></th>\n",
       "      <th>FB</th>\n",
       "      <th>GOOGL</th>\n",
       "      <th>T</th>\n",
       "      <th>VZ</th>\n",
       "      <th>DIS</th>\n",
       "      <th>CMCSA</th>\n",
       "      <th>NFLX</th>\n",
       "      <th>AMZN</th>\n",
       "      <th>HD</th>\n",
       "      <th>MCD</th>\n",
       "      <th>...</th>\n",
       "      <th>V</th>\n",
       "      <th>MA</th>\n",
       "      <th>INTC</th>\n",
       "      <th>CSCO</th>\n",
       "      <th>ADBE</th>\n",
       "      <th>CRM</th>\n",
       "      <th>ORCL</th>\n",
       "      <th>IBM</th>\n",
       "      <th>ACN</th>\n",
       "      <th>AVGO</th>\n",
       "    </tr>\n",
       "    <tr>\n",
       "      <th>Date</th>\n",
       "      <th></th>\n",
       "      <th></th>\n",
       "      <th></th>\n",
       "      <th></th>\n",
       "      <th></th>\n",
       "      <th></th>\n",
       "      <th></th>\n",
       "      <th></th>\n",
       "      <th></th>\n",
       "      <th></th>\n",
       "      <th></th>\n",
       "      <th></th>\n",
       "      <th></th>\n",
       "      <th></th>\n",
       "      <th></th>\n",
       "      <th></th>\n",
       "      <th></th>\n",
       "      <th></th>\n",
       "      <th></th>\n",
       "      <th></th>\n",
       "      <th></th>\n",
       "    </tr>\n",
       "  </thead>\n",
       "  <tbody>\n",
       "    <tr>\n",
       "      <td>2015-01-02</td>\n",
       "      <td>217.51</td>\n",
       "      <td>359.98</td>\n",
       "      <td>183.52</td>\n",
       "      <td>202.63</td>\n",
       "      <td>148.49</td>\n",
       "      <td>139.56</td>\n",
       "      <td>26.41</td>\n",
       "      <td>149.45</td>\n",
       "      <td>109.45</td>\n",
       "      <td>99.57</td>\n",
       "      <td>...</td>\n",
       "      <td>163.31</td>\n",
       "      <td>85.84</td>\n",
       "      <td>179.77</td>\n",
       "      <td>132.78</td>\n",
       "      <td>36.75</td>\n",
       "      <td>33.31</td>\n",
       "      <td>187.14</td>\n",
       "      <td>183.48</td>\n",
       "      <td>65.9</td>\n",
       "      <td>16.05</td>\n",
       "    </tr>\n",
       "    <tr>\n",
       "      <td>2015-01-05</td>\n",
       "      <td>217.51</td>\n",
       "      <td>359.98</td>\n",
       "      <td>183.52</td>\n",
       "      <td>202.63</td>\n",
       "      <td>148.49</td>\n",
       "      <td>139.56</td>\n",
       "      <td>26.41</td>\n",
       "      <td>149.45</td>\n",
       "      <td>109.45</td>\n",
       "      <td>99.57</td>\n",
       "      <td>...</td>\n",
       "      <td>163.31</td>\n",
       "      <td>85.84</td>\n",
       "      <td>179.77</td>\n",
       "      <td>132.78</td>\n",
       "      <td>36.75</td>\n",
       "      <td>33.31</td>\n",
       "      <td>187.14</td>\n",
       "      <td>183.48</td>\n",
       "      <td>65.9</td>\n",
       "      <td>16.05</td>\n",
       "    </tr>\n",
       "  </tbody>\n",
       "</table>\n",
       "<p>2 rows × 49 columns</p>\n",
       "</div>"
      ],
      "text/plain": [
       "                FB   GOOGL       T      VZ     DIS   CMCSA   NFLX    AMZN  \\\n",
       "Date                                                                        \n",
       "2015-01-02  217.51  359.98  183.52  202.63  148.49  139.56  26.41  149.45   \n",
       "2015-01-05  217.51  359.98  183.52  202.63  148.49  139.56  26.41  149.45   \n",
       "\n",
       "                HD    MCD  ...       V     MA    INTC    CSCO   ADBE    CRM  \\\n",
       "Date                       ...                                                \n",
       "2015-01-02  109.45  99.57  ...  163.31  85.84  179.77  132.78  36.75  33.31   \n",
       "2015-01-05  109.45  99.57  ...  163.31  85.84  179.77  132.78  36.75  33.31   \n",
       "\n",
       "              ORCL     IBM   ACN   AVGO  \n",
       "Date                                     \n",
       "2015-01-02  187.14  183.48  65.9  16.05  \n",
       "2015-01-05  187.14  183.48  65.9  16.05  \n",
       "\n",
       "[2 rows x 49 columns]"
      ]
     },
     "execution_count": 13,
     "metadata": {},
     "output_type": "execute_result"
    }
   ],
   "source": [
    "cap.head(2)"
   ]
  },
  {
   "cell_type": "code",
   "execution_count": 14,
   "metadata": {
    "ExecuteTime": {
     "end_time": "2019-12-04T22:07:30.220000Z",
     "start_time": "2019-12-04T22:07:30.179120Z"
    }
   },
   "outputs": [
    {
     "data": {
      "text/html": [
       "<div>\n",
       "<style scoped>\n",
       "    .dataframe tbody tr th:only-of-type {\n",
       "        vertical-align: middle;\n",
       "    }\n",
       "\n",
       "    .dataframe tbody tr th {\n",
       "        vertical-align: top;\n",
       "    }\n",
       "\n",
       "    .dataframe thead th {\n",
       "        text-align: right;\n",
       "    }\n",
       "</style>\n",
       "<table border=\"1\" class=\"dataframe\">\n",
       "  <thead>\n",
       "    <tr style=\"text-align: right;\">\n",
       "      <th></th>\n",
       "      <th>FB</th>\n",
       "      <th>GOOGL</th>\n",
       "      <th>T</th>\n",
       "      <th>VZ</th>\n",
       "      <th>DIS</th>\n",
       "      <th>CMCSA</th>\n",
       "      <th>NFLX</th>\n",
       "      <th>AMZN</th>\n",
       "      <th>HD</th>\n",
       "      <th>MCD</th>\n",
       "      <th>...</th>\n",
       "      <th>V</th>\n",
       "      <th>MA</th>\n",
       "      <th>INTC</th>\n",
       "      <th>CSCO</th>\n",
       "      <th>ADBE</th>\n",
       "      <th>CRM</th>\n",
       "      <th>ORCL</th>\n",
       "      <th>IBM</th>\n",
       "      <th>ACN</th>\n",
       "      <th>AVGO</th>\n",
       "    </tr>\n",
       "    <tr>\n",
       "      <th>Date</th>\n",
       "      <th></th>\n",
       "      <th></th>\n",
       "      <th></th>\n",
       "      <th></th>\n",
       "      <th></th>\n",
       "      <th></th>\n",
       "      <th></th>\n",
       "      <th></th>\n",
       "      <th></th>\n",
       "      <th></th>\n",
       "      <th></th>\n",
       "      <th></th>\n",
       "      <th></th>\n",
       "      <th></th>\n",
       "      <th></th>\n",
       "      <th></th>\n",
       "      <th></th>\n",
       "      <th></th>\n",
       "      <th></th>\n",
       "      <th></th>\n",
       "      <th></th>\n",
       "    </tr>\n",
       "  </thead>\n",
       "  <tbody>\n",
       "    <tr>\n",
       "      <td>2014-01-02</td>\n",
       "      <td>54.709999</td>\n",
       "      <td>557.117126</td>\n",
       "      <td>25.254278</td>\n",
       "      <td>37.378609</td>\n",
       "      <td>70.613052</td>\n",
       "      <td>23.172962</td>\n",
       "      <td>51.831429</td>\n",
       "      <td>397.970001</td>\n",
       "      <td>72.167175</td>\n",
       "      <td>80.955902</td>\n",
       "      <td>...</td>\n",
       "      <td>51.396935</td>\n",
       "      <td>80.195457</td>\n",
       "      <td>21.742401</td>\n",
       "      <td>18.357819</td>\n",
       "      <td>59.290001</td>\n",
       "      <td>54.860001</td>\n",
       "      <td>34.576424</td>\n",
       "      <td>145.959686</td>\n",
       "      <td>71.374649</td>\n",
       "      <td>46.618820</td>\n",
       "    </tr>\n",
       "    <tr>\n",
       "      <td>2014-01-03</td>\n",
       "      <td>54.560001</td>\n",
       "      <td>553.053040</td>\n",
       "      <td>25.145884</td>\n",
       "      <td>36.936169</td>\n",
       "      <td>70.464928</td>\n",
       "      <td>23.001812</td>\n",
       "      <td>51.871429</td>\n",
       "      <td>396.440002</td>\n",
       "      <td>72.052780</td>\n",
       "      <td>81.065048</td>\n",
       "      <td>...</td>\n",
       "      <td>51.431812</td>\n",
       "      <td>79.875313</td>\n",
       "      <td>21.733967</td>\n",
       "      <td>18.341125</td>\n",
       "      <td>59.160000</td>\n",
       "      <td>55.119999</td>\n",
       "      <td>34.484753</td>\n",
       "      <td>146.832977</td>\n",
       "      <td>71.612175</td>\n",
       "      <td>46.795918</td>\n",
       "    </tr>\n",
       "  </tbody>\n",
       "</table>\n",
       "<p>2 rows × 49 columns</p>\n",
       "</div>"
      ],
      "text/plain": [
       "                   FB       GOOGL          T         VZ        DIS      CMCSA  \\\n",
       "Date                                                                            \n",
       "2014-01-02  54.709999  557.117126  25.254278  37.378609  70.613052  23.172962   \n",
       "2014-01-03  54.560001  553.053040  25.145884  36.936169  70.464928  23.001812   \n",
       "\n",
       "                 NFLX        AMZN         HD        MCD  ...          V  \\\n",
       "Date                                                     ...              \n",
       "2014-01-02  51.831429  397.970001  72.167175  80.955902  ...  51.396935   \n",
       "2014-01-03  51.871429  396.440002  72.052780  81.065048  ...  51.431812   \n",
       "\n",
       "                   MA       INTC       CSCO       ADBE        CRM       ORCL  \\\n",
       "Date                                                                           \n",
       "2014-01-02  80.195457  21.742401  18.357819  59.290001  54.860001  34.576424   \n",
       "2014-01-03  79.875313  21.733967  18.341125  59.160000  55.119999  34.484753   \n",
       "\n",
       "                   IBM        ACN       AVGO  \n",
       "Date                                          \n",
       "2014-01-02  145.959686  71.374649  46.618820  \n",
       "2014-01-03  146.832977  71.612175  46.795918  \n",
       "\n",
       "[2 rows x 49 columns]"
      ]
     },
     "execution_count": 14,
     "metadata": {},
     "output_type": "execute_result"
    }
   ],
   "source": [
    "close_burn_in.head(2)"
   ]
  },
  {
   "cell_type": "markdown",
   "metadata": {},
   "source": [
    "After all these modifications, we store our data."
   ]
  },
  {
   "cell_type": "code",
   "execution_count": 15,
   "metadata": {
    "ExecuteTime": {
     "end_time": "2019-12-04T22:07:30.486007Z",
     "start_time": "2019-12-04T22:07:30.224574Z"
    }
   },
   "outputs": [],
   "source": [
    "cap.to_csv('/Users/zichaowang/OneDrive - The City University of New York/Baruch/2019 Fall Semester/capstone/data/cap_clean.csv')\n",
    "close.to_csv('/Users/zichaowang/OneDrive - The City University of New York/Baruch/2019 Fall Semester/capstone/data/close_clean.csv')\n",
    "close_burn_in.to_csv('/Users/zichaowang/OneDrive - The City University of New York/Baruch/2019 Fall Semester/capstone/data/close_burn_in_clean.csv')"
   ]
  },
  {
   "cell_type": "markdown",
   "metadata": {},
   "source": [
    "# 2. Initial analysis."
   ]
  },
  {
   "cell_type": "markdown",
   "metadata": {},
   "source": [
    "Calculate daily return."
   ]
  },
  {
   "cell_type": "code",
   "execution_count": 16,
   "metadata": {
    "ExecuteTime": {
     "end_time": "2019-12-04T22:07:30.515383Z",
     "start_time": "2019-12-04T22:07:30.488372Z"
    }
   },
   "outputs": [],
   "source": [
    "ret = close.diff()/close.shift(1)"
   ]
  },
  {
   "cell_type": "code",
   "execution_count": 17,
   "metadata": {
    "ExecuteTime": {
     "end_time": "2019-12-04T22:07:30.554013Z",
     "start_time": "2019-12-04T22:07:30.522946Z"
    }
   },
   "outputs": [
    {
     "data": {
      "text/html": [
       "<div>\n",
       "<style scoped>\n",
       "    .dataframe tbody tr th:only-of-type {\n",
       "        vertical-align: middle;\n",
       "    }\n",
       "\n",
       "    .dataframe tbody tr th {\n",
       "        vertical-align: top;\n",
       "    }\n",
       "\n",
       "    .dataframe thead th {\n",
       "        text-align: right;\n",
       "    }\n",
       "</style>\n",
       "<table border=\"1\" class=\"dataframe\">\n",
       "  <thead>\n",
       "    <tr style=\"text-align: right;\">\n",
       "      <th></th>\n",
       "      <th>FB</th>\n",
       "      <th>GOOGL</th>\n",
       "      <th>T</th>\n",
       "      <th>VZ</th>\n",
       "      <th>DIS</th>\n",
       "      <th>CMCSA</th>\n",
       "      <th>NFLX</th>\n",
       "      <th>AMZN</th>\n",
       "      <th>HD</th>\n",
       "      <th>MCD</th>\n",
       "      <th>...</th>\n",
       "      <th>V</th>\n",
       "      <th>MA</th>\n",
       "      <th>INTC</th>\n",
       "      <th>CSCO</th>\n",
       "      <th>ADBE</th>\n",
       "      <th>CRM</th>\n",
       "      <th>ORCL</th>\n",
       "      <th>IBM</th>\n",
       "      <th>ACN</th>\n",
       "      <th>AVGO</th>\n",
       "    </tr>\n",
       "    <tr>\n",
       "      <th>Date</th>\n",
       "      <th></th>\n",
       "      <th></th>\n",
       "      <th></th>\n",
       "      <th></th>\n",
       "      <th></th>\n",
       "      <th></th>\n",
       "      <th></th>\n",
       "      <th></th>\n",
       "      <th></th>\n",
       "      <th></th>\n",
       "      <th></th>\n",
       "      <th></th>\n",
       "      <th></th>\n",
       "      <th></th>\n",
       "      <th></th>\n",
       "      <th></th>\n",
       "      <th></th>\n",
       "      <th></th>\n",
       "      <th></th>\n",
       "      <th></th>\n",
       "      <th></th>\n",
       "    </tr>\n",
       "  </thead>\n",
       "  <tbody>\n",
       "    <tr>\n",
       "      <td>2015-01-02</td>\n",
       "      <td>NaN</td>\n",
       "      <td>NaN</td>\n",
       "      <td>NaN</td>\n",
       "      <td>NaN</td>\n",
       "      <td>NaN</td>\n",
       "      <td>NaN</td>\n",
       "      <td>NaN</td>\n",
       "      <td>NaN</td>\n",
       "      <td>NaN</td>\n",
       "      <td>NaN</td>\n",
       "      <td>...</td>\n",
       "      <td>NaN</td>\n",
       "      <td>NaN</td>\n",
       "      <td>NaN</td>\n",
       "      <td>NaN</td>\n",
       "      <td>NaN</td>\n",
       "      <td>NaN</td>\n",
       "      <td>NaN</td>\n",
       "      <td>NaN</td>\n",
       "      <td>NaN</td>\n",
       "      <td>NaN</td>\n",
       "    </tr>\n",
       "    <tr>\n",
       "      <td>2015-01-05</td>\n",
       "      <td>-0.016061</td>\n",
       "      <td>-0.019054</td>\n",
       "      <td>-0.009448</td>\n",
       "      <td>-0.008305</td>\n",
       "      <td>-0.014613</td>\n",
       "      <td>-0.020394</td>\n",
       "      <td>-0.050897</td>\n",
       "      <td>-0.020517</td>\n",
       "      <td>-0.020980</td>\n",
       "      <td>-0.011044</td>\n",
       "      <td>...</td>\n",
       "      <td>-0.022073</td>\n",
       "      <td>-0.028128</td>\n",
       "      <td>-0.011276</td>\n",
       "      <td>-0.019921</td>\n",
       "      <td>-0.004976</td>\n",
       "      <td>-0.018062</td>\n",
       "      <td>-0.014024</td>\n",
       "      <td>-0.015735</td>\n",
       "      <td>-0.016884</td>\n",
       "      <td>-0.015986</td>\n",
       "    </tr>\n",
       "    <tr>\n",
       "      <td>2015-01-06</td>\n",
       "      <td>-0.013473</td>\n",
       "      <td>-0.024679</td>\n",
       "      <td>0.001490</td>\n",
       "      <td>0.010093</td>\n",
       "      <td>-0.005304</td>\n",
       "      <td>-0.013045</td>\n",
       "      <td>-0.017121</td>\n",
       "      <td>-0.022833</td>\n",
       "      <td>-0.003062</td>\n",
       "      <td>0.001844</td>\n",
       "      <td>...</td>\n",
       "      <td>-0.006444</td>\n",
       "      <td>-0.002162</td>\n",
       "      <td>-0.018637</td>\n",
       "      <td>-0.000370</td>\n",
       "      <td>-0.020145</td>\n",
       "      <td>-0.016675</td>\n",
       "      <td>-0.010323</td>\n",
       "      <td>-0.021566</td>\n",
       "      <td>-0.007213</td>\n",
       "      <td>-0.022743</td>\n",
       "    </tr>\n",
       "  </tbody>\n",
       "</table>\n",
       "<p>3 rows × 49 columns</p>\n",
       "</div>"
      ],
      "text/plain": [
       "                  FB     GOOGL         T        VZ       DIS     CMCSA  \\\n",
       "Date                                                                     \n",
       "2015-01-02       NaN       NaN       NaN       NaN       NaN       NaN   \n",
       "2015-01-05 -0.016061 -0.019054 -0.009448 -0.008305 -0.014613 -0.020394   \n",
       "2015-01-06 -0.013473 -0.024679  0.001490  0.010093 -0.005304 -0.013045   \n",
       "\n",
       "                NFLX      AMZN        HD       MCD  ...         V        MA  \\\n",
       "Date                                                ...                       \n",
       "2015-01-02       NaN       NaN       NaN       NaN  ...       NaN       NaN   \n",
       "2015-01-05 -0.050897 -0.020517 -0.020980 -0.011044  ... -0.022073 -0.028128   \n",
       "2015-01-06 -0.017121 -0.022833 -0.003062  0.001844  ... -0.006444 -0.002162   \n",
       "\n",
       "                INTC      CSCO      ADBE       CRM      ORCL       IBM  \\\n",
       "Date                                                                     \n",
       "2015-01-02       NaN       NaN       NaN       NaN       NaN       NaN   \n",
       "2015-01-05 -0.011276 -0.019921 -0.004976 -0.018062 -0.014024 -0.015735   \n",
       "2015-01-06 -0.018637 -0.000370 -0.020145 -0.016675 -0.010323 -0.021566   \n",
       "\n",
       "                 ACN      AVGO  \n",
       "Date                            \n",
       "2015-01-02       NaN       NaN  \n",
       "2015-01-05 -0.016884 -0.015986  \n",
       "2015-01-06 -0.007213 -0.022743  \n",
       "\n",
       "[3 rows x 49 columns]"
      ]
     },
     "execution_count": 17,
     "metadata": {},
     "output_type": "execute_result"
    }
   ],
   "source": [
    "ret.head(3)"
   ]
  },
  {
   "cell_type": "markdown",
   "metadata": {},
   "source": [
    "We also need to calculate return during burn-in period."
   ]
  },
  {
   "cell_type": "code",
   "execution_count": 18,
   "metadata": {
    "ExecuteTime": {
     "end_time": "2019-12-04T22:07:30.572386Z",
     "start_time": "2019-12-04T22:07:30.559687Z"
    }
   },
   "outputs": [],
   "source": [
    "ret_burn_in = close_burn_in.diff()/close_burn_in.shift(1)"
   ]
  },
  {
   "cell_type": "markdown",
   "metadata": {},
   "source": [
    "Store the start and end year of our strategy."
   ]
  },
  {
   "cell_type": "code",
   "execution_count": 19,
   "metadata": {
    "ExecuteTime": {
     "end_time": "2019-12-04T22:07:30.582148Z",
     "start_time": "2019-12-04T22:07:30.575794Z"
    }
   },
   "outputs": [],
   "source": [
    "start_year = ret.index[0].year\n",
    "end_year = ret.index[-1].year"
   ]
  },
  {
   "cell_type": "markdown",
   "metadata": {},
   "source": [
    "## 2.1. Index (cap weighted) portfolio."
   ]
  },
  {
   "cell_type": "markdown",
   "metadata": {},
   "source": [
    "<span class=\"burk\">Note: now all the daily data (return, close price and cap) are known after close.</span>\n",
    "\n",
    "<span class=\"burk\">In order to make the data known before open to run our backtest without lookahead bias, we need to shift the weight matrix by 1 after constructing it.</span>"
   ]
  },
  {
   "cell_type": "markdown",
   "metadata": {},
   "source": [
    "Construct index portfolio."
   ]
  },
  {
   "cell_type": "code",
   "execution_count": 20,
   "metadata": {
    "ExecuteTime": {
     "end_time": "2019-12-04T22:07:30.598060Z",
     "start_time": "2019-12-04T22:07:30.585773Z"
    }
   },
   "outputs": [],
   "source": [
    "index_weight = cap/np.tile(np.sum(cap, axis=1), reps=(cap.shape[1], 1)).T"
   ]
  },
  {
   "cell_type": "code",
   "execution_count": 21,
   "metadata": {
    "ExecuteTime": {
     "end_time": "2019-12-04T22:07:30.627900Z",
     "start_time": "2019-12-04T22:07:30.600595Z"
    }
   },
   "outputs": [
    {
     "data": {
      "text/html": [
       "<div>\n",
       "<style scoped>\n",
       "    .dataframe tbody tr th:only-of-type {\n",
       "        vertical-align: middle;\n",
       "    }\n",
       "\n",
       "    .dataframe tbody tr th {\n",
       "        vertical-align: top;\n",
       "    }\n",
       "\n",
       "    .dataframe thead th {\n",
       "        text-align: right;\n",
       "    }\n",
       "</style>\n",
       "<table border=\"1\" class=\"dataframe\">\n",
       "  <thead>\n",
       "    <tr style=\"text-align: right;\">\n",
       "      <th></th>\n",
       "      <th>FB</th>\n",
       "      <th>GOOGL</th>\n",
       "      <th>T</th>\n",
       "      <th>VZ</th>\n",
       "      <th>DIS</th>\n",
       "      <th>CMCSA</th>\n",
       "      <th>NFLX</th>\n",
       "      <th>AMZN</th>\n",
       "      <th>HD</th>\n",
       "      <th>MCD</th>\n",
       "      <th>...</th>\n",
       "      <th>V</th>\n",
       "      <th>MA</th>\n",
       "      <th>INTC</th>\n",
       "      <th>CSCO</th>\n",
       "      <th>ADBE</th>\n",
       "      <th>CRM</th>\n",
       "      <th>ORCL</th>\n",
       "      <th>IBM</th>\n",
       "      <th>ACN</th>\n",
       "      <th>AVGO</th>\n",
       "    </tr>\n",
       "    <tr>\n",
       "      <th>Date</th>\n",
       "      <th></th>\n",
       "      <th></th>\n",
       "      <th></th>\n",
       "      <th></th>\n",
       "      <th></th>\n",
       "      <th></th>\n",
       "      <th></th>\n",
       "      <th></th>\n",
       "      <th></th>\n",
       "      <th></th>\n",
       "      <th></th>\n",
       "      <th></th>\n",
       "      <th></th>\n",
       "      <th></th>\n",
       "      <th></th>\n",
       "      <th></th>\n",
       "      <th></th>\n",
       "      <th></th>\n",
       "      <th></th>\n",
       "      <th></th>\n",
       "      <th></th>\n",
       "    </tr>\n",
       "  </thead>\n",
       "  <tbody>\n",
       "    <tr>\n",
       "      <td>2015-01-02</td>\n",
       "      <td>0.02735</td>\n",
       "      <td>0.045264</td>\n",
       "      <td>0.023076</td>\n",
       "      <td>0.025479</td>\n",
       "      <td>0.018671</td>\n",
       "      <td>0.017548</td>\n",
       "      <td>0.003321</td>\n",
       "      <td>0.018792</td>\n",
       "      <td>0.013762</td>\n",
       "      <td>0.01252</td>\n",
       "      <td>...</td>\n",
       "      <td>0.020535</td>\n",
       "      <td>0.010793</td>\n",
       "      <td>0.022604</td>\n",
       "      <td>0.016696</td>\n",
       "      <td>0.004621</td>\n",
       "      <td>0.004188</td>\n",
       "      <td>0.023531</td>\n",
       "      <td>0.023071</td>\n",
       "      <td>0.008286</td>\n",
       "      <td>0.002018</td>\n",
       "    </tr>\n",
       "    <tr>\n",
       "      <td>2015-01-05</td>\n",
       "      <td>0.02735</td>\n",
       "      <td>0.045264</td>\n",
       "      <td>0.023076</td>\n",
       "      <td>0.025479</td>\n",
       "      <td>0.018671</td>\n",
       "      <td>0.017548</td>\n",
       "      <td>0.003321</td>\n",
       "      <td>0.018792</td>\n",
       "      <td>0.013762</td>\n",
       "      <td>0.01252</td>\n",
       "      <td>...</td>\n",
       "      <td>0.020535</td>\n",
       "      <td>0.010793</td>\n",
       "      <td>0.022604</td>\n",
       "      <td>0.016696</td>\n",
       "      <td>0.004621</td>\n",
       "      <td>0.004188</td>\n",
       "      <td>0.023531</td>\n",
       "      <td>0.023071</td>\n",
       "      <td>0.008286</td>\n",
       "      <td>0.002018</td>\n",
       "    </tr>\n",
       "  </tbody>\n",
       "</table>\n",
       "<p>2 rows × 49 columns</p>\n",
       "</div>"
      ],
      "text/plain": [
       "                 FB     GOOGL         T        VZ       DIS     CMCSA  \\\n",
       "Date                                                                    \n",
       "2015-01-02  0.02735  0.045264  0.023076  0.025479  0.018671  0.017548   \n",
       "2015-01-05  0.02735  0.045264  0.023076  0.025479  0.018671  0.017548   \n",
       "\n",
       "                NFLX      AMZN        HD      MCD  ...         V        MA  \\\n",
       "Date                                               ...                       \n",
       "2015-01-02  0.003321  0.018792  0.013762  0.01252  ...  0.020535  0.010793   \n",
       "2015-01-05  0.003321  0.018792  0.013762  0.01252  ...  0.020535  0.010793   \n",
       "\n",
       "                INTC      CSCO      ADBE       CRM      ORCL       IBM  \\\n",
       "Date                                                                     \n",
       "2015-01-02  0.022604  0.016696  0.004621  0.004188  0.023531  0.023071   \n",
       "2015-01-05  0.022604  0.016696  0.004621  0.004188  0.023531  0.023071   \n",
       "\n",
       "                 ACN      AVGO  \n",
       "Date                            \n",
       "2015-01-02  0.008286  0.002018  \n",
       "2015-01-05  0.008286  0.002018  \n",
       "\n",
       "[2 rows x 49 columns]"
      ]
     },
     "execution_count": 21,
     "metadata": {},
     "output_type": "execute_result"
    }
   ],
   "source": [
    "index_weight.head(2)"
   ]
  },
  {
   "cell_type": "code",
   "execution_count": 22,
   "metadata": {
    "ExecuteTime": {
     "end_time": "2019-12-04T22:07:31.257910Z",
     "start_time": "2019-12-04T22:07:30.634897Z"
    }
   },
   "outputs": [
    {
     "name": "stderr",
     "output_type": "stream",
     "text": [
      "/Users/zichaowang/opt/anaconda3/lib/python3.7/site-packages/pandas/plotting/_matplotlib/converter.py:103: FutureWarning: Using an implicitly registered datetime converter for a matplotlib plotting method. The converter was registered by pandas on import. Future versions of pandas will require you to explicitly register matplotlib converters.\n",
      "\n",
      "To register the converters:\n",
      "\t>>> from pandas.plotting import register_matplotlib_converters\n",
      "\t>>> register_matplotlib_converters()\n",
      "  warnings.warn(msg, FutureWarning)\n"
     ]
    },
    {
     "data": {
      "image/png": "[encoded data removed]",
      "text/plain": [
       "<Figure size 720x360 with 1 Axes>"
      ]
     },
     "metadata": {
      "needs_background": "light"
     },
     "output_type": "display_data"
    },
    {
     "data": {
      "text/html": [
       "<div>\n",
       "<style scoped>\n",
       "    .dataframe tbody tr th:only-of-type {\n",
       "        vertical-align: middle;\n",
       "    }\n",
       "\n",
       "    .dataframe tbody tr th {\n",
       "        vertical-align: top;\n",
       "    }\n",
       "\n",
       "    .dataframe thead th {\n",
       "        text-align: right;\n",
       "    }\n",
       "</style>\n",
       "<table border=\"1\" class=\"dataframe\">\n",
       "  <thead>\n",
       "    <tr style=\"text-align: right;\">\n",
       "      <th></th>\n",
       "      <th>turnover</th>\n",
       "      <th>Sharpe ratio</th>\n",
       "      <th>maximum drawdown</th>\n",
       "      <th>annual return</th>\n",
       "    </tr>\n",
       "  </thead>\n",
       "  <tbody>\n",
       "    <tr>\n",
       "      <td>2015</td>\n",
       "      <td>0.000717</td>\n",
       "      <td>0.605612</td>\n",
       "      <td>-0.136774</td>\n",
       "      <td>0.096450</td>\n",
       "    </tr>\n",
       "    <tr>\n",
       "      <td>2016</td>\n",
       "      <td>0.000685</td>\n",
       "      <td>1.039586</td>\n",
       "      <td>-0.074305</td>\n",
       "      <td>0.148270</td>\n",
       "    </tr>\n",
       "    <tr>\n",
       "      <td>2017</td>\n",
       "      <td>0.000632</td>\n",
       "      <td>3.775969</td>\n",
       "      <td>-0.021015</td>\n",
       "      <td>0.252221</td>\n",
       "    </tr>\n",
       "    <tr>\n",
       "      <td>2018</td>\n",
       "      <td>0.000814</td>\n",
       "      <td>0.160546</td>\n",
       "      <td>-0.198987</td>\n",
       "      <td>0.020652</td>\n",
       "    </tr>\n",
       "    <tr>\n",
       "      <td>2019</td>\n",
       "      <td>0.000000</td>\n",
       "      <td>2.016617</td>\n",
       "      <td>-0.079996</td>\n",
       "      <td>0.190013</td>\n",
       "    </tr>\n",
       "    <tr>\n",
       "      <td>average</td>\n",
       "      <td>0.000569</td>\n",
       "      <td>1.519666</td>\n",
       "      <td>-0.198987</td>\n",
       "      <td>0.141521</td>\n",
       "    </tr>\n",
       "  </tbody>\n",
       "</table>\n",
       "</div>"
      ],
      "text/plain": [
       "         turnover  Sharpe ratio  maximum drawdown  annual return\n",
       "2015     0.000717      0.605612         -0.136774       0.096450\n",
       "2016     0.000685      1.039586         -0.074305       0.148270\n",
       "2017     0.000632      3.775969         -0.021015       0.252221\n",
       "2018     0.000814      0.160546         -0.198987       0.020652\n",
       "2019     0.000000      2.016617         -0.079996       0.190013\n",
       "average  0.000569      1.519666         -0.198987       0.141521"
      ]
     },
     "metadata": {},
     "output_type": "display_data"
    }
   ],
   "source": [
    "# we can ignore the warning of plt package.\n",
    "index_pnl, index_backtest_res = display_backtest(index_weight.shift(1), ret)"
   ]
  },
  {
   "cell_type": "markdown",
   "metadata": {},
   "source": [
    "- This is just how the market behaves from 2014 till now."
   ]
  },
  {
   "cell_type": "markdown",
   "metadata": {},
   "source": [
    "## 2.2. Equal weighted portfolio."
   ]
  },
  {
   "cell_type": "code",
   "execution_count": 23,
   "metadata": {
    "ExecuteTime": {
     "end_time": "2019-12-04T22:07:31.637183Z",
     "start_time": "2019-12-04T22:07:31.267089Z"
    }
   },
   "outputs": [
    {
     "data": {
      "image/png": "[encoded data removed]",
      "text/plain": [
       "<Figure size 720x360 with 1 Axes>"
      ]
     },
     "metadata": {
      "needs_background": "light"
     },
     "output_type": "display_data"
    },
    {
     "data": {
      "text/html": [
       "<div>\n",
       "<style scoped>\n",
       "    .dataframe tbody tr th:only-of-type {\n",
       "        vertical-align: middle;\n",
       "    }\n",
       "\n",
       "    .dataframe tbody tr th {\n",
       "        vertical-align: top;\n",
       "    }\n",
       "\n",
       "    .dataframe thead th {\n",
       "        text-align: right;\n",
       "    }\n",
       "</style>\n",
       "<table border=\"1\" class=\"dataframe\">\n",
       "  <thead>\n",
       "    <tr style=\"text-align: right;\">\n",
       "      <th></th>\n",
       "      <th>turnover</th>\n",
       "      <th>Sharpe ratio</th>\n",
       "      <th>maximum drawdown</th>\n",
       "      <th>annual return</th>\n",
       "    </tr>\n",
       "  </thead>\n",
       "  <tbody>\n",
       "    <tr>\n",
       "      <td>2015</td>\n",
       "      <td>0.0</td>\n",
       "      <td>0.812055</td>\n",
       "      <td>-0.128263</td>\n",
       "      <td>0.129487</td>\n",
       "    </tr>\n",
       "    <tr>\n",
       "      <td>2016</td>\n",
       "      <td>0.0</td>\n",
       "      <td>1.006261</td>\n",
       "      <td>-0.090759</td>\n",
       "      <td>0.148507</td>\n",
       "    </tr>\n",
       "    <tr>\n",
       "      <td>2017</td>\n",
       "      <td>0.0</td>\n",
       "      <td>4.105214</td>\n",
       "      <td>-0.021811</td>\n",
       "      <td>0.260487</td>\n",
       "    </tr>\n",
       "    <tr>\n",
       "      <td>2018</td>\n",
       "      <td>0.0</td>\n",
       "      <td>0.340216</td>\n",
       "      <td>-0.169977</td>\n",
       "      <td>0.049356</td>\n",
       "    </tr>\n",
       "    <tr>\n",
       "      <td>2019</td>\n",
       "      <td>0.0</td>\n",
       "      <td>2.159213</td>\n",
       "      <td>-0.060654</td>\n",
       "      <td>0.185474</td>\n",
       "    </tr>\n",
       "    <tr>\n",
       "      <td>average</td>\n",
       "      <td>0.0</td>\n",
       "      <td>1.684592</td>\n",
       "      <td>-0.169977</td>\n",
       "      <td>0.154662</td>\n",
       "    </tr>\n",
       "  </tbody>\n",
       "</table>\n",
       "</div>"
      ],
      "text/plain": [
       "         turnover  Sharpe ratio  maximum drawdown  annual return\n",
       "2015          0.0      0.812055         -0.128263       0.129487\n",
       "2016          0.0      1.006261         -0.090759       0.148507\n",
       "2017          0.0      4.105214         -0.021811       0.260487\n",
       "2018          0.0      0.340216         -0.169977       0.049356\n",
       "2019          0.0      2.159213         -0.060654       0.185474\n",
       "average       0.0      1.684592         -0.169977       0.154662"
      ]
     },
     "metadata": {},
     "output_type": "display_data"
    }
   ],
   "source": [
    "equal_weight = pd.DataFrame(1/index_weight.shape[1], index=index_weight.index,\\\n",
    "                            columns=index_weight.columns)\n",
    "# we can ignore the warning of plt package.\n",
    "equal_weight_pnl, equal_weight_backtest_res = display_backtest(equal_weight.shift(1), ret)"
   ]
  },
  {
   "cell_type": "markdown",
   "metadata": {
    "ExecuteTime": {
     "end_time": "2019-11-23T17:55:31.131238Z",
     "start_time": "2019-11-23T17:55:31.125503Z"
    }
   },
   "source": [
    "- Compared with cap weighted portfilio, we have larger Sharpe, higher return and lower drawdown.\n",
    "- This is probably a result of cap size effect."
   ]
  },
  {
   "cell_type": "markdown",
   "metadata": {},
   "source": [
    "# 3. Correlation profile."
   ]
  },
  {
   "cell_type": "markdown",
   "metadata": {},
   "source": [
    "Before we step into our topic of risk budgeting portfolio problem, we need to look at the general correlation profile in our universe first."
   ]
  },
  {
   "cell_type": "code",
   "execution_count": 24,
   "metadata": {
    "ExecuteTime": {
     "end_time": "2019-12-04T22:07:31.649488Z",
     "start_time": "2019-12-04T22:07:31.643073Z"
    }
   },
   "outputs": [],
   "source": [
    "def correlation_heat_plot(ret_frame, year):\n",
    "    _start_year = ret_frame.index[0].year\n",
    "    _end_year = ret_frame.index[-1].year\n",
    "    \n",
    "    if (year<_start_year) or (year>_end_year):\n",
    "        raise ValueError('year number is out of range.')\n",
    "    else:\n",
    "        plt.figure(figsize=(8, 7))\n",
    "        sns.heatmap(ret_frame[str(year)].corr())"
   ]
  },
  {
   "cell_type": "code",
   "execution_count": 25,
   "metadata": {
    "ExecuteTime": {
     "end_time": "2019-12-04T22:07:32.204715Z",
     "start_time": "2019-12-04T22:07:31.652255Z"
    }
   },
   "outputs": [
    {
     "data": {
      "image/png": "[encoded data removed]",
      "text/plain": [
       "<Figure size 576x504 with 2 Axes>"
      ]
     },
     "metadata": {
      "needs_background": "light"
     },
     "output_type": "display_data"
    }
   ],
   "source": [
    "correlation_heat_plot(ret, 2016)"
   ]
  },
  {
   "cell_type": "markdown",
   "metadata": {},
   "source": [
    "- In general, there is no particular concern (large area of high correlation) on this plot."
   ]
  },
  {
   "cell_type": "markdown",
   "metadata": {},
   "source": [
    "# 4. A special case of unconstrained risk budgeting portfolio: ERC (Equal Risk Contribution) portfolio."
   ]
  },
  {
   "cell_type": "markdown",
   "metadata": {},
   "source": [
    "Note: we will assume risk free rate $r=0$ throughout this part."
   ]
  },
  {
   "cell_type": "code",
   "execution_count": 26,
   "metadata": {
    "ExecuteTime": {
     "end_time": "2019-12-04T22:07:32.211563Z",
     "start_time": "2019-12-04T22:07:32.207889Z"
    }
   },
   "outputs": [],
   "source": [
    "r = 0"
   ]
  },
  {
   "cell_type": "markdown",
   "metadata": {},
   "source": [
    "The risk measure is defined as\n",
    "\n",
    "$$\n",
    "\\begin{aligned}\n",
    "\\mathcal{R}(x)&=-x^\\top(\\mu-r)+c\\cdot\\sqrt{x^\\top\\Sigma x}\\\\\n",
    "&=-x^\\top\\mu+c\\cdot\\sqrt{x^\\top\\Sigma x}\n",
    "\\end{aligned}\n",
    "$$\n",
    "\n",
    "since $r=0$."
   ]
  },
  {
   "cell_type": "markdown",
   "metadata": {},
   "source": [
    "The optimization problem is formulated as\n",
    "\n",
    "$$\n",
    "x^\\star(\\kappa)=\\text{argmin}\\ \\mathcal{R}(x)\\\\\n",
    "\\text{s.t.}\\ \n",
    "\\begin{cases}\n",
    "\\sum_{i=1}^nb_i\\log x_i\\geq \\kappa\\\\\n",
    "\\mathcal{1}^\\top x=1\\\\\n",
    "x\\geq0\n",
    "\\end{cases}\n",
    "$$\n",
    "\n",
    "where $\\kappa$ is an arbitrary constant and we use\n",
    "\n",
    "$$\n",
    "x_{\\text{RB}}=\\frac{x^\\star(\\kappa)}{\\mathcal{1}^\\top x^\\star(\\kappa)}\n",
    "$$\n",
    "\n",
    "to compute our RB portfolio."
   ]
  },
  {
   "cell_type": "markdown",
   "metadata": {},
   "source": [
    "The problem above is equivalent to\n",
    "\n",
    "$$\n",
    "x^\\star(\\lambda)=\\text{argmin}\\ \\mathcal{R}(x)-\\lambda\\sum_{i=1}^nb_i\\log x_i\\\\\n",
    "\\text{s.t.}\\ x\\geq0\n",
    "$$\n",
    "\n",
    "and\n",
    "\n",
    "$$\n",
    "x_{\\text{RB}}=\\frac{x^\\star(\\lambda)}{\\mathcal{1}^\\top x^\\star(\\lambda)}\n",
    "$$"
   ]
  },
  {
   "cell_type": "markdown",
   "metadata": {},
   "source": [
    "# 4.1. Case 1: Annual rebalancing."
   ]
  },
  {
   "cell_type": "markdown",
   "metadata": {},
   "source": [
    "Construct the covariance matrix and expected return vector of our universe for every year.\n",
    "\n",
    "We assume that they are known at the end of the time indicated by the key value of the dictionary."
   ]
  },
  {
   "cell_type": "code",
   "execution_count": 27,
   "metadata": {
    "ExecuteTime": {
     "end_time": "2019-12-04T22:07:32.248502Z",
     "start_time": "2019-12-04T22:07:32.214799Z"
    }
   },
   "outputs": [],
   "source": [
    "Sig_dict_1y, mu_dict_1y = {}, {}\n",
    "\n",
    "for year in range(start_year, end_year+1):\n",
    "    Sig_dict_1y[str(year)] = ret[str(year)].cov().values\n",
    "    mu_dict_1y[str(year)] = np.nanmean(ret[str(year)], axis=0)\n",
    "\n",
    "# add burn-in period into the dictionary.\n",
    "Sig_dict_1y[str(start_year-1)] = ret_burn_in.cov().values\n",
    "mu_dict_1y[str(start_year-1)] = np.nanmean(ret_burn_in, axis=0)"
   ]
  },
  {
   "cell_type": "markdown",
   "metadata": {},
   "source": [
    "Parameters:\n",
    "\n",
    "- $c=1$\n",
    "- $b_i=\\frac1n,\\forall i$.\n",
    "- $\\lambda=1$."
   ]
  },
  {
   "cell_type": "code",
   "execution_count": 28,
   "metadata": {
    "ExecuteTime": {
     "end_time": "2019-12-04T22:07:32.261067Z",
     "start_time": "2019-12-04T22:07:32.251527Z"
    }
   },
   "outputs": [],
   "source": [
    "n = len(ret.columns)\n",
    "c = 1\n",
    "b = np.array([1/n]*n).reshape(n, 1)\n",
    "lambd = 1"
   ]
  },
  {
   "cell_type": "code",
   "execution_count": 29,
   "metadata": {
    "ExecuteTime": {
     "end_time": "2019-12-04T22:07:32.956010Z",
     "start_time": "2019-12-04T22:07:32.264188Z"
    }
   },
   "outputs": [
    {
     "name": "stderr",
     "output_type": "stream",
     "text": [
      "/Users/zichaowang/opt/anaconda3/lib/python3.7/site-packages/ipykernel_launcher.py:8: FutureWarning: elementwise comparison failed; returning scalar instead, but in the future will perform elementwise comparison\n",
      "  \n"
     ]
    }
   ],
   "source": [
    "x_lst = []\n",
    "\n",
    "for year in range(start_year, end_year+1):\n",
    "    mu = mu_dict_1y[str(year-1)]\n",
    "    Sig = Sig_dict_1y[str(year-1)]\n",
    "    opt_res = RB_unconstrianed(r, mu, c, Sig, b, lambd=lambd,\\\n",
    "                               opt_algo='RCD', max_iter=20000, prec=1e-8)\n",
    "    if opt_res['x_opt'] != 'time out':\n",
    "        x_lst.append(opt_res['x_opt'])\n",
    "    else:\n",
    "        raise ValueError('x_opt is invalid because time is out.')"
   ]
  },
  {
   "cell_type": "markdown",
   "metadata": {},
   "source": [
    "Transform our optimization result into a valid weight matrix."
   ]
  },
  {
   "cell_type": "code",
   "execution_count": 30,
   "metadata": {
    "ExecuteTime": {
     "end_time": "2019-12-04T22:07:32.968873Z",
     "start_time": "2019-12-04T22:07:32.958833Z"
    }
   },
   "outputs": [],
   "source": [
    "ERC_weight_yearly = np.array(x_lst).reshape((5, 49))\n",
    "ERC_weight_yearly = ERC_weight_yearly/np.tile(np.sum(ERC_weight_yearly, axis=1), reps=(ERC_weight_yearly.shape[1], 1)).T"
   ]
  },
  {
   "cell_type": "code",
   "execution_count": 31,
   "metadata": {
    "ExecuteTime": {
     "end_time": "2019-12-04T22:07:32.999463Z",
     "start_time": "2019-12-04T22:07:32.981076Z"
    }
   },
   "outputs": [],
   "source": [
    "yearly_first_day = [ret[str(year)].index[0] for year in range(start_year, end_year+1)]\n",
    "ERC_yearly_weight = pd.DataFrame(ERC_weight_yearly, index=yearly_first_day, columns=ret.columns)\n",
    "ERC_yearly_weight = ERC_yearly_weight.reindex(index=ret.index, fill_value=np.nan).ffill()"
   ]
  },
  {
   "cell_type": "code",
   "execution_count": 32,
   "metadata": {
    "ExecuteTime": {
     "end_time": "2019-12-04T22:07:33.391870Z",
     "start_time": "2019-12-04T22:07:33.003032Z"
    }
   },
   "outputs": [
    {
     "data": {
      "image/png": "[encoded data removed]",
      "text/plain": [
       "<Figure size 720x360 with 1 Axes>"
      ]
     },
     "metadata": {
      "needs_background": "light"
     },
     "output_type": "display_data"
    },
    {
     "data": {
      "text/html": [
       "<div>\n",
       "<style scoped>\n",
       "    .dataframe tbody tr th:only-of-type {\n",
       "        vertical-align: middle;\n",
       "    }\n",
       "\n",
       "    .dataframe tbody tr th {\n",
       "        vertical-align: top;\n",
       "    }\n",
       "\n",
       "    .dataframe thead th {\n",
       "        text-align: right;\n",
       "    }\n",
       "</style>\n",
       "<table border=\"1\" class=\"dataframe\">\n",
       "  <thead>\n",
       "    <tr style=\"text-align: right;\">\n",
       "      <th></th>\n",
       "      <th>turnover</th>\n",
       "      <th>Sharpe ratio</th>\n",
       "      <th>maximum drawdown</th>\n",
       "      <th>annual return</th>\n",
       "    </tr>\n",
       "  </thead>\n",
       "  <tbody>\n",
       "    <tr>\n",
       "      <td>2015</td>\n",
       "      <td>0.000000</td>\n",
       "      <td>0.666643</td>\n",
       "      <td>-0.127019</td>\n",
       "      <td>0.102240</td>\n",
       "    </tr>\n",
       "    <tr>\n",
       "      <td>2016</td>\n",
       "      <td>0.000746</td>\n",
       "      <td>1.031200</td>\n",
       "      <td>-0.082298</td>\n",
       "      <td>0.143795</td>\n",
       "    </tr>\n",
       "    <tr>\n",
       "      <td>2017</td>\n",
       "      <td>0.000744</td>\n",
       "      <td>4.055385</td>\n",
       "      <td>-0.018310</td>\n",
       "      <td>0.237315</td>\n",
       "    </tr>\n",
       "    <tr>\n",
       "      <td>2018</td>\n",
       "      <td>0.001030</td>\n",
       "      <td>0.329023</td>\n",
       "      <td>-0.152853</td>\n",
       "      <td>0.045988</td>\n",
       "    </tr>\n",
       "    <tr>\n",
       "      <td>2019</td>\n",
       "      <td>0.001797</td>\n",
       "      <td>2.224984</td>\n",
       "      <td>-0.049908</td>\n",
       "      <td>0.176676</td>\n",
       "    </tr>\n",
       "    <tr>\n",
       "      <td>average</td>\n",
       "      <td>0.000863</td>\n",
       "      <td>1.661447</td>\n",
       "      <td>-0.152853</td>\n",
       "      <td>0.141203</td>\n",
       "    </tr>\n",
       "  </tbody>\n",
       "</table>\n",
       "</div>"
      ],
      "text/plain": [
       "         turnover  Sharpe ratio  maximum drawdown  annual return\n",
       "2015     0.000000      0.666643         -0.127019       0.102240\n",
       "2016     0.000746      1.031200         -0.082298       0.143795\n",
       "2017     0.000744      4.055385         -0.018310       0.237315\n",
       "2018     0.001030      0.329023         -0.152853       0.045988\n",
       "2019     0.001797      2.224984         -0.049908       0.176676\n",
       "average  0.000863      1.661447         -0.152853       0.141203"
      ]
     },
     "metadata": {},
     "output_type": "display_data"
    }
   ],
   "source": [
    "# we can ignore the warning of plt package.\n",
    "ERC_yearly_pnl, ERC_yearly_backtest_res = display_backtest(ERC_yearly_weight.shift(1), ret)"
   ]
  },
  {
   "cell_type": "markdown",
   "metadata": {},
   "source": [
    "Compare performance of cap weighted portfolio, equal weighted portfolio and ERC portfolio."
   ]
  },
  {
   "cell_type": "code",
   "execution_count": 33,
   "metadata": {
    "ExecuteTime": {
     "end_time": "2019-12-04T22:07:33.407563Z",
     "start_time": "2019-12-04T22:07:33.394893Z"
    }
   },
   "outputs": [],
   "source": [
    "def compare_performance(backtest_res_lst, name_lst, x_axis):\n",
    "    if len(backtest_res_lst) != len(name_lst):\n",
    "        raise ValueError('lengths of backtest result list and name list are not the same.')\n",
    "    \n",
    "    plt.figure(figsize=(15, 15))\n",
    "    \n",
    "    plt.subplot(2, 2, 1)\n",
    "    for i in range(len(backtest_res_lst)):\n",
    "        plt.plot(x_axis, backtest_res_lst[i]['turnover'][:-1], label=name_lst[i], marker='o')\n",
    "    plt.xlabel('year')\n",
    "    plt.ylabel('turnover')\n",
    "    plt.legend()\n",
    "    \n",
    "    plt.subplot(2, 2, 2)\n",
    "    for i in range(len(backtest_res_lst)):\n",
    "        plt.plot(x_axis, backtest_res_lst[i]['Sharpe ratio'][:-1], label=name_lst[i], marker='o')\n",
    "    plt.xlabel('year')\n",
    "    plt.ylabel('Sharpe ratio')\n",
    "    plt.legend()\n",
    "\n",
    "    plt.subplot(2, 2, 3)\n",
    "    for i in range(len(backtest_res_lst)):\n",
    "        plt.plot(x_axis, backtest_res_lst[i]['maximum drawdown'][:-1], label=name_lst[i], marker='o')\n",
    "    plt.xlabel('year')\n",
    "    plt.ylabel('maximum drawdown')\n",
    "    plt.legend()\n",
    "    \n",
    "    plt.subplot(2, 2, 4)\n",
    "    for i in range(len(backtest_res_lst)):\n",
    "        plt.plot(x_axis, backtest_res_lst[i]['annual return'][:-1], label=name_lst[i], marker='o')\n",
    "    plt.xlabel('year')\n",
    "    plt.ylabel('annual return')\n",
    "    plt.legend()\n",
    "    \n",
    "    plt.show()"
   ]
  },
  {
   "cell_type": "code",
   "execution_count": 34,
   "metadata": {
    "ExecuteTime": {
     "end_time": "2019-12-04T22:07:34.070558Z",
     "start_time": "2019-12-04T22:07:33.409732Z"
    }
   },
   "outputs": [
    {
     "data": {
      "image/png": "[encoded data removed]",
      "text/plain": [
       "<Figure size 1080x1080 with 4 Axes>"
      ]
     },
     "metadata": {
      "needs_background": "light"
     },
     "output_type": "display_data"
    }
   ],
   "source": [
    "compare_performance([index_backtest_res, equal_weight_backtest_res, ERC_yearly_backtest_res],\\\n",
    "                    ['cap weighted', 'equal weighted', 'ERC'], [str(year) for year in range(start_year, end_year+1)])"
   ]
  },
  {
   "cell_type": "markdown",
   "metadata": {},
   "source": [
    "- Compared with cap weighted portfolio, we increased Sharpe and decreased drawdown, which are reasonable effects of ERC portfolio.\n",
    "- The performance of ERC portfolio is more like equal-weighted portfolio than cap-weighted portfolio, which is probably because there are not many significant correlation relationships between tickers."
   ]
  },
  {
   "cell_type": "markdown",
   "metadata": {},
   "source": [
    "Now change the value of $c$. The larger $c$ is, we are more focusing on the volatility rather than the expected return."
   ]
  },
  {
   "cell_type": "markdown",
   "metadata": {},
   "source": [
    "Since we run a long-only strategy, the most important factor which will affect the performance is apparently the market beta. Therefore, we will see the difference of performance between our strategy with some specific $c$ and the index portfolio."
   ]
  },
  {
   "cell_type": "code",
   "execution_count": 35,
   "metadata": {
    "ExecuteTime": {
     "end_time": "2019-12-04T22:07:47.557938Z",
     "start_time": "2019-12-04T22:07:34.078607Z"
    },
    "scrolled": false
   },
   "outputs": [
    {
     "name": "stderr",
     "output_type": "stream",
     "text": [
      "/Users/zichaowang/opt/anaconda3/lib/python3.7/site-packages/ipykernel_launcher.py:12: FutureWarning: elementwise comparison failed; returning scalar instead, but in the future will perform elementwise comparison\n",
      "  if sys.path[0] == '':\n"
     ]
    }
   ],
   "source": [
    "c_lst = np.exp(np.arange(-0.5, 1.5, 0.1))\n",
    "backtest_res_c_lst = []\n",
    "\n",
    "for c_val in c_lst:\n",
    "    x_lst = []\n",
    "    \n",
    "    for year in range(start_year, end_year+1):\n",
    "        mu = mu_dict_1y[str(year-1)]\n",
    "        Sig = Sig_dict_1y[str(year-1)]\n",
    "        opt_res = RB_unconstrianed(r, mu, c_val, Sig, b, lambd=lambd,\\\n",
    "                                   opt_algo='RCD', max_iter=20000, prec=1e-8)\n",
    "        if opt_res['x_opt'] != 'time out':\n",
    "            x_lst.append(opt_res['x_opt'])\n",
    "        else:\n",
    "            raise ValueError('x_opt is invalid because time is out.')\n",
    "    \n",
    "    ERC_weight_yearly_c = np.array(x_lst).reshape((5, 49))\n",
    "    ERC_weight_yearly_c = ERC_weight_yearly_c/np.tile(np.sum(ERC_weight_yearly_c, axis=1), reps=(ERC_weight_yearly_c.shape[1], 1)).T\n",
    "    ERC_yearly_weight_c = pd.DataFrame(ERC_weight_yearly_c, index=yearly_first_day, columns=ret.columns)\n",
    "    ERC_yearly_weight_c = ERC_yearly_weight_c.reindex(index=ret.index, fill_value=np.nan).ffill()\n",
    "    ERC_yearly_pnl_c, ERC_yearly_backtest_res_c = display_backtest(ERC_yearly_weight_c.shift(1), ret, show_plot=False)\n",
    "    backtest_res_c_lst.append(ERC_yearly_backtest_res_c-index_backtest_res)"
   ]
  },
  {
   "cell_type": "code",
   "execution_count": 36,
   "metadata": {
    "ExecuteTime": {
     "end_time": "2019-12-04T22:07:48.204341Z",
     "start_time": "2019-12-04T22:07:47.561724Z"
    }
   },
   "outputs": [
    {
     "data": {
      "image/png": "[encoded data removed]",
      "text/plain": [
       "<Figure size 1080x1080 with 4 Axes>"
      ]
     },
     "metadata": {
      "needs_background": "light"
     },
     "output_type": "display_data"
    }
   ],
   "source": [
    "plt.figure(figsize=(15, 15))\n",
    "\n",
    "plt.subplot(2, 2, 1)\n",
    "plt.plot(np.log(c_lst), [res['turnover'][-1] for res in backtest_res_c_lst], marker='o')\n",
    "plt.xlabel('log(c)')\n",
    "plt.ylabel('average turnover')\n",
    "\n",
    "plt.subplot(2, 2, 2)\n",
    "plt.plot(np.log(c_lst), [res['Sharpe ratio'][-1] for res in backtest_res_c_lst], marker='o')\n",
    "plt.xlabel('log(c)')\n",
    "plt.ylabel('average Sharpe ratio')\n",
    "\n",
    "plt.subplot(2, 2, 3)\n",
    "plt.plot(np.log(c_lst), [res['maximum drawdown'][-1] for res in backtest_res_c_lst], marker='o')\n",
    "plt.xlabel('log(c)')\n",
    "plt.ylabel('maximum drawdown')\n",
    "\n",
    "plt.subplot(2, 2, 4)\n",
    "plt.plot(np.log(c_lst), [res['annual return'][-1] for res in backtest_res_c_lst], marker='o')\n",
    "plt.xlabel('log(c)')\n",
    "plt.ylabel('average annual return')\n",
    "\n",
    "plt.show()"
   ]
  },
  {
   "cell_type": "markdown",
   "metadata": {},
   "source": [
    "As $c$ increases,\n",
    "- turnover deceases, which means that the covariance matrix of last year indeed has predicting power on the covariance profile of this year.\n",
    "- Sharpe increases, which is a natural payoff for us when we are more careful about the daily volatility.\n",
    "- drawdown is larger, which is interesting. This tells us that the more careful we are about the volatilty moves in the \"normal region\", the greater loss we will suffer when there is a tail event (i.e., volatilitiy spike)."
   ]
  },
  {
   "cell_type": "markdown",
   "metadata": {},
   "source": [
    "## 4.2. Case 2: Monthly rebalancing."
   ]
  },
  {
   "cell_type": "markdown",
   "metadata": {},
   "source": [
    "Construct the covariance matrix and expected return vector of our universe for each month."
   ]
  },
  {
   "cell_type": "code",
   "execution_count": 37,
   "metadata": {
    "ExecuteTime": {
     "end_time": "2019-12-04T22:07:48.212523Z",
     "start_time": "2019-12-04T22:07:48.206796Z"
    }
   },
   "outputs": [],
   "source": [
    "# since now we calibrate for each month,\n",
    "# we need the full history of return.\n",
    "ret_full = pd.concat([ret_burn_in, ret], axis=0)"
   ]
  },
  {
   "cell_type": "code",
   "execution_count": 38,
   "metadata": {
    "ExecuteTime": {
     "end_time": "2019-12-04T22:07:48.411451Z",
     "start_time": "2019-12-04T22:07:48.215638Z"
    }
   },
   "outputs": [],
   "source": [
    "Sig_dict_1m, mu_dict_1m = {}, {}\n",
    "\n",
    "for year in range(start_year, end_year+1):\n",
    "    for month in range(1, 13):\n",
    "        \n",
    "        month_end_date = monthrange(year, month)[1]  # last day of this month\n",
    "        # calculate our calibration start and end date in string.\n",
    "        range_end_date = datetime.date(year, month, month_end_date).strftime('%Y%m%d')\n",
    "        range_start_date = (datetime.date(year, month, month_end_date)+timedelta(days=-365+1)).strftime('%Y%m%d')\n",
    "        \n",
    "        # calibrate covariance matrix and expected return vector.\n",
    "        Sig_dict_1m[str(year)+str(format(month, '02d'))] = ret_full[range_start_date:range_end_date].cov().values\n",
    "        mu_dict_1m[str(year)+str(format(month, '02d'))] = np.nanmean(ret_full[range_start_date:range_end_date], axis=0)\n",
    "        \n",
    "# add burn-in period into the dictionary.\n",
    "Sig_dict_1m[str(start_year-1)+'12'] = ret_burn_in.cov().values\n",
    "mu_dict_1m[str(start_year-1)+'12'] = np.nanmean(ret_burn_in, axis=0)"
   ]
  },
  {
   "cell_type": "markdown",
   "metadata": {},
   "source": [
    "Set parameters as usual."
   ]
  },
  {
   "cell_type": "code",
   "execution_count": 39,
   "metadata": {
    "ExecuteTime": {
     "end_time": "2019-12-04T22:07:48.419127Z",
     "start_time": "2019-12-04T22:07:48.413457Z"
    }
   },
   "outputs": [],
   "source": [
    "n = len(ret.columns)\n",
    "c = 1\n",
    "b = np.array([1/n]*n).reshape(n, 1)\n",
    "lambd = 1"
   ]
  },
  {
   "cell_type": "code",
   "execution_count": 40,
   "metadata": {
    "ExecuteTime": {
     "end_time": "2019-12-04T22:07:54.932461Z",
     "start_time": "2019-12-04T22:07:48.422618Z"
    }
   },
   "outputs": [
    {
     "name": "stderr",
     "output_type": "stream",
     "text": [
      "/Users/zichaowang/opt/anaconda3/lib/python3.7/site-packages/ipykernel_launcher.py:15: FutureWarning: elementwise comparison failed; returning scalar instead, but in the future will perform elementwise comparison\n",
      "  from ipykernel import kernelapp as app\n",
      "/Users/zichaowang/opt/anaconda3/lib/python3.7/site-packages/ipykernel_launcher.py:28: FutureWarning: elementwise comparison failed; returning scalar instead, but in the future will perform elementwise comparison\n"
     ]
    }
   ],
   "source": [
    "x_lst = []\n",
    "\n",
    "for year in range(start_year, end_year+1):\n",
    "    # if this is not the last year,\n",
    "    # we have valid data for each month.\n",
    "    if year != end_year:\n",
    "        for month in range(1, 13):\n",
    "            # the key we will use to get Sigma and mu from the dictionaries.\n",
    "            key = (date(year, month, 1)+relativedelta(months=-1)).strftime('%Y%m')\n",
    "            mu = mu_dict_1m[key]\n",
    "            Sig = Sig_dict_1m[key]\n",
    "            # run optimization algo.\n",
    "            opt_res = RB_unconstrianed(r, mu, c, Sig, b, lambd=lambd,\\\n",
    "                                       opt_algo='RCD', max_iter=20000, prec=1e-8)\n",
    "            if opt_res['x_opt'] != 'time out':\n",
    "                x_lst.append(opt_res['x_opt'])\n",
    "            else:\n",
    "                raise ValueError('x_opt is invalid because time is out.')\n",
    "    \n",
    "    # for the last year, we only have data for the first 6 monyhs\n",
    "    else:\n",
    "        for month in range(1, 7):\n",
    "            key = (date(year, month, 1)+relativedelta(months=-1)).strftime('%Y%m')\n",
    "            mu = mu_dict_1m[key]\n",
    "            Sig = Sig_dict_1m[key]\n",
    "            opt_res = RB_unconstrianed(r, mu, c, Sig, b, lambd=lambd,\\\n",
    "                                       opt_algo='RCD', max_iter=20000, prec=1e-8)\n",
    "            if opt_res['x_opt'] != 'time out':\n",
    "                x_lst.append(opt_res['x_opt'])\n",
    "            else:\n",
    "                raise ValueError('x_opt is invalid because time is out.')"
   ]
  },
  {
   "cell_type": "code",
   "execution_count": 41,
   "metadata": {
    "ExecuteTime": {
     "end_time": "2019-12-04T22:07:54.945432Z",
     "start_time": "2019-12-04T22:07:54.934768Z"
    }
   },
   "outputs": [],
   "source": [
    "ERC_weight_monthly = np.array(x_lst).reshape((len(x_lst), 49))\n",
    "ERC_weight_monthly = ERC_weight_monthly/np.tile(np.sum(ERC_weight_monthly, axis=1), reps=(ERC_weight_monthly.shape[1], 1)).T"
   ]
  },
  {
   "cell_type": "code",
   "execution_count": 42,
   "metadata": {
    "ExecuteTime": {
     "end_time": "2019-12-04T22:07:55.001160Z",
     "start_time": "2019-12-04T22:07:54.953458Z"
    }
   },
   "outputs": [],
   "source": [
    "monthly_first_day = [ret[str(year)+str(format(month, '02d'))+'01':].index[0] for year in range(start_year, end_year) for month in range(1, 13)]\n",
    "monthly_first_day += [ret[str(end_year)+str(format(month, '02d'))+'01':].index[0] for month in range(1, 7)]\n",
    "ERC_monthly_weight = pd.DataFrame(ERC_weight_monthly, index=monthly_first_day, columns=ret.columns)\n",
    "ERC_monthly_weight = ERC_monthly_weight.reindex(index=ret.index, fill_value=np.nan).ffill()"
   ]
  },
  {
   "cell_type": "code",
   "execution_count": 43,
   "metadata": {
    "ExecuteTime": {
     "end_time": "2019-12-04T22:07:55.346460Z",
     "start_time": "2019-12-04T22:07:55.003642Z"
    }
   },
   "outputs": [
    {
     "data": {
      "image/png": "[encoded data removed]",
      "text/plain": [
       "<Figure size 720x360 with 1 Axes>"
      ]
     },
     "metadata": {
      "needs_background": "light"
     },
     "output_type": "display_data"
    },
    {
     "data": {
      "text/html": [
       "<div>\n",
       "<style scoped>\n",
       "    .dataframe tbody tr th:only-of-type {\n",
       "        vertical-align: middle;\n",
       "    }\n",
       "\n",
       "    .dataframe tbody tr th {\n",
       "        vertical-align: top;\n",
       "    }\n",
       "\n",
       "    .dataframe thead th {\n",
       "        text-align: right;\n",
       "    }\n",
       "</style>\n",
       "<table border=\"1\" class=\"dataframe\">\n",
       "  <thead>\n",
       "    <tr style=\"text-align: right;\">\n",
       "      <th></th>\n",
       "      <th>turnover</th>\n",
       "      <th>Sharpe ratio</th>\n",
       "      <th>maximum drawdown</th>\n",
       "      <th>annual return</th>\n",
       "    </tr>\n",
       "  </thead>\n",
       "  <tbody>\n",
       "    <tr>\n",
       "      <td>2015</td>\n",
       "      <td>0.001782</td>\n",
       "      <td>0.744576</td>\n",
       "      <td>-0.125871</td>\n",
       "      <td>0.115700</td>\n",
       "    </tr>\n",
       "    <tr>\n",
       "      <td>2016</td>\n",
       "      <td>0.001573</td>\n",
       "      <td>0.935246</td>\n",
       "      <td>-0.081568</td>\n",
       "      <td>0.131908</td>\n",
       "    </tr>\n",
       "    <tr>\n",
       "      <td>2017</td>\n",
       "      <td>0.003313</td>\n",
       "      <td>4.104761</td>\n",
       "      <td>-0.018086</td>\n",
       "      <td>0.243225</td>\n",
       "    </tr>\n",
       "    <tr>\n",
       "      <td>2018</td>\n",
       "      <td>0.003082</td>\n",
       "      <td>0.272329</td>\n",
       "      <td>-0.157378</td>\n",
       "      <td>0.037086</td>\n",
       "    </tr>\n",
       "    <tr>\n",
       "      <td>2019</td>\n",
       "      <td>0.001904</td>\n",
       "      <td>2.250920</td>\n",
       "      <td>-0.049254</td>\n",
       "      <td>0.175425</td>\n",
       "    </tr>\n",
       "    <tr>\n",
       "      <td>average</td>\n",
       "      <td>0.002331</td>\n",
       "      <td>1.661566</td>\n",
       "      <td>-0.157378</td>\n",
       "      <td>0.140669</td>\n",
       "    </tr>\n",
       "  </tbody>\n",
       "</table>\n",
       "</div>"
      ],
      "text/plain": [
       "         turnover  Sharpe ratio  maximum drawdown  annual return\n",
       "2015     0.001782      0.744576         -0.125871       0.115700\n",
       "2016     0.001573      0.935246         -0.081568       0.131908\n",
       "2017     0.003313      4.104761         -0.018086       0.243225\n",
       "2018     0.003082      0.272329         -0.157378       0.037086\n",
       "2019     0.001904      2.250920         -0.049254       0.175425\n",
       "average  0.002331      1.661566         -0.157378       0.140669"
      ]
     },
     "metadata": {},
     "output_type": "display_data"
    }
   ],
   "source": [
    "# we can ignore the warning of plt package.\n",
    "ERC_monthly_pnl, ERC_monthly_backtest_res = display_backtest(ERC_monthly_weight.shift(1), ret)"
   ]
  },
  {
   "cell_type": "markdown",
   "metadata": {},
   "source": [
    "- Compared with annua rebalancing ERC portfolio, there is almost no difference in performance.\n",
    "- This is probably because that the correlation matrix $\\Sigma$ and expected return vector $\\mu$ are slow-varying."
   ]
  },
  {
   "cell_type": "code",
   "execution_count": null,
   "metadata": {},
   "outputs": [],
   "source": []
  }
 ],
 "metadata": {
  "kernelspec": {
   "display_name": "Python 3",
   "language": "python",
   "name": "python3"
  },
  "language_info": {
   "codemirror_mode": {
    "name": "ipython",
    "version": 3
   },
   "file_extension": ".py",
   "mimetype": "text/x-python",
   "name": "python",
   "nbconvert_exporter": "python",
   "pygments_lexer": "ipython3",
   "version": "3.7.4"
  },
  "varInspector": {
   "cols": {
    "lenName": 16,
    "lenType": 16,
    "lenVar": 40
   },
   "kernels_config": {
    "python": {
     "delete_cmd_postfix": "",
     "delete_cmd_prefix": "del ",
     "library": "var_list.py",
     "varRefreshCmd": "print(var_dic_list())"
    },
    "r": {
     "delete_cmd_postfix": ") ",
     "delete_cmd_prefix": "rm(",
     "library": "var_list.r",
     "varRefreshCmd": "cat(var_dic_list()) "
    }
   },
   "position": {
    "height": "358.722px",
    "left": "1375.45px",
    "right": "20px",
    "top": "120px",
    "width": "350px"
   },
   "types_to_exclude": [
    "module",
    "function",
    "builtin_function_or_method",
    "instance",
    "_Feature"
   ],
   "window_display": false
  }
 },
 "nbformat": 4,
 "nbformat_minor": 2
}
