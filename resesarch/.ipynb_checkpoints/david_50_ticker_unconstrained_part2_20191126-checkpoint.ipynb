{
 "cells": [
  {
   "cell_type": "code",
   "execution_count": 1,
   "metadata": {
    "ExecuteTime": {
     "end_time": "2019-12-04T22:09:37.608270Z",
     "start_time": "2019-12-04T22:09:36.430274Z"
    }
   },
   "outputs": [],
   "source": [
    "import numpy as np\n",
    "import pandas as pd\n",
    "import seaborn as sns\n",
    "import matplotlib.pyplot as plt\n",
    "import statsmodels.api as sm\n",
    "\n",
    "from datetime import date, timedelta\n",
    "from IPython.display import display"
   ]
  },
  {
   "cell_type": "code",
   "execution_count": 2,
   "metadata": {
    "ExecuteTime": {
     "end_time": "2019-12-04T22:09:37.637165Z",
     "start_time": "2019-12-04T22:09:37.611011Z"
    }
   },
   "outputs": [],
   "source": [
    "%run 'backtest.py'\n",
    "%run 'data_trimming.py'\n",
    "%run 'unconstrained_RB_portfolio_construction.py'"
   ]
  },
  {
   "cell_type": "markdown",
   "metadata": {},
   "source": [
    "# 0. Data loading and some basic calculations."
   ]
  },
  {
   "cell_type": "code",
   "execution_count": 3,
   "metadata": {
    "ExecuteTime": {
     "end_time": "2019-12-04T22:09:37.716966Z",
     "start_time": "2019-12-04T22:09:37.649023Z"
    }
   },
   "outputs": [],
   "source": [
    "cap = pd.read_csv('/Users/zichaowang/OneDrive - The City University of New York/Baruch/2019 Fall Semester/capstone/data/cap_clean.csv', index_col=0)\n",
    "close = pd.read_csv('/Users/zichaowang/OneDrive - The City University of New York/Baruch/2019 Fall Semester/capstone/data/close_clean.csv', index_col=0)\n",
    "close_burn_in = pd.read_csv('/Users/zichaowang/OneDrive - The City University of New York/Baruch/2019 Fall Semester/capstone/data/close_burn_in_clean.csv', index_col=0)\n",
    "cap.index = pd.to_datetime(cap.index)\n",
    "close.index = pd.to_datetime(close.index)\n",
    "close_burn_in.index = pd.to_datetime(close_burn_in.index)"
   ]
  },
  {
   "cell_type": "markdown",
   "metadata": {},
   "source": [
    "Calculate daily return (known after close)."
   ]
  },
  {
   "cell_type": "code",
   "execution_count": 4,
   "metadata": {
    "ExecuteTime": {
     "end_time": "2019-12-04T22:09:37.776209Z",
     "start_time": "2019-12-04T22:09:37.722412Z"
    }
   },
   "outputs": [],
   "source": [
    "ret = close.diff()/close.shift(1)\n",
    "ret_burn_in = close_burn_in.diff()/close_burn_in.shift(1)"
   ]
  },
  {
   "cell_type": "markdown",
   "metadata": {},
   "source": [
    "Store start and end year of our strategy."
   ]
  },
  {
   "cell_type": "code",
   "execution_count": 5,
   "metadata": {
    "ExecuteTime": {
     "end_time": "2019-12-04T22:09:37.840864Z",
     "start_time": "2019-12-04T22:09:37.832228Z"
    }
   },
   "outputs": [],
   "source": [
    "# start and end year of our strategy.\n",
    "start_year = ret.index[0].year\n",
    "end_year = ret.index[-1].year"
   ]
  },
  {
   "cell_type": "markdown",
   "metadata": {},
   "source": [
    "Compute mean return vector $\\mu$ and covariance matrix $\\Sigma$ year by year.\n",
    "\n",
    "We assume that they are known at the end of the time indicated by the key value of the dictionary."
   ]
  },
  {
   "cell_type": "code",
   "execution_count": 6,
   "metadata": {
    "ExecuteTime": {
     "end_time": "2019-12-04T22:09:37.881857Z",
     "start_time": "2019-12-04T22:09:37.844571Z"
    }
   },
   "outputs": [],
   "source": [
    "Sig_dict_1y, mu_dict_1y = {}, {}\n",
    "\n",
    "for year in range(start_year, end_year+1):\n",
    "    Sig_dict_1y[str(year)] = ret[str(year)].cov().values\n",
    "    mu_dict_1y[str(year)] = np.nanmean(ret[str(year)], axis=0)\n",
    "\n",
    "# add burn-in period into the dictionary.\n",
    "Sig_dict_1y[str(start_year-1)] = ret_burn_in.cov().values\n",
    "mu_dict_1y[str(start_year-1)] = np.nanmean(ret_burn_in, axis=0)"
   ]
  },
  {
   "cell_type": "markdown",
   "metadata": {},
   "source": [
    "We always assume $r=0$."
   ]
  },
  {
   "cell_type": "code",
   "execution_count": 7,
   "metadata": {
    "ExecuteTime": {
     "end_time": "2019-12-04T22:09:37.894971Z",
     "start_time": "2019-12-04T22:09:37.885723Z"
    }
   },
   "outputs": [],
   "source": [
    "r = 0"
   ]
  },
  {
   "cell_type": "markdown",
   "metadata": {},
   "source": [
    "Construct index portfolio."
   ]
  },
  {
   "cell_type": "code",
   "execution_count": 8,
   "metadata": {
    "ExecuteTime": {
     "end_time": "2019-12-04T22:09:38.273903Z",
     "start_time": "2019-12-04T22:09:37.906967Z"
    },
    "scrolled": false
   },
   "outputs": [
    {
     "name": "stderr",
     "output_type": "stream",
     "text": [
      "/Users/zichaowang/opt/anaconda3/lib/python3.7/site-packages/pandas/plotting/_matplotlib/converter.py:103: FutureWarning: Using an implicitly registered datetime converter for a matplotlib plotting method. The converter was registered by pandas on import. Future versions of pandas will require you to explicitly register matplotlib converters.\n",
      "\n",
      "To register the converters:\n",
      "\t>>> from pandas.plotting import register_matplotlib_converters\n",
      "\t>>> register_matplotlib_converters()\n",
      "  warnings.warn(msg, FutureWarning)\n"
     ]
    },
    {
     "data": {
      "image/png": "[encoded data removed]",
      "text/plain": [
       "<Figure size 720x360 with 1 Axes>"
      ]
     },
     "metadata": {
      "needs_background": "light"
     },
     "output_type": "display_data"
    },
    {
     "data": {
      "text/html": [
       "<div>\n",
       "<style scoped>\n",
       "    .dataframe tbody tr th:only-of-type {\n",
       "        vertical-align: middle;\n",
       "    }\n",
       "\n",
       "    .dataframe tbody tr th {\n",
       "        vertical-align: top;\n",
       "    }\n",
       "\n",
       "    .dataframe thead th {\n",
       "        text-align: right;\n",
       "    }\n",
       "</style>\n",
       "<table border=\"1\" class=\"dataframe\">\n",
       "  <thead>\n",
       "    <tr style=\"text-align: right;\">\n",
       "      <th></th>\n",
       "      <th>turnover</th>\n",
       "      <th>Sharpe ratio</th>\n",
       "      <th>maximum drawdown</th>\n",
       "      <th>annual return</th>\n",
       "    </tr>\n",
       "  </thead>\n",
       "  <tbody>\n",
       "    <tr>\n",
       "      <td>2015</td>\n",
       "      <td>0.000717</td>\n",
       "      <td>0.605612</td>\n",
       "      <td>-0.136774</td>\n",
       "      <td>0.096450</td>\n",
       "    </tr>\n",
       "    <tr>\n",
       "      <td>2016</td>\n",
       "      <td>0.000685</td>\n",
       "      <td>1.039586</td>\n",
       "      <td>-0.074305</td>\n",
       "      <td>0.148270</td>\n",
       "    </tr>\n",
       "    <tr>\n",
       "      <td>2017</td>\n",
       "      <td>0.000632</td>\n",
       "      <td>3.775969</td>\n",
       "      <td>-0.021015</td>\n",
       "      <td>0.252221</td>\n",
       "    </tr>\n",
       "    <tr>\n",
       "      <td>2018</td>\n",
       "      <td>0.000814</td>\n",
       "      <td>0.160546</td>\n",
       "      <td>-0.198987</td>\n",
       "      <td>0.020652</td>\n",
       "    </tr>\n",
       "    <tr>\n",
       "      <td>2019</td>\n",
       "      <td>0.000000</td>\n",
       "      <td>2.016617</td>\n",
       "      <td>-0.079996</td>\n",
       "      <td>0.190013</td>\n",
       "    </tr>\n",
       "    <tr>\n",
       "      <td>average</td>\n",
       "      <td>0.000569</td>\n",
       "      <td>1.519666</td>\n",
       "      <td>-0.198987</td>\n",
       "      <td>0.141521</td>\n",
       "    </tr>\n",
       "  </tbody>\n",
       "</table>\n",
       "</div>"
      ],
      "text/plain": [
       "         turnover  Sharpe ratio  maximum drawdown  annual return\n",
       "2015     0.000717      0.605612         -0.136774       0.096450\n",
       "2016     0.000685      1.039586         -0.074305       0.148270\n",
       "2017     0.000632      3.775969         -0.021015       0.252221\n",
       "2018     0.000814      0.160546         -0.198987       0.020652\n",
       "2019     0.000000      2.016617         -0.079996       0.190013\n",
       "average  0.000569      1.519666         -0.198987       0.141521"
      ]
     },
     "metadata": {},
     "output_type": "display_data"
    }
   ],
   "source": [
    "index_weight = cap/np.tile(np.sum(cap, axis=1), reps=(cap.shape[1], 1)).T\n",
    "\n",
    "# we can ignore the warning of plt package.\n",
    "index_pnl, index_backtest_res = display_backtest(index_weight.shift(1), ret)"
   ]
  },
  {
   "cell_type": "markdown",
   "metadata": {},
   "source": [
    "# 1. Use index to hedge ERC portfolio."
   ]
  },
  {
   "cell_type": "markdown",
   "metadata": {},
   "source": [
    "Parameters:\n",
    "\n",
    "- $c=1$\n",
    "- $b_i=\\frac1n,\\forall i$.\n",
    "- $\\lambda=1$.\n",
    "\n",
    "Rebalancing frequency: yearly."
   ]
  },
  {
   "cell_type": "markdown",
   "metadata": {},
   "source": [
    "First construct ERC long-only portfolio."
   ]
  },
  {
   "cell_type": "code",
   "execution_count": 9,
   "metadata": {
    "ExecuteTime": {
     "end_time": "2019-12-04T22:09:38.282602Z",
     "start_time": "2019-12-04T22:09:38.277878Z"
    }
   },
   "outputs": [],
   "source": [
    "n = len(ret.columns)\n",
    "c = 1\n",
    "b = np.array([1/n]*n).reshape(n, 1)\n",
    "lambd = 1"
   ]
  },
  {
   "cell_type": "code",
   "execution_count": 10,
   "metadata": {
    "ExecuteTime": {
     "end_time": "2019-12-04T22:09:38.929952Z",
     "start_time": "2019-12-04T22:09:38.285842Z"
    }
   },
   "outputs": [
    {
     "name": "stderr",
     "output_type": "stream",
     "text": [
      "/Users/zichaowang/opt/anaconda3/lib/python3.7/site-packages/ipykernel_launcher.py:8: FutureWarning: elementwise comparison failed; returning scalar instead, but in the future will perform elementwise comparison\n",
      "  \n"
     ]
    }
   ],
   "source": [
    "x_lst = []\n",
    "\n",
    "for year in range(start_year, end_year+1):\n",
    "    mu = mu_dict_1y[str(year-1)]\n",
    "    Sig = Sig_dict_1y[str(year-1)]\n",
    "    opt_res = RB_unconstrianed(r, mu, c, Sig, b, lambd=lambd,\\\n",
    "                               opt_algo='RCD', max_iter=20000, prec=1e-8)\n",
    "    if opt_res['x_opt'] != 'time out':\n",
    "        x_lst.append(opt_res['x_opt'])\n",
    "    else:\n",
    "        raise ValueError('x_opt is invalid because time is out.')"
   ]
  },
  {
   "cell_type": "code",
   "execution_count": 11,
   "metadata": {
    "ExecuteTime": {
     "end_time": "2019-12-04T22:09:38.944978Z",
     "start_time": "2019-12-04T22:09:38.932317Z"
    }
   },
   "outputs": [],
   "source": [
    "# construct ERC long-only weight matrix.\n",
    "ERC_lo_weight = np.array(x_lst).reshape((5, 49))\n",
    "ERC_lo_weight = ERC_lo_weight/np.tile(np.sum(ERC_lo_weight, axis=1), reps=(ERC_lo_weight.shape[1], 1)).T\n",
    "\n",
    "yearly_first_day = [ret[str(year)].index[0] for year in range(start_year, end_year+1)]\n",
    "ERC_lo_weight = pd.DataFrame(ERC_lo_weight, index=yearly_first_day, columns=ret.columns)\n",
    "ERC_lo_weight = ERC_lo_weight.reindex(index=ret.index, fill_value=np.nan).ffill()"
   ]
  },
  {
   "cell_type": "code",
   "execution_count": 12,
   "metadata": {
    "ExecuteTime": {
     "end_time": "2019-12-04T22:09:39.313541Z",
     "start_time": "2019-12-04T22:09:38.947472Z"
    }
   },
   "outputs": [
    {
     "data": {
      "image/png": "[encoded data removed]",
      "text/plain": [
       "<Figure size 720x360 with 1 Axes>"
      ]
     },
     "metadata": {
      "needs_background": "light"
     },
     "output_type": "display_data"
    },
    {
     "data": {
      "text/html": [
       "<div>\n",
       "<style scoped>\n",
       "    .dataframe tbody tr th:only-of-type {\n",
       "        vertical-align: middle;\n",
       "    }\n",
       "\n",
       "    .dataframe tbody tr th {\n",
       "        vertical-align: top;\n",
       "    }\n",
       "\n",
       "    .dataframe thead th {\n",
       "        text-align: right;\n",
       "    }\n",
       "</style>\n",
       "<table border=\"1\" class=\"dataframe\">\n",
       "  <thead>\n",
       "    <tr style=\"text-align: right;\">\n",
       "      <th></th>\n",
       "      <th>turnover</th>\n",
       "      <th>Sharpe ratio</th>\n",
       "      <th>maximum drawdown</th>\n",
       "      <th>annual return</th>\n",
       "    </tr>\n",
       "  </thead>\n",
       "  <tbody>\n",
       "    <tr>\n",
       "      <td>2015</td>\n",
       "      <td>0.000000</td>\n",
       "      <td>0.666661</td>\n",
       "      <td>-0.127018</td>\n",
       "      <td>0.102243</td>\n",
       "    </tr>\n",
       "    <tr>\n",
       "      <td>2016</td>\n",
       "      <td>0.000746</td>\n",
       "      <td>1.031199</td>\n",
       "      <td>-0.082298</td>\n",
       "      <td>0.143796</td>\n",
       "    </tr>\n",
       "    <tr>\n",
       "      <td>2017</td>\n",
       "      <td>0.000744</td>\n",
       "      <td>4.055592</td>\n",
       "      <td>-0.018311</td>\n",
       "      <td>0.237329</td>\n",
       "    </tr>\n",
       "    <tr>\n",
       "      <td>2018</td>\n",
       "      <td>0.001030</td>\n",
       "      <td>0.329049</td>\n",
       "      <td>-0.152851</td>\n",
       "      <td>0.045991</td>\n",
       "    </tr>\n",
       "    <tr>\n",
       "      <td>2019</td>\n",
       "      <td>0.001796</td>\n",
       "      <td>2.225003</td>\n",
       "      <td>-0.049908</td>\n",
       "      <td>0.176677</td>\n",
       "    </tr>\n",
       "    <tr>\n",
       "      <td>average</td>\n",
       "      <td>0.000863</td>\n",
       "      <td>1.661501</td>\n",
       "      <td>-0.152851</td>\n",
       "      <td>0.141207</td>\n",
       "    </tr>\n",
       "  </tbody>\n",
       "</table>\n",
       "</div>"
      ],
      "text/plain": [
       "         turnover  Sharpe ratio  maximum drawdown  annual return\n",
       "2015     0.000000      0.666661         -0.127018       0.102243\n",
       "2016     0.000746      1.031199         -0.082298       0.143796\n",
       "2017     0.000744      4.055592         -0.018311       0.237329\n",
       "2018     0.001030      0.329049         -0.152851       0.045991\n",
       "2019     0.001796      2.225003         -0.049908       0.176677\n",
       "average  0.000863      1.661501         -0.152851       0.141207"
      ]
     },
     "metadata": {},
     "output_type": "display_data"
    }
   ],
   "source": [
    "# we can ignore the warning of plt package.\n",
    "ERC_lo_pnl, ERC_lo_backtest_res = display_backtest(ERC_lo_weight.shift(1), ret)"
   ]
  },
  {
   "cell_type": "markdown",
   "metadata": {},
   "source": [
    "Now use index portfolio to hedge ERC portfolio.\n",
    "\n",
    "Method: on each day, run a cross-sectional regression with\n",
    "- dependent varaible: ERC weight\n",
    "- independent variable: index weight\n",
    "\n",
    "and get the residual as our final holding weight on that day.\n",
    "\n",
    "Note that this strategy is now a long-short strategy rather than a long-only one."
   ]
  },
  {
   "cell_type": "code",
   "execution_count": 13,
   "metadata": {
    "ExecuteTime": {
     "end_time": "2019-12-04T22:09:39.324480Z",
     "start_time": "2019-12-04T22:09:39.316143Z"
    }
   },
   "outputs": [],
   "source": [
    "slope = pd.DataFrame(np.nan, index=index_weight.index, columns=index_weight.columns)\n",
    "intercept = slope.copy()"
   ]
  },
  {
   "cell_type": "code",
   "execution_count": 14,
   "metadata": {
    "ExecuteTime": {
     "end_time": "2019-12-04T22:09:41.268805Z",
     "start_time": "2019-12-04T22:09:39.327344Z"
    }
   },
   "outputs": [],
   "source": [
    "# cross-sectional regression\n",
    "for row_idx in range(index_weight.shape[0]):\n",
    "    index_row = index_weight.iloc[row_idx, :]\n",
    "    ERC_lo_row = ERC_lo_weight.iloc[row_idx, :]\n",
    "    vld_idx = np.isfinite(index_row)&np.isfinite(ERC_lo_row)\n",
    "    \n",
    "    parameters = sm.OLS(ERC_lo_row.values[vld_idx], sm.add_constant(index_row.values[vld_idx])).fit().params\n",
    "    intercept.iloc[row_idx, :] = parameters[0]\n",
    "    slope.iloc[row_idx, :] = parameters[1]"
   ]
  },
  {
   "cell_type": "code",
   "execution_count": 15,
   "metadata": {
    "ExecuteTime": {
     "end_time": "2019-12-04T22:09:41.388471Z",
     "start_time": "2019-12-04T22:09:41.271275Z"
    }
   },
   "outputs": [],
   "source": [
    "ERC_ls_weight = ERC_lo_weight - intercept - slope*index_weight\n",
    "ERC_ls_weight = normalize(ERC_ls_weight)"
   ]
  },
  {
   "cell_type": "code",
   "execution_count": 16,
   "metadata": {
    "ExecuteTime": {
     "end_time": "2019-12-04T22:09:41.778459Z",
     "start_time": "2019-12-04T22:09:41.391099Z"
    }
   },
   "outputs": [
    {
     "data": {
      "image/png": "[encoded data removed]",
      "text/plain": [
       "<Figure size 720x360 with 1 Axes>"
      ]
     },
     "metadata": {
      "needs_background": "light"
     },
     "output_type": "display_data"
    },
    {
     "data": {
      "text/html": [
       "<div>\n",
       "<style scoped>\n",
       "    .dataframe tbody tr th:only-of-type {\n",
       "        vertical-align: middle;\n",
       "    }\n",
       "\n",
       "    .dataframe tbody tr th {\n",
       "        vertical-align: top;\n",
       "    }\n",
       "\n",
       "    .dataframe thead th {\n",
       "        text-align: right;\n",
       "    }\n",
       "</style>\n",
       "<table border=\"1\" class=\"dataframe\">\n",
       "  <thead>\n",
       "    <tr style=\"text-align: right;\">\n",
       "      <th></th>\n",
       "      <th>turnover</th>\n",
       "      <th>Sharpe ratio</th>\n",
       "      <th>maximum drawdown</th>\n",
       "      <th>annual return</th>\n",
       "    </tr>\n",
       "  </thead>\n",
       "  <tbody>\n",
       "    <tr>\n",
       "      <td>2015</td>\n",
       "      <td>0.000410</td>\n",
       "      <td>-1.859527</td>\n",
       "      <td>-0.139940</td>\n",
       "      <td>-0.097563</td>\n",
       "    </tr>\n",
       "    <tr>\n",
       "      <td>2016</td>\n",
       "      <td>0.003798</td>\n",
       "      <td>-0.434458</td>\n",
       "      <td>-0.114012</td>\n",
       "      <td>-0.038100</td>\n",
       "    </tr>\n",
       "    <tr>\n",
       "      <td>2017</td>\n",
       "      <td>0.003207</td>\n",
       "      <td>-1.750074</td>\n",
       "      <td>-0.118279</td>\n",
       "      <td>-0.083580</td>\n",
       "    </tr>\n",
       "    <tr>\n",
       "      <td>2018</td>\n",
       "      <td>0.003670</td>\n",
       "      <td>-0.393886</td>\n",
       "      <td>-0.082631</td>\n",
       "      <td>-0.018486</td>\n",
       "    </tr>\n",
       "    <tr>\n",
       "      <td>2019</td>\n",
       "      <td>0.006615</td>\n",
       "      <td>-0.917746</td>\n",
       "      <td>-0.071877</td>\n",
       "      <td>-0.042201</td>\n",
       "    </tr>\n",
       "    <tr>\n",
       "      <td>average</td>\n",
       "      <td>0.003540</td>\n",
       "      <td>-1.071138</td>\n",
       "      <td>-0.139940</td>\n",
       "      <td>-0.055986</td>\n",
       "    </tr>\n",
       "  </tbody>\n",
       "</table>\n",
       "</div>"
      ],
      "text/plain": [
       "         turnover  Sharpe ratio  maximum drawdown  annual return\n",
       "2015     0.000410     -1.859527         -0.139940      -0.097563\n",
       "2016     0.003798     -0.434458         -0.114012      -0.038100\n",
       "2017     0.003207     -1.750074         -0.118279      -0.083580\n",
       "2018     0.003670     -0.393886         -0.082631      -0.018486\n",
       "2019     0.006615     -0.917746         -0.071877      -0.042201\n",
       "average  0.003540     -1.071138         -0.139940      -0.055986"
      ]
     },
     "metadata": {},
     "output_type": "display_data"
    }
   ],
   "source": [
    "# we can ignore the warning of plt package.\n",
    "ERC_ls_pnl, ERC_ls_backtest_res = display_backtest(ERC_ls_weight.shift(1), ret)"
   ]
  },
  {
   "cell_type": "markdown",
   "metadata": {
    "ExecuteTime": {
     "end_time": "2019-11-29T16:16:55.524770Z",
     "start_time": "2019-11-29T16:16:55.493300Z"
    }
   },
   "source": [
    "- Surprisingly, we got consistent negative return."
   ]
  },
  {
   "cell_type": "code",
   "execution_count": null,
   "metadata": {},
   "outputs": [],
   "source": []
  }
 ],
 "metadata": {
  "kernelspec": {
   "display_name": "Python 3",
   "language": "python",
   "name": "python3"
  },
  "language_info": {
   "codemirror_mode": {
    "name": "ipython",
    "version": 3
   },
   "file_extension": ".py",
   "mimetype": "text/x-python",
   "name": "python",
   "nbconvert_exporter": "python",
   "pygments_lexer": "ipython3",
   "version": "3.7.4"
  },
  "varInspector": {
   "cols": {
    "lenName": 16,
    "lenType": 16,
    "lenVar": 40
   },
   "kernels_config": {
    "python": {
     "delete_cmd_postfix": "",
     "delete_cmd_prefix": "del ",
     "library": "var_list.py",
     "varRefreshCmd": "print(var_dic_list())"
    },
    "r": {
     "delete_cmd_postfix": ") ",
     "delete_cmd_prefix": "rm(",
     "library": "var_list.r",
     "varRefreshCmd": "cat(var_dic_list()) "
    }
   },
   "types_to_exclude": [
    "module",
    "function",
    "builtin_function_or_method",
    "instance",
    "_Feature"
   ],
   "window_display": false
  }
 },
 "nbformat": 4,
 "nbformat_minor": 2
}
