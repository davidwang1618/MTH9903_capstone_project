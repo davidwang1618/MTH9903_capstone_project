{
 "cells": [
  {
   "cell_type": "code",
   "execution_count": 1,
   "metadata": {
    "ExecuteTime": {
     "end_time": "2019-12-04T22:10:09.150106Z",
     "start_time": "2019-12-04T22:10:08.313506Z"
    }
   },
   "outputs": [],
   "source": [
    "import numpy as np\n",
    "import pandas as pd\n",
    "import matplotlib.pyplot as plt\n",
    "import datetime\n",
    "\n",
    "from numpy.random import randint\n",
    "from IPython.display import display"
   ]
  },
  {
   "cell_type": "code",
   "execution_count": 2,
   "metadata": {
    "ExecuteTime": {
     "end_time": "2019-12-04T22:10:09.165968Z",
     "start_time": "2019-12-04T22:10:09.152809Z"
    }
   },
   "outputs": [],
   "source": [
    "# calculate value of target function.\n",
    "def target_func(x, r, mu, c, Sig, b, lambd):\n",
    "    # if some element of x is negative, return np.inf.\n",
    "    if np.sum(x>0) < x.shape[0]:\n",
    "        return np.inf\n",
    "\n",
    "    # else, return the corresponding result.\n",
    "    R = -np.dot(x.T, mu-r) + c*np.sqrt(np.dot(x.T, np.dot(Sig, x)))\n",
    "    return R - lambd*np.sum(b*np.log(x))\n",
    "\n",
    "\n",
    "# gradient descent for one single index\n",
    "def CD_single_index(i, r, mu, c, Sig, b, lambd, x):\n",
    "\n",
    "    # compute the two terms on the numerator separately.\n",
    "    term1 = 0\n",
    "    for j in range(mu.shape[0]):\n",
    "        if j == i:\n",
    "            continue\n",
    "        else:\n",
    "            term1 += x[j]*Sig[i][j]\n",
    "    term1 *= (-c)\n",
    "\n",
    "    pi = mu-r\n",
    "    sig = np.sqrt(float(np.dot(x.T, np.dot(Sig, x))))\n",
    "    term1 += pi[i]*sig\n",
    "\n",
    "    term2 = np.sqrt(np.square(term1)+4*lambd*c*b[i]*Sig[i][i]*sig)\n",
    "    \n",
    "    # update index i element in x and return.\n",
    "    res = np.array(x)\n",
    "    res[i] = (term1+term2)/(2*c*Sig[i][i])\n",
    "    return res"
   ]
  },
  {
   "cell_type": "code",
   "execution_count": 3,
   "metadata": {
    "ExecuteTime": {
     "end_time": "2019-12-04T22:10:09.202372Z",
     "start_time": "2019-12-04T22:10:09.172619Z"
    }
   },
   "outputs": [],
   "source": [
    "def RB_unconstrianed(r, mu, c, Sig, b, lambd=1, eta=0.1, opt_algo='CCD', max_iter=10000, prec=1e-6):\n",
    "    \n",
    "    # check if optimization algo type is one of these three.\n",
    "    # if not, raise error.\n",
    "    if opt_algo not in ['Newton', 'RCD', 'CCD']:\n",
    "        raise ValueError('Optimization algo type is not correct.')\n",
    "    \n",
    "    # get starting time point.\n",
    "    start_time = datetime.datetime.now()\n",
    "    \n",
    "    \n",
    "    # Newton algorithm\n",
    "    if opt_algo == 'Newton':\n",
    "        # starting point of x: all elements are 1.\n",
    "        x_next = np.ones(shape=(mu.shape[0], 1))\n",
    "        \n",
    "        # descent in a quadratic way step by step.\n",
    "        for iter in range(max_iter):\n",
    "            x_prev = x_next\n",
    "            \n",
    "            # we will compute Sigma*x and store it\n",
    "            # since we will use it many times.\n",
    "            Sig_mul_x = np.dot(Sig, x_prev)\n",
    "            \n",
    "            # compute sigma=x.T*Sigma*x\n",
    "            # since we will use it many times.\n",
    "            sig = np.sqrt(float(np.dot(x_prev.T, Sig_mul_x)))\n",
    "            \n",
    "            # compute gradient and Hessian at x_prev.\n",
    "            grad = -(mu-r) + c*Sig_mul_x/sig - lambd*b/x_prev\n",
    "            \n",
    "            hessian = c * (Sig*sig-np.dot(Sig_mul_x, Sig_mul_x.T)) / np.square(sig)\\\n",
    "                      + lambd*np.diag(b/np.square(x_prev))\n",
    "            \n",
    "            # descent for one time.\n",
    "            x_next = x_prev-eta*np.dot(np.linalg.inv(hessian), grad)\n",
    "            \n",
    "            # if two adjacent results are close, return.\n",
    "            target_val_prev = target_func(x_prev, r, mu, c, Sig, b, lambd)\n",
    "            target_val_next = target_func(x_next, r, mu, c, Sig, b, lambd)\n",
    "            \n",
    "            if np.abs((target_val_next-target_val_prev)/target_val_prev) <= prec:\n",
    "                end_time = datetime.datetime.now()\n",
    "                return {'x_opt':x_next, 'target value':target_val_next, 'iter_num':iter, 'time in mu s':(end_time-start_time).microseconds}\n",
    "        \n",
    "        # else stop running and return time-out indicator.\n",
    "        end_time = datetime.datetime.now()\n",
    "        return {'x_opt':'time out', 'target value':target_val_next, 'iter_num':iter, 'time in mu s':(end_time-start_time).microseconds}\n",
    "    \n",
    "    \n",
    "    # RCD algorithm\n",
    "    if opt_algo == 'RCD':\n",
    "        \n",
    "        asset_num = mu.shape[0]  # number of assets\n",
    "        # starting point of x: all elements are 1.\n",
    "        x_next = np.ones(shape=(asset_num, 1))\n",
    "        \n",
    "        for iter in range(max_iter):\n",
    "            # traget function value before this round of descending\n",
    "            target_val_prev = target_func(x_next, r, mu, c, Sig, b, lambd)\n",
    "            \n",
    "            # run coordinate gradient descent for asset_num times.\n",
    "            for _ in range(asset_num):\n",
    "                opt_idx = randint(low=0, high=asset_num)\n",
    "                x_prev = x_next\n",
    "                x_next = CD_single_index(opt_idx, r, mu, c, Sig, b, lambd, x_prev)\n",
    "            \n",
    "            # target function value after this round of descending\n",
    "            target_val_next = target_func(x_next, r, mu, c, Sig, b, lambd)\n",
    "            \n",
    "            # if two adjacent results are close, return.\n",
    "            if np.abs((target_val_next-target_val_prev)/target_val_prev) <= prec:\n",
    "                end_time = datetime.datetime.now()\n",
    "                return {'x_opt':x_next, 'target value':target_val_next, 'iter_num':iter, 'time in mu s':(end_time-start_time).microseconds}\n",
    "        \n",
    "        # else stop running and return time-out indicator.\n",
    "        end_time = datetime.datetime.now()\n",
    "        return {'x_opt':'time out', 'target value':target_val_next, 'iter_num':iter, 'time in mu s':(end_time-start_time).microseconds}\n",
    "    \n",
    "    \n",
    "    # CCD algorithm\n",
    "    if opt_algo == 'CCD':\n",
    "        \n",
    "        asset_num = mu.shape[0]  # number of assets\n",
    "        # starting point of x: all elements are 1.\n",
    "        x_next = np.ones(shape=(asset_num, 1))\n",
    "        \n",
    "        for iter in range(max_iter):\n",
    "            # target function value before this round of descending\n",
    "            target_val_prev = target_func(x_next, r, mu, c, Sig, b, lambd)\n",
    "            \n",
    "            # run coordinate gradient descent for each index.\n",
    "            for idx in range(asset_num):\n",
    "                x_prev = x_next\n",
    "                x_next = CD_single_index(idx, r, mu, c, Sig, b, lambd, x_prev)\n",
    "            \n",
    "            # target function value after this round of descending\n",
    "            target_val_next = target_func(x_next, r, mu, c, Sig, b, lambd)\n",
    "            \n",
    "            # if two adjacent results are close, return.\n",
    "            if np.abs((target_val_next-target_val_prev)/target_val_prev) <= prec:\n",
    "                end_time = datetime.datetime.now()\n",
    "                return {'x_opt':x_next, 'target value':target_val_next, 'iter_num':iter, 'time in mu s':(end_time-start_time).microseconds}\n",
    "        \n",
    "        # else stop running and return time-out indicator.\n",
    "        end_time = datetime.datetime.now()\n",
    "        return {'x_opt':'time out', 'target value':target_val_next, 'iter_num':iter, 'time in mu s':(end_time-start_time).microseconds}"
   ]
  },
  {
   "cell_type": "markdown",
   "metadata": {},
   "source": [
    "In order to test these three algorithms, let's define the simplest case:\n",
    "\n",
    "1. There are 5 assets in total and they are independent with each other.\n",
    "2. $r=0,\\mu=\\mathbb{0},c=1$. That is to say, the risk measure is the volatility.\n",
    "3. $b_i=\\frac15,\\forall i$ (Equal Risk Contribution portfolio).\n",
    "4. $\\lambda=1$ for all three optimization algorithms.\n",
    "\n",
    "For parameter in the Newton's algo, we set $\\eta=0.1$."
   ]
  },
  {
   "cell_type": "code",
   "execution_count": 4,
   "metadata": {
    "ExecuteTime": {
     "end_time": "2019-12-04T22:10:09.215567Z",
     "start_time": "2019-12-04T22:10:09.207336Z"
    }
   },
   "outputs": [],
   "source": [
    "r, c = 0, 1\n",
    "mu = np.array([0]*5).reshape([5, 1])\n",
    "Sig = np.diag(np.square(np.arange(0.1, 0.6, 0.1)))\n",
    "b = np.array([1/5]*5).reshape((5, 1))\n",
    "lambd = 1"
   ]
  },
  {
   "cell_type": "markdown",
   "metadata": {},
   "source": [
    "# 1. Newton's Algorithm"
   ]
  },
  {
   "cell_type": "code",
   "execution_count": 5,
   "metadata": {
    "ExecuteTime": {
     "end_time": "2019-12-04T22:10:09.255660Z",
     "start_time": "2019-12-04T22:10:09.220666Z"
    }
   },
   "outputs": [
    {
     "data": {
      "text/plain": [
       "{'x_opt': array([[4.45597886],\n",
       "        [2.23156356],\n",
       "        [1.48850596],\n",
       "        [1.11667869],\n",
       "        [0.89348668]]),\n",
       " 'target value': array([[0.45963484]]),\n",
       " 'iter_num': 91,\n",
       " 'time in mu s': 25867}"
      ]
     },
     "execution_count": 5,
     "metadata": {},
     "output_type": "execute_result"
    }
   ],
   "source": [
    "res_ERC_Newton_try1 = RB_unconstrianed(r, mu, c, Sig, b, lambd=lambd, eta=0.1, opt_algo='Newton')\n",
    "res_ERC_Newton_try1"
   ]
  },
  {
   "cell_type": "code",
   "execution_count": 6,
   "metadata": {
    "ExecuteTime": {
     "end_time": "2019-12-04T22:10:09.270295Z",
     "start_time": "2019-12-04T22:10:09.261853Z"
    }
   },
   "outputs": [
    {
     "data": {
      "text/plain": [
       "array([[0.43745193],\n",
       "       [0.21907684],\n",
       "       [0.14612946],\n",
       "       [0.10962647],\n",
       "       [0.08771529]])"
      ]
     },
     "execution_count": 6,
     "metadata": {},
     "output_type": "execute_result"
    }
   ],
   "source": [
    "x = res_ERC_Newton_try1['x_opt']\n",
    "x_RB = x/np.sum(x)\n",
    "x_RB"
   ]
  },
  {
   "cell_type": "markdown",
   "metadata": {},
   "source": [
    "Apprently, this result is correct."
   ]
  },
  {
   "cell_type": "markdown",
   "metadata": {},
   "source": [
    "Now let's keep all the other parameters same, but change $\\eta$ from 0.1 to 1."
   ]
  },
  {
   "cell_type": "code",
   "execution_count": 7,
   "metadata": {
    "ExecuteTime": {
     "end_time": "2019-12-04T22:10:10.033012Z",
     "start_time": "2019-12-04T22:10:09.275894Z"
    }
   },
   "outputs": [
    {
     "data": {
      "text/plain": [
       "{'x_opt': 'time out',\n",
       " 'target value': inf,\n",
       " 'iter_num': 9999,\n",
       " 'time in mu s': 750129}"
      ]
     },
     "execution_count": 7,
     "metadata": {},
     "output_type": "execute_result"
    }
   ],
   "source": [
    "res_ERC_Newton_try2 = RB_unconstrianed(r, mu, c, Sig, b, lambd=lambd, eta=1, opt_algo='Newton')\n",
    "res_ERC_Newton_try2"
   ]
  },
  {
   "cell_type": "markdown",
   "metadata": {},
   "source": [
    "In this case, the Newton's algorithm exceeds the max iteration limit because the step length $\\lambda$ is too large in this case. There are two possible reason behind that:\n",
    "1. Although we have a term served as the \"log barrier\" in our Lagrangian, we do not have any mechanism to prevent $x^{(k+1)}$ from being negative in terms of the expression of gradient and Hessian.\n",
    "2. Newton's algorithm are not guarranteed to converge even for a convex optimization problem with limited domain which comes from certain specific functional form (i.e., $f(x)=\\log(x)$)."
   ]
  },
  {
   "cell_type": "markdown",
   "metadata": {},
   "source": [
    "# 2. RCD (Random Coordinate Descent)"
   ]
  },
  {
   "cell_type": "code",
   "execution_count": 8,
   "metadata": {
    "ExecuteTime": {
     "end_time": "2019-12-04T22:10:10.058330Z",
     "start_time": "2019-12-04T22:10:10.037751Z"
    }
   },
   "outputs": [
    {
     "data": {
      "text/plain": [
       "{'x_opt': array([[4.46787536],\n",
       "        [2.2339916 ],\n",
       "        [1.48312838],\n",
       "        [1.11696694],\n",
       "        [0.89362612]]),\n",
       " 'target value': array([[0.45963654]]),\n",
       " 'iter_num': 10,\n",
       " 'time in mu s': 10131}"
      ]
     },
     "execution_count": 8,
     "metadata": {},
     "output_type": "execute_result"
    }
   ],
   "source": [
    "res_ERC_RCD_try1 = RB_unconstrianed(r, mu, c, Sig, b, lambd=1, opt_algo='RCD')\n",
    "res_ERC_RCD_try1"
   ]
  },
  {
   "cell_type": "markdown",
   "metadata": {},
   "source": [
    "# 3. CCD (Cyclical Coordinate Descent)"
   ]
  },
  {
   "cell_type": "code",
   "execution_count": 9,
   "metadata": {
    "ExecuteTime": {
     "end_time": "2019-12-04T22:10:10.089079Z",
     "start_time": "2019-12-04T22:10:10.064427Z"
    }
   },
   "outputs": [
    {
     "data": {
      "text/plain": [
       "{'x_opt': array([[4.47071974],\n",
       "        [2.23549805],\n",
       "        [1.49040553],\n",
       "        [1.1178486 ],\n",
       "        [0.89430766]]),\n",
       " 'target value': array([[0.45963224]]),\n",
       " 'iter_num': 5,\n",
       " 'time in mu s': 8338}"
      ]
     },
     "execution_count": 9,
     "metadata": {},
     "output_type": "execute_result"
    }
   ],
   "source": [
    "res_ERC_CCD_try1 = RB_unconstrianed(r, mu, c, Sig, b, lambd=1, opt_algo='CCD')\n",
    "res_ERC_CCD_try1"
   ]
  },
  {
   "cell_type": "markdown",
   "metadata": {},
   "source": [
    "# 4. Comparison of performance"
   ]
  },
  {
   "cell_type": "markdown",
   "metadata": {},
   "source": [
    "Let's test the performance of three algorithms in the following setting:\n",
    "1. 5 assets in the market, with $\\mu=E[r]$ and $\\Sigma=Cov[r]$ generated randomly.\n",
    "2. $r=0.02,\\lambda=1,\\eta=0.1,c=0.1$.\n",
    "3. Run Monte Carlo simulation 100 times."
   ]
  },
  {
   "cell_type": "code",
   "execution_count": 10,
   "metadata": {
    "ExecuteTime": {
     "end_time": "2019-12-04T22:10:10.151950Z",
     "start_time": "2019-12-04T22:10:10.104948Z"
    }
   },
   "outputs": [],
   "source": [
    "n = 5\n",
    "simu_time = 100\n",
    "r = 0.02\n",
    "lambd, eta = 1, 0.1\n",
    "c = 0.1\n",
    "\n",
    "algo_lst = ['Newton', 'RCD', 'CCD']"
   ]
  },
  {
   "cell_type": "code",
   "execution_count": 11,
   "metadata": {
    "ExecuteTime": {
     "end_time": "2019-12-04T22:11:41.241161Z",
     "start_time": "2019-12-04T22:10:10.164501Z"
    }
   },
   "outputs": [
    {
     "name": "stderr",
     "output_type": "stream",
     "text": [
      "/Users/zichaowang/opt/anaconda3/lib/python3.7/site-packages/ipykernel_launcher.py:101: RuntimeWarning: invalid value encountered in true_divide\n",
      "/Users/zichaowang/opt/anaconda3/lib/python3.7/site-packages/ipykernel_launcher.py:4: RuntimeWarning: invalid value encountered in greater\n",
      "  after removing the cwd from sys.path.\n",
      "/Users/zichaowang/opt/anaconda3/lib/python3.7/site-packages/ipykernel_launcher.py:42: RuntimeWarning: invalid value encountered in true_divide\n"
     ]
    }
   ],
   "source": [
    "# np.array to store the results of our simulations\n",
    "target_val = np.zeros(shape=(simu_time, 3))\n",
    "iter_num = np.zeros(shape=(simu_time, 3))\n",
    "time = np.zeros(shape=(simu_time, 3))\n",
    "\n",
    "for i in range(simu_time):\n",
    "    # generate b, mu and Sigma randomly.\n",
    "    b = np.random.uniform(size=(n, 1))\n",
    "    b /= np.sum(b)\n",
    "    mu = np.random.uniform(low=0, high=0.1, size=(n, 1))\n",
    "    \n",
    "    tmp = np.random.uniform(size=(n, n))\n",
    "    Sig = np.dot(tmp, tmp.T)\n",
    "    \n",
    "    # keep track of the terminal value of target function,\n",
    "    # total iteration number, and total time spent.\n",
    "    for j in range(3):\n",
    "        target_val[i][j], iter_num[i][j], time[i][j] = list(RB_unconstrianed(r, mu, c, Sig, b, lambd=lambd,\\\n",
    "                                                                             eta=eta, opt_algo=algo_lst[j]).values())[1:]\n",
    "\n",
    "# convert them into pd.df.\n",
    "target_val = pd.DataFrame(target_val, columns=algo_lst)\n",
    "iter_num = pd.DataFrame(iter_num, columns=algo_lst)\n",
    "time = pd.DataFrame(time, columns=algo_lst)"
   ]
  },
  {
   "cell_type": "markdown",
   "metadata": {},
   "source": [
    "The warning above is because we go beyond the domain sometime."
   ]
  },
  {
   "cell_type": "markdown",
   "metadata": {},
   "source": [
    "Let's see how many simulations out of 100 fail to converge."
   ]
  },
  {
   "cell_type": "code",
   "execution_count": 12,
   "metadata": {
    "ExecuteTime": {
     "end_time": "2019-12-04T22:11:41.274732Z",
     "start_time": "2019-12-04T22:11:41.243456Z"
    }
   },
   "outputs": [
    {
     "data": {
      "text/plain": [
       "Newton    100\n",
       "RCD         0\n",
       "CCD         3\n",
       "dtype: int64"
      ]
     },
     "execution_count": 12,
     "metadata": {},
     "output_type": "execute_result"
    }
   ],
   "source": [
    "np.sum(~np.isfinite(target_val))"
   ]
  },
  {
   "cell_type": "markdown",
   "metadata": {},
   "source": [
    "Now let's compare the target function value, iteration times and total running time it takes to converge of these three algorithms above."
   ]
  },
  {
   "cell_type": "code",
   "execution_count": 13,
   "metadata": {
    "ExecuteTime": {
     "end_time": "2019-12-04T22:11:41.570561Z",
     "start_time": "2019-12-04T22:11:41.289271Z"
    }
   },
   "outputs": [
    {
     "data": {
      "image/png": "[encoded data removed]",
      "text/plain": [
       "<Figure size 432x288 with 1 Axes>"
      ]
     },
     "metadata": {
      "needs_background": "light"
     },
     "output_type": "display_data"
    }
   ],
   "source": [
    "plt.plot(target_val['RCD']-target_val['CCD'], marker='o')\n",
    "plt.xlabel('simulation index')\n",
    "plt.ylabel('target function value\\ndifference (RCD-CCD)')\n",
    "plt.show()"
   ]
  },
  {
   "cell_type": "code",
   "execution_count": 14,
   "metadata": {
    "ExecuteTime": {
     "end_time": "2019-12-04T22:11:41.848104Z",
     "start_time": "2019-12-04T22:11:41.572974Z"
    }
   },
   "outputs": [
    {
     "data": {
      "image/png": "[encoded data removed]",
      "text/plain": [
       "<Figure size 720x216 with 1 Axes>"
      ]
     },
     "metadata": {
      "needs_background": "light"
     },
     "output_type": "display_data"
    }
   ],
   "source": [
    "plt.figure(figsize=(10, 3))\n",
    "plt.plot(iter_num['Newton'], label='Newton', color='g', marker='o', markersize=3)\n",
    "plt.plot(iter_num['RCD'], label='RCD', color='r', marker='o', markersize=3)\n",
    "plt.plot(iter_num['CCD'], label='CCD', color='b', marker='o', markersize=3)\n",
    "plt.xlabel('simulation index')\n",
    "plt.ylabel('iterations it takes to converge')\n",
    "plt.title('iterations it takes to converge for three algorithms')\n",
    "plt.legend()\n",
    "plt.show()"
   ]
  },
  {
   "cell_type": "code",
   "execution_count": 15,
   "metadata": {
    "ExecuteTime": {
     "end_time": "2019-12-04T22:11:42.068623Z",
     "start_time": "2019-12-04T22:11:41.850899Z"
    }
   },
   "outputs": [
    {
     "data": {
      "image/png": "[encoded data removed]",
      "text/plain": [
       "<Figure size 720x360 with 1 Axes>"
      ]
     },
     "metadata": {
      "needs_background": "light"
     },
     "output_type": "display_data"
    }
   ],
   "source": [
    "plt.figure(figsize=(10, 5))\n",
    "plt.plot(time['Newton'], label='Newton', color='g', marker='o', markersize=3)\n",
    "plt.plot(time['RCD'], label='RCD', color='r', marker='o', markersize=3)\n",
    "plt.plot(time['CCD'], label='CCD', color='b', marker='o', markersize=3)\n",
    "plt.xlabel('simulation index')\n",
    "plt.ylabel('time to converge in milliseconds')\n",
    "plt.title('time it takes to converge for three algorithms')\n",
    "plt.legend()\n",
    "plt.show()"
   ]
  },
  {
   "cell_type": "code",
   "execution_count": 16,
   "metadata": {
    "ExecuteTime": {
     "end_time": "2019-12-04T22:11:42.322025Z",
     "start_time": "2019-12-04T22:11:42.071142Z"
    }
   },
   "outputs": [
    {
     "data": {
      "image/png": "[encoded data removed]",
      "text/plain": [
       "<Figure size 1080x504 with 1 Axes>"
      ]
     },
     "metadata": {
      "needs_background": "light"
     },
     "output_type": "display_data"
    }
   ],
   "source": [
    "plt.figure(figsize=(15, 7))\n",
    "plt.plot(time['RCD'], label='RCD', color='r', marker='o')\n",
    "plt.plot(time['CCD'], label='CCD', color='b', marker='o')\n",
    "plt.xlabel('simulation index')\n",
    "plt.ylabel('time to converge in mu s')\n",
    "plt.legend()\n",
    "plt.show()"
   ]
  },
  {
   "cell_type": "code",
   "execution_count": null,
   "metadata": {},
   "outputs": [],
   "source": []
  }
 ],
 "metadata": {
  "kernelspec": {
   "display_name": "Python 3",
   "language": "python",
   "name": "python3"
  },
  "language_info": {
   "codemirror_mode": {
    "name": "ipython",
    "version": 3
   },
   "file_extension": ".py",
   "mimetype": "text/x-python",
   "name": "python",
   "nbconvert_exporter": "python",
   "pygments_lexer": "ipython3",
   "version": "3.7.4"
  },
  "varInspector": {
   "cols": {
    "lenName": 16,
    "lenType": 16,
    "lenVar": 40
   },
   "kernels_config": {
    "python": {
     "delete_cmd_postfix": "",
     "delete_cmd_prefix": "del ",
     "library": "var_list.py",
     "varRefreshCmd": "print(var_dic_list())"
    },
    "r": {
     "delete_cmd_postfix": ") ",
     "delete_cmd_prefix": "rm(",
     "library": "var_list.r",
     "varRefreshCmd": "cat(var_dic_list()) "
    }
   },
   "types_to_exclude": [
    "module",
    "function",
    "builtin_function_or_method",
    "instance",
    "_Feature"
   ],
   "window_display": false
  }
 },
 "nbformat": 4,
 "nbformat_minor": 4
}
