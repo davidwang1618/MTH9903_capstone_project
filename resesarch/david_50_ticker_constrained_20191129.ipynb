{
 "cells": [
  {
   "cell_type": "code",
   "execution_count": 1,
   "metadata": {
    "ExecuteTime": {
     "end_time": "2019-12-04T22:06:42.026252Z",
     "start_time": "2019-12-04T22:06:40.449902Z"
    }
   },
   "outputs": [],
   "source": [
    "import numpy as np\n",
    "import pandas as pd\n",
    "import seaborn as sns\n",
    "import matplotlib.pyplot as plt\n",
    "import statsmodels.api as sm\n",
    "\n",
    "from datetime import date, timedelta\n",
    "from IPython.display import display"
   ]
  },
  {
   "cell_type": "code",
   "execution_count": 2,
   "metadata": {
    "ExecuteTime": {
     "end_time": "2019-12-04T22:06:42.061106Z",
     "start_time": "2019-12-04T22:06:42.032927Z"
    }
   },
   "outputs": [],
   "source": [
    "%run 'backtest.py'\n",
    "%run 'data_trimming.py'\n",
    "%run 'unconstrained_RB_portfolio_construction.py'\n",
    "%run 'constrained_RB_portfolio_construction.py'"
   ]
  },
  {
   "cell_type": "markdown",
   "metadata": {},
   "source": [
    "# 0. Data loading and some basic calculations."
   ]
  },
  {
   "cell_type": "code",
   "execution_count": 3,
   "metadata": {
    "ExecuteTime": {
     "end_time": "2019-12-04T22:06:42.139887Z",
     "start_time": "2019-12-04T22:06:42.068757Z"
    }
   },
   "outputs": [],
   "source": [
    "cap = pd.read_csv('/Users/zichaowang/OneDrive - The City University of New York/Baruch/2019 Fall Semester/capstone/data/cap_clean.csv', index_col=0)\n",
    "close = pd.read_csv('/Users/zichaowang/OneDrive - The City University of New York/Baruch/2019 Fall Semester/capstone/data/close_clean.csv', index_col=0)\n",
    "close_burn_in = pd.read_csv('/Users/zichaowang/OneDrive - The City University of New York/Baruch/2019 Fall Semester/capstone/data/close_burn_in_clean.csv', index_col=0)\n",
    "cap.index = pd.to_datetime(cap.index)\n",
    "close.index = pd.to_datetime(close.index)\n",
    "close_burn_in.index = pd.to_datetime(close_burn_in.index)"
   ]
  },
  {
   "cell_type": "markdown",
   "metadata": {},
   "source": [
    "Calculate daily return (known after close)."
   ]
  },
  {
   "cell_type": "code",
   "execution_count": 4,
   "metadata": {
    "ExecuteTime": {
     "end_time": "2019-12-04T22:06:42.172565Z",
     "start_time": "2019-12-04T22:06:42.145497Z"
    }
   },
   "outputs": [],
   "source": [
    "ret = close.diff()/close.shift(1)\n",
    "ret_burn_in = close_burn_in.diff()/close_burn_in.shift(1)"
   ]
  },
  {
   "cell_type": "markdown",
   "metadata": {},
   "source": [
    "Store start and end year of our strategy."
   ]
  },
  {
   "cell_type": "code",
   "execution_count": 5,
   "metadata": {
    "ExecuteTime": {
     "end_time": "2019-12-04T22:06:42.188078Z",
     "start_time": "2019-12-04T22:06:42.177209Z"
    }
   },
   "outputs": [],
   "source": [
    "# start and end year of our strategy.\n",
    "start_year = ret.index[0].year\n",
    "end_year = ret.index[-1].year"
   ]
  },
  {
   "cell_type": "markdown",
   "metadata": {},
   "source": [
    "Compute mean return vector $\\mu$ and covariance matrix $\\Sigma$ year by year.\n",
    "\n",
    "We assume that they are known at the end of the time indicated by the key value of the dictionary."
   ]
  },
  {
   "cell_type": "code",
   "execution_count": 6,
   "metadata": {
    "ExecuteTime": {
     "end_time": "2019-12-04T22:06:42.225793Z",
     "start_time": "2019-12-04T22:06:42.190902Z"
    }
   },
   "outputs": [],
   "source": [
    "Sig_dict_1y, mu_dict_1y = {}, {}\n",
    "\n",
    "for year in range(start_year, end_year+1):\n",
    "    Sig_dict_1y[str(year)] = ret[str(year)].cov().values\n",
    "    mu_dict_1y[str(year)] = np.nanmean(ret[str(year)], axis=0)\n",
    "\n",
    "# add burn-in period into the dictionary.\n",
    "Sig_dict_1y[str(start_year-1)] = ret_burn_in.cov().values\n",
    "mu_dict_1y[str(start_year-1)] = np.nanmean(ret_burn_in, axis=0)"
   ]
  },
  {
   "cell_type": "markdown",
   "metadata": {},
   "source": [
    "We always assume $r=0$."
   ]
  },
  {
   "cell_type": "code",
   "execution_count": 7,
   "metadata": {
    "ExecuteTime": {
     "end_time": "2019-12-04T22:06:42.237516Z",
     "start_time": "2019-12-04T22:06:42.229046Z"
    }
   },
   "outputs": [],
   "source": [
    "r = 0"
   ]
  },
  {
   "cell_type": "markdown",
   "metadata": {},
   "source": [
    "Construct index portfolio."
   ]
  },
  {
   "cell_type": "code",
   "execution_count": 8,
   "metadata": {
    "ExecuteTime": {
     "end_time": "2019-12-04T22:06:42.696868Z",
     "start_time": "2019-12-04T22:06:42.253067Z"
    }
   },
   "outputs": [
    {
     "name": "stderr",
     "output_type": "stream",
     "text": [
      "/Users/zichaowang/opt/anaconda3/lib/python3.7/site-packages/pandas/plotting/_matplotlib/converter.py:103: FutureWarning: Using an implicitly registered datetime converter for a matplotlib plotting method. The converter was registered by pandas on import. Future versions of pandas will require you to explicitly register matplotlib converters.\n",
      "\n",
      "To register the converters:\n",
      "\t>>> from pandas.plotting import register_matplotlib_converters\n",
      "\t>>> register_matplotlib_converters()\n",
      "  warnings.warn(msg, FutureWarning)\n"
     ]
    },
    {
     "data": {
      "image/png": "[encoded data removed]",
      "text/plain": [
       "<Figure size 720x360 with 1 Axes>"
      ]
     },
     "metadata": {
      "needs_background": "light"
     },
     "output_type": "display_data"
    },
    {
     "data": {
      "text/html": [
       "<div>\n",
       "<style scoped>\n",
       "    .dataframe tbody tr th:only-of-type {\n",
       "        vertical-align: middle;\n",
       "    }\n",
       "\n",
       "    .dataframe tbody tr th {\n",
       "        vertical-align: top;\n",
       "    }\n",
       "\n",
       "    .dataframe thead th {\n",
       "        text-align: right;\n",
       "    }\n",
       "</style>\n",
       "<table border=\"1\" class=\"dataframe\">\n",
       "  <thead>\n",
       "    <tr style=\"text-align: right;\">\n",
       "      <th></th>\n",
       "      <th>turnover</th>\n",
       "      <th>Sharpe ratio</th>\n",
       "      <th>maximum drawdown</th>\n",
       "      <th>annual return</th>\n",
       "    </tr>\n",
       "  </thead>\n",
       "  <tbody>\n",
       "    <tr>\n",
       "      <td>2015</td>\n",
       "      <td>0.000717</td>\n",
       "      <td>0.605612</td>\n",
       "      <td>-0.136774</td>\n",
       "      <td>0.096450</td>\n",
       "    </tr>\n",
       "    <tr>\n",
       "      <td>2016</td>\n",
       "      <td>0.000685</td>\n",
       "      <td>1.039586</td>\n",
       "      <td>-0.074305</td>\n",
       "      <td>0.148270</td>\n",
       "    </tr>\n",
       "    <tr>\n",
       "      <td>2017</td>\n",
       "      <td>0.000632</td>\n",
       "      <td>3.775969</td>\n",
       "      <td>-0.021015</td>\n",
       "      <td>0.252221</td>\n",
       "    </tr>\n",
       "    <tr>\n",
       "      <td>2018</td>\n",
       "      <td>0.000814</td>\n",
       "      <td>0.160546</td>\n",
       "      <td>-0.198987</td>\n",
       "      <td>0.020652</td>\n",
       "    </tr>\n",
       "    <tr>\n",
       "      <td>2019</td>\n",
       "      <td>0.000000</td>\n",
       "      <td>2.016617</td>\n",
       "      <td>-0.079996</td>\n",
       "      <td>0.190013</td>\n",
       "    </tr>\n",
       "    <tr>\n",
       "      <td>average</td>\n",
       "      <td>0.000569</td>\n",
       "      <td>1.519666</td>\n",
       "      <td>-0.198987</td>\n",
       "      <td>0.141521</td>\n",
       "    </tr>\n",
       "  </tbody>\n",
       "</table>\n",
       "</div>"
      ],
      "text/plain": [
       "         turnover  Sharpe ratio  maximum drawdown  annual return\n",
       "2015     0.000717      0.605612         -0.136774       0.096450\n",
       "2016     0.000685      1.039586         -0.074305       0.148270\n",
       "2017     0.000632      3.775969         -0.021015       0.252221\n",
       "2018     0.000814      0.160546         -0.198987       0.020652\n",
       "2019     0.000000      2.016617         -0.079996       0.190013\n",
       "average  0.000569      1.519666         -0.198987       0.141521"
      ]
     },
     "metadata": {},
     "output_type": "display_data"
    }
   ],
   "source": [
    "index_weight = cap/np.tile(np.sum(cap, axis=1), reps=(cap.shape[1], 1)).T\n",
    "\n",
    "# we can ignore the warning of plt package.\n",
    "index_pnl, index_backtest_res = display_backtest(index_weight.shift(1), ret)"
   ]
  },
  {
   "cell_type": "markdown",
   "metadata": {},
   "source": [
    "# 1. Application of constrained RB portfolio: smart-beta portfolios."
   ]
  },
  {
   "cell_type": "markdown",
   "metadata": {},
   "source": [
    "The idea is that for the traditional ERC portfolios, since the universe we work in may contain some small cap stocks, having the same risk contribution for large and small cap stocks may induce some liquidity issues.\n",
    "\n",
    "Therefore, we want to keep the weights of small cap stocks the same as those in the index portfolio, and only apply the ERC optimization on large cap stocks."
   ]
  },
  {
   "cell_type": "markdown",
   "metadata": {},
   "source": [
    "<div class=\"burk\">\n",
    "Note: for each year, we construct our weights after the close of the first trading day in that year, and hold for one year.</div><i class=\"fa fa-lightbulb-o \"></i>"
   ]
  },
  {
   "cell_type": "markdown",
   "metadata": {},
   "source": [
    "Plot the cap distribution of our universe."
   ]
  },
  {
   "cell_type": "code",
   "execution_count": 9,
   "metadata": {
    "ExecuteTime": {
     "end_time": "2019-12-04T22:06:42.952248Z",
     "start_time": "2019-12-04T22:06:42.701032Z"
    }
   },
   "outputs": [
    {
     "data": {
      "image/png": "[encoded data removed]",
      "text/plain": [
       "<Figure size 720x360 with 1 Axes>"
      ]
     },
     "metadata": {
      "needs_background": "light"
     },
     "output_type": "display_data"
    }
   ],
   "source": [
    "year = 2015\n",
    "plt.figure(figsize=(10, 5))\n",
    "sns.distplot(np.nanmean(cap[str(year)], axis=0), kde=False, bins=np.arange(0, 700, 10))\n",
    "plt.xlabel('cap')\n",
    "plt.ylabel('frequent numbers')\n",
    "plt.title('cap distribution across the universe')\n",
    "plt.show()"
   ]
  },
  {
   "cell_type": "markdown",
   "metadata": {
    "ExecuteTime": {
     "end_time": "2019-11-29T17:28:13.923810Z",
     "start_time": "2019-11-29T17:28:13.914890Z"
    }
   },
   "source": [
    "For this universe, we will assume the five stocks with the smallest cap as \"small cap stocks\"."
   ]
  },
  {
   "cell_type": "code",
   "execution_count": 10,
   "metadata": {
    "ExecuteTime": {
     "end_time": "2019-12-04T22:06:43.016267Z",
     "start_time": "2019-12-04T22:06:42.955663Z"
    }
   },
   "outputs": [
    {
     "name": "stdout",
     "output_type": "stream",
     "text": [
      "5 smallest cap stocks in our research period:\n"
     ]
    },
    {
     "data": {
      "text/html": [
       "<div>\n",
       "<style scoped>\n",
       "    .dataframe tbody tr th:only-of-type {\n",
       "        vertical-align: middle;\n",
       "    }\n",
       "\n",
       "    .dataframe tbody tr th {\n",
       "        vertical-align: top;\n",
       "    }\n",
       "\n",
       "    .dataframe thead th {\n",
       "        text-align: right;\n",
       "    }\n",
       "</style>\n",
       "<table border=\"1\" class=\"dataframe\">\n",
       "  <thead>\n",
       "    <tr style=\"text-align: right;\">\n",
       "      <th></th>\n",
       "      <th>1</th>\n",
       "      <th>2</th>\n",
       "      <th>3</th>\n",
       "      <th>4</th>\n",
       "      <th>5</th>\n",
       "    </tr>\n",
       "  </thead>\n",
       "  <tbody>\n",
       "    <tr>\n",
       "      <td>2015</td>\n",
       "      <td>AVGO</td>\n",
       "      <td>NFLX</td>\n",
       "      <td>CRM</td>\n",
       "      <td>ADBE</td>\n",
       "      <td>TMO</td>\n",
       "    </tr>\n",
       "    <tr>\n",
       "      <td>2016</td>\n",
       "      <td>JPM</td>\n",
       "      <td>AVGO</td>\n",
       "      <td>NFLX</td>\n",
       "      <td>ADBE</td>\n",
       "      <td>CRM</td>\n",
       "    </tr>\n",
       "    <tr>\n",
       "      <td>2017</td>\n",
       "      <td>NFLX</td>\n",
       "      <td>ADBE</td>\n",
       "      <td>CRM</td>\n",
       "      <td>TMO</td>\n",
       "      <td>ABT</td>\n",
       "    </tr>\n",
       "    <tr>\n",
       "      <td>2018</td>\n",
       "      <td>NFLX</td>\n",
       "      <td>CRM</td>\n",
       "      <td>COST</td>\n",
       "      <td>TMO</td>\n",
       "      <td>ABT</td>\n",
       "    </tr>\n",
       "    <tr>\n",
       "      <td>2019</td>\n",
       "      <td>MDT</td>\n",
       "      <td>UTX</td>\n",
       "      <td>COST</td>\n",
       "      <td>CRM</td>\n",
       "      <td>TMO</td>\n",
       "    </tr>\n",
       "  </tbody>\n",
       "</table>\n",
       "</div>"
      ],
      "text/plain": [
       "         1     2     3     4    5\n",
       "2015  AVGO  NFLX   CRM  ADBE  TMO\n",
       "2016   JPM  AVGO  NFLX  ADBE  CRM\n",
       "2017  NFLX  ADBE   CRM   TMO  ABT\n",
       "2018  NFLX   CRM  COST   TMO  ABT\n",
       "2019   MDT   UTX  COST   CRM  TMO"
      ]
     },
     "metadata": {},
     "output_type": "display_data"
    }
   ],
   "source": [
    "small_cap_tickers = pd.DataFrame(np.nan, index=[str(year) for year in range(start_year, end_year+1)],\\\n",
    "                                 columns=[str(i) for i in range(1, 6)])\n",
    "small_cap_column_indices = pd.DataFrame(np.nan, index=[str(year) for year in range(start_year, end_year+1)],\\\n",
    "                                        columns=[str(i) for i in range(1, 6)])\n",
    "for year in range(start_year, end_year+1):\n",
    "    cap_first_day = cap[str(year)].iloc[0, :]\n",
    "    small_cap_tickers.iloc[year-start_year, :] = ret.columns[np.argsort(cap_first_day)[0:5]]\n",
    "    small_cap_column_indices.iloc[year-start_year, :] = np.argsort(cap_first_day)[0:5].values\n",
    "\n",
    "small_cap_column_indices = small_cap_column_indices.astype(int)\n",
    "\n",
    "print('5 smallest cap stocks in our research period:')\n",
    "display(small_cap_tickers)"
   ]
  },
  {
   "cell_type": "markdown",
   "metadata": {},
   "source": [
    "Constraints:\n",
    "\n",
    "For each year and for each ticker,\n",
    "\n",
    "- if a stock is identified as a small cap stock, $x_{RB}$ statisfies $x_0-0.00001\\leq x_{RB}\\leq x_0+0.00001$, where $x_0$ is the weight of this stock in the index portfolio.\n",
    "- otherwise, there is no constraint for that ticker."
   ]
  },
  {
   "cell_type": "code",
   "execution_count": 11,
   "metadata": {
    "ExecuteTime": {
     "end_time": "2019-12-04T22:06:43.097512Z",
     "start_time": "2019-12-04T22:06:43.019933Z"
    }
   },
   "outputs": [],
   "source": [
    "Omega_lst = []\n",
    "\n",
    "for year in range(start_year, end_year+1):\n",
    "    omega_dict = {}\n",
    "    \n",
    "    # loop through every ticker.\n",
    "    for i in range(len(ret.columns)):\n",
    "        # if it is small cap, we want to keep its weight as the value in index portfolio.\n",
    "        if i in small_cap_column_indices.loc[str(year)].tolist():\n",
    "            index_weight_i = index_weight[str(year)].iloc[0, i]\n",
    "            omega_dict[str(i)] = [index_weight_i-1e-5, index_weight_i+1e-5]\n",
    "        # otherwise we do not set any constraint on its weight.\n",
    "        else:\n",
    "            omega_dict[str(i)] = [-np.inf, np.inf]\n",
    "    \n",
    "    Omega_lst.append({key: value[:] for key, value in omega_dict.items()})"
   ]
  },
  {
   "cell_type": "markdown",
   "metadata": {},
   "source": [
    "Parameters: same as ERC case."
   ]
  },
  {
   "cell_type": "code",
   "execution_count": 12,
   "metadata": {
    "ExecuteTime": {
     "end_time": "2019-12-04T22:06:43.106835Z",
     "start_time": "2019-12-04T22:06:43.100040Z"
    }
   },
   "outputs": [],
   "source": [
    "n = len(ret.columns)\n",
    "c = 1\n",
    "b = np.array([1/n]*n).reshape(n, 1)"
   ]
  },
  {
   "cell_type": "code",
   "execution_count": 13,
   "metadata": {
    "ExecuteTime": {
     "end_time": "2019-12-04T22:06:45.501751Z",
     "start_time": "2019-12-04T22:06:43.110484Z"
    }
   },
   "outputs": [],
   "source": [
    "x_lst = []\n",
    "\n",
    "for year in range(start_year, end_year+1):\n",
    "    # read in mu, Sigma and Omega for this year.\n",
    "    mu = mu_dict_1y[str(year-1)]\n",
    "    Sig = Sig_dict_1y[str(year-1)]\n",
    "    Omega = Omega_lst[year-start_year]\n",
    "    # read in the weights of index portfolio on the first day of this year.\n",
    "    x_index_portfolio = np.array(index_weight[str(year)].iloc[0]).reshape((-1, 1))\n",
    "    \n",
    "    # run constrained optimization.\n",
    "    opt_res = x_star_s_omega(lambda x: rb_constrained_ccd(x, Omega, b, c, mu, r, Sig,\\\n",
    "                                                          x_init=x_index_portfolio, prec=1e-8, max_iter=10000),\\\n",
    "                             lo=1e-2, hi=1e2, prec=1e-8, max_iter=10000)\n",
    "    \n",
    "    # if time out, raise error. otherwise store holding weight vector.\n",
    "    if np.isfinite(opt_res['lambda_star']):\n",
    "        x_lst.append(opt_res['x_star_s_omega'])\n",
    "    else:\n",
    "        raise ValueError('x_opt is invalid because time is out.')"
   ]
  },
  {
   "cell_type": "code",
   "execution_count": 14,
   "metadata": {
    "ExecuteTime": {
     "end_time": "2019-12-04T22:06:45.525616Z",
     "start_time": "2019-12-04T22:06:45.504250Z"
    }
   },
   "outputs": [],
   "source": [
    "# construct smart beta portfolio.\n",
    "smart_beta_weight = np.array(x_lst).reshape((5, 49))\n",
    "smart_beta_weight = smart_beta_weight/np.tile(np.sum(smart_beta_weight, axis=1), reps=(smart_beta_weight.shape[1], 1)).T\n",
    "\n",
    "yearly_first_day = [ret[str(year)].index[0] for year in range(start_year, end_year+1)]\n",
    "smart_beta_weight = pd.DataFrame(smart_beta_weight, index=yearly_first_day, columns=ret.columns)\n",
    "smart_beta_weight = smart_beta_weight.reindex(index=ret.index, fill_value=np.nan).ffill()"
   ]
  },
  {
   "cell_type": "code",
   "execution_count": 15,
   "metadata": {
    "ExecuteTime": {
     "end_time": "2019-12-04T22:06:45.859488Z",
     "start_time": "2019-12-04T22:06:45.528325Z"
    }
   },
   "outputs": [
    {
     "data": {
      "image/png": "[encoded data removed]",
      "text/plain": [
       "<Figure size 720x360 with 1 Axes>"
      ]
     },
     "metadata": {
      "needs_background": "light"
     },
     "output_type": "display_data"
    },
    {
     "data": {
      "text/html": [
       "<div>\n",
       "<style scoped>\n",
       "    .dataframe tbody tr th:only-of-type {\n",
       "        vertical-align: middle;\n",
       "    }\n",
       "\n",
       "    .dataframe tbody tr th {\n",
       "        vertical-align: top;\n",
       "    }\n",
       "\n",
       "    .dataframe thead th {\n",
       "        text-align: right;\n",
       "    }\n",
       "</style>\n",
       "<table border=\"1\" class=\"dataframe\">\n",
       "  <thead>\n",
       "    <tr style=\"text-align: right;\">\n",
       "      <th></th>\n",
       "      <th>turnover</th>\n",
       "      <th>Sharpe ratio</th>\n",
       "      <th>maximum drawdown</th>\n",
       "      <th>annual return</th>\n",
       "    </tr>\n",
       "  </thead>\n",
       "  <tbody>\n",
       "    <tr>\n",
       "      <td>2015</td>\n",
       "      <td>0.000000</td>\n",
       "      <td>0.550049</td>\n",
       "      <td>-0.126826</td>\n",
       "      <td>0.082748</td>\n",
       "    </tr>\n",
       "    <tr>\n",
       "      <td>2016</td>\n",
       "      <td>0.000798</td>\n",
       "      <td>1.068258</td>\n",
       "      <td>-0.072219</td>\n",
       "      <td>0.142868</td>\n",
       "    </tr>\n",
       "    <tr>\n",
       "      <td>2017</td>\n",
       "      <td>0.000761</td>\n",
       "      <td>3.986463</td>\n",
       "      <td>-0.017257</td>\n",
       "      <td>0.228661</td>\n",
       "    </tr>\n",
       "    <tr>\n",
       "      <td>2018</td>\n",
       "      <td>0.001151</td>\n",
       "      <td>0.235213</td>\n",
       "      <td>-0.148638</td>\n",
       "      <td>0.030055</td>\n",
       "    </tr>\n",
       "    <tr>\n",
       "      <td>2019</td>\n",
       "      <td>0.002157</td>\n",
       "      <td>2.277739</td>\n",
       "      <td>-0.052060</td>\n",
       "      <td>0.174706</td>\n",
       "    </tr>\n",
       "    <tr>\n",
       "      <td>average</td>\n",
       "      <td>0.000973</td>\n",
       "      <td>1.623544</td>\n",
       "      <td>-0.148638</td>\n",
       "      <td>0.131808</td>\n",
       "    </tr>\n",
       "  </tbody>\n",
       "</table>\n",
       "</div>"
      ],
      "text/plain": [
       "         turnover  Sharpe ratio  maximum drawdown  annual return\n",
       "2015     0.000000      0.550049         -0.126826       0.082748\n",
       "2016     0.000798      1.068258         -0.072219       0.142868\n",
       "2017     0.000761      3.986463         -0.017257       0.228661\n",
       "2018     0.001151      0.235213         -0.148638       0.030055\n",
       "2019     0.002157      2.277739         -0.052060       0.174706\n",
       "average  0.000973      1.623544         -0.148638       0.131808"
      ]
     },
     "metadata": {},
     "output_type": "display_data"
    }
   ],
   "source": [
    "smart_beta_pnl, smart_beta_backtest_res = display_backtest(smart_beta_weight.shift(1), ret)"
   ]
  },
  {
   "cell_type": "markdown",
   "metadata": {},
   "source": [
    "- Compared with ERC portfolio, we have lower Sharpe and lower return, which is understandable because we lose some of the benefits of \"cap size effect\".\n",
    "- But we did decreased our drawdown consistently. This shows that the smart beta portfolio is better than traditional ERC portfolio in terms of controlling the tail risk."
   ]
  },
  {
   "cell_type": "code",
   "execution_count": null,
   "metadata": {},
   "outputs": [],
   "source": []
  }
 ],
 "metadata": {
  "kernelspec": {
   "display_name": "Python 3",
   "language": "python",
   "name": "python3"
  },
  "language_info": {
   "codemirror_mode": {
    "name": "ipython",
    "version": 3
   },
   "file_extension": ".py",
   "mimetype": "text/x-python",
   "name": "python",
   "nbconvert_exporter": "python",
   "pygments_lexer": "ipython3",
   "version": "3.7.4"
  },
  "varInspector": {
   "cols": {
    "lenName": 16,
    "lenType": 16,
    "lenVar": 40
   },
   "kernels_config": {
    "python": {
     "delete_cmd_postfix": "",
     "delete_cmd_prefix": "del ",
     "library": "var_list.py",
     "varRefreshCmd": "print(var_dic_list())"
    },
    "r": {
     "delete_cmd_postfix": ") ",
     "delete_cmd_prefix": "rm(",
     "library": "var_list.r",
     "varRefreshCmd": "cat(var_dic_list()) "
    }
   },
   "types_to_exclude": [
    "module",
    "function",
    "builtin_function_or_method",
    "instance",
    "_Feature"
   ],
   "window_display": false
  }
 },
 "nbformat": 4,
 "nbformat_minor": 2
}
