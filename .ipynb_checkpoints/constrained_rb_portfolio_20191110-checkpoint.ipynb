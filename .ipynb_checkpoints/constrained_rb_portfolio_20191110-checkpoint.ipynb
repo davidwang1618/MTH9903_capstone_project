{
 "cells": [
  {
   "cell_type": "code",
   "execution_count": 1,
   "metadata": {
    "ExecuteTime": {
     "end_time": "2019-11-10T15:25:17.668604Z",
     "start_time": "2019-11-10T15:25:12.525952Z"
    }
   },
   "outputs": [],
   "source": [
    "import numpy as np\n",
    "import pandas as pd"
   ]
  },
  {
   "cell_type": "markdown",
   "metadata": {},
   "source": [
    "# 0. Risk measure."
   ]
  },
  {
   "cell_type": "markdown",
   "metadata": {},
   "source": [
    "The risk measure is defined as\n",
    "\n",
    "$$\n",
    "\\mathcal{R}(x)=-x^T(\\mu-r)+c\\cdot\\sqrt{x^T\\Sigma x}\n",
    "$$\n",
    "\n",
    "where $c$ is a scalar measuring the trade-off between the expected return of the portfolio and its volatility, and $\\Sigma$ is the covariance matrix of the return."
   ]
  },
  {
   "cell_type": "markdown",
   "metadata": {},
   "source": [
    "# 1. Mathematical formulation."
   ]
  },
  {
   "cell_type": "markdown",
   "metadata": {},
   "source": [
    "The original problem is\n",
    "\n",
    "$$\n",
    "\\begin{cases}\n",
    "\\mathcal{RB}_i(x)\\approx b_i\\mathcal{R}(x)\\\\\n",
    "x\\in\\mathcal{S}\\\\\n",
    "x\\in\\Omega\n",
    "\\end{cases}\n",
    "$$\n",
    "\n",
    "where $\\mathcal{S}:=\\{x_i\\geq0:\\sum_{i=1}^nx_i=1\\}$ and $\\Omega$ is the set of additional constraints.\n",
    "\n",
    "The equivalent optimization formulation is\n",
    "\n",
    "$$\n",
    "x^\\star(\\mathcal{S},\\Omega)=\\text{argmin}\\sum_{i=1}^n\\sum_{j=1}^n(\\frac1{b_i}\\mathcal{RC}_i(x)-\\frac1{b_j}\\mathcal{RC}_j(x))^2\n",
    "$$\n",
    "\n",
    "$$\n",
    "\\text{s.t.}\\ x\\in(\\mathcal{S}\\cap\\Omega)\n",
    "$$\n",
    "\n",
    "The problem above can be further transformed into\n",
    "\n",
    "$$\n",
    "x^\\star(\\Omega,\\lambda)=\\text{argmin}\\ \\mathcal{R}-\\lambda\\sum_{i=1}^nb_i\\log x_i\n",
    "$$\n",
    "\n",
    "$$\n",
    "\\text{s.t.}\\ x\\in\\Omega\n",
    "$$\n",
    "\n",
    "and we have\n",
    "\n",
    "$$\n",
    "x^\\star(\\mathcal{S},\\Omega)=\\{x^\\star(\\Omega,\\lambda^\\star):\\sum_{i=1}^nx_i^{\\star}(\\Omega,\\lambda^\\star)=1\\}\n",
    "$$"
   ]
  },
  {
   "cell_type": "markdown",
   "metadata": {},
   "source": [
    "# 2. Numerical algorithms."
   ]
  },
  {
   "cell_type": "markdown",
   "metadata": {},
   "source": [
    "The Lagrangain is\n",
    "\n",
    "$$\n",
    "\\mathcal{L}=\\mathcal{R}(x)-\\lambda\\sum_{i=1}^nb_i\\log x_i+\\mathbb{1}_\\Omega(x)\n",
    "$$\n",
    "\n",
    "where\n",
    "\n",
    "$$\n",
    "\\mathbb{1}_\\Omega(x)=\n",
    "\\begin{cases}\n",
    "0,\\ x\\in\\Omega\\\\\n",
    "+\\infty,\\ \\text{otherwise}\n",
    "\\end{cases}\n",
    "$$"
   ]
  },
  {
   "cell_type": "markdown",
   "metadata": {},
   "source": [
    "## 2.1. Given $x^\\star(\\Omega,\\lambda)$, find $x^\\star(\\mathcal{S},\\Omega)$."
   ]
  },
  {
   "cell_type": "markdown",
   "metadata": {},
   "source": [
    "We just use bisection algorithm."
   ]
  },
  {
   "cell_type": "code",
   "execution_count": 2,
   "metadata": {
    "ExecuteTime": {
     "end_time": "2019-11-11T05:06:37.809754Z",
     "start_time": "2019-11-11T05:06:37.801377Z"
    }
   },
   "outputs": [],
   "source": [
    "def x_star_s_omega(x_star_omega_lambd, lo, hi, prec, max_iter):\n",
    "    lambd = (lo+hi)/2\n",
    "    x = x_star_omega_lambd(lambd)\n",
    "    iter_num = 0\n",
    "    \n",
    "    while np.abs(np.sum(x)-1) > prec:\n",
    "        if iter_num >= max_iter:\n",
    "            return {'lambda_star':np.nan,  'x_star_s_omega':np.nan}\n",
    "        \n",
    "        if np.sum(x) < 1: lo = lambd\n",
    "        else: hi = lambd\n",
    "        \n",
    "        lambd = (lo+hi)/2\n",
    "        x = x_star_omega_lambd(lambd)\n",
    "        iter_num += 1\n",
    "    \n",
    "    return {'lambda_star':lambd,  'x_star_s_omega':x}"
   ]
  },
  {
   "cell_type": "markdown",
   "metadata": {},
   "source": [
    "## 2.2. Find $x^\\star(\\Omega,\\lambda)$."
   ]
  },
  {
   "cell_type": "markdown",
   "metadata": {},
   "source": [
    "### 2.2.1. CCD algorithm."
   ]
  },
  {
   "cell_type": "code",
   "execution_count": 36,
   "metadata": {
    "ExecuteTime": {
     "end_time": "2019-11-11T18:39:46.571522Z",
     "start_time": "2019-11-11T18:39:46.552192Z"
    }
   },
   "outputs": [],
   "source": [
    "def rb_constrained_ccd(lambd, omega, c, mu, r, sig, x_init, prec=1e-8, max_iter=1000):\n",
    "    \n",
    "    n = len(x_init)\n",
    "    pi = mu-r\n",
    "    iter_num = 0\n",
    "    \n",
    "    # first update once in order to make x_new and x_prev different.\n",
    "    x_prev = x_init.copy()\n",
    "    x_new = x_prec.copy()\n",
    "    \n",
    "    for i in range(n):\n",
    "        # since vol changes after modifying each coordinate,\n",
    "        # we need to recompute vol within each loop.\n",
    "        sig_x = np.sqrt(float(np.dot(np.dot(x_new.T, sig), x_new)))\n",
    "        \n",
    "        # coordinate gradient descent\n",
    "        alpha_i = c*sig[i][i]\n",
    "        beta_i = c*np.sum(x_new*sig[i, :].T)-c*x_new[i]*sig[i][i] - pi[i]*sig_x\n",
    "        gamma[i] = -lambd*b[i]*sig_x\n",
    "        \n",
    "        x_new[i] = (-beta_i+np.sqrt(beta_i**2-4*alpha_i*gamma_i)) / (2*alpha_i)\n",
    "        \n",
    "        # apply standard projection operation.\n",
    "        lo_bound, up_bound = omega[str(i)]\n",
    "        if x_new[i] <= lo_bound: x_new[i] = lo_bound\n",
    "        elif x_new[i] >= up_bound: x_new[i] = up_bound\n",
    "        else: pass\n",
    "        \n",
    "    iter_num += 1\n",
    "    \n",
    "    while np.sum(np.square(x_new-x_prev)) > prec:\n",
    "        # if max iter is reached, report and return.\n",
    "        if iter_num > max_iter:\n",
    "            return 'time out.'\n",
    "        \n",
    "        # do CCD once.\n",
    "        x_prev = x_new\n",
    "        x_new = x_new.copy()\n",
    "        \n",
    "        for i in range(n):\n",
    "            sig_x = np.sqrt(float(np.dot(np.dot(x_new.T, sig), x_new)))\n",
    "\n",
    "            alpha_i = c*sig[i][i]\n",
    "            beta_i = c*np.sum(x_new*sig[i, :].T)-c*x_new[i]*sig[i][i] - pi[i]*sig_x\n",
    "            gamma[i] = -lambd*b[i]*sig_x\n",
    "\n",
    "            x_new[i] = (-beta_i+np.sqrt(beta_i**2-4*alpha_i*gamma_i)) / (2*alpha_i)\n",
    "\n",
    "            # standard projection operation\n",
    "            lo_bound, up_bound = omega[str(i)]\n",
    "            if x_new[i] <= lo_bound: x_new[i] = lo_bound\n",
    "            elif x_new[i] >= up_bound: x_new[i] = up_bound\n",
    "            else: pass\n",
    "        \n",
    "        iter_num += 1\n",
    "    \n",
    "    return x_new"
   ]
  },
  {
   "cell_type": "markdown",
   "metadata": {},
   "source": [
    "### 2.2.2. ADMM-CCD algorithm."
   ]
  },
  {
   "cell_type": "markdown",
   "metadata": {},
   "source": [
    "$$\n",
    "\\begin{aligned}\n",
    "\\mathcal{L}(x;\\lambda)&=\\mathcal{R}(x)-\\lambda\\sum_{i=1}^nb_i\\log x_i+\\mathbb{1}_\\Omega(x)\\\\\n",
    "&=f(x)+g(x)\n",
    "\\end{aligned}\n",
    "$$\n",
    "\n",
    "where\n",
    "\n",
    "$$\n",
    "\\begin{cases}\n",
    "f(x)=\\mathcal{R}(x)-\\lambda\\sum_{i=1}^nb_i\\log x_i\\\\\n",
    "g(x)=\\mathbb{1}_\\Omega(x)\n",
    "\\end{cases}\n",
    "$$"
   ]
  },
  {
   "cell_type": "code",
   "execution_count": 37,
   "metadata": {
    "ExecuteTime": {
     "end_time": "2019-11-11T18:55:44.993119Z",
     "start_time": "2019-11-11T18:55:44.985500Z"
    }
   },
   "outputs": [],
   "source": [
    "# standard projection operation for box constraints.\n",
    "def std_proj_box_constraint(v, omega):\n",
    "    v_proj = v.copy()\n",
    "    for i in range(len(v)):\n",
    "        # standard projection operation\n",
    "        lo_bound, up_bound = omega[str(i)]\n",
    "        if v_proj[i] <= lo_bound: v_proj[i] = lo_bound\n",
    "        elif v_proj[i] >= up_bound: v_proj[i] = up_bound\n",
    "        else: pass\n",
    "    \n",
    "    return v_proj"
   ]
  },
  {
   "cell_type": "code",
   "execution_count": 38,
   "metadata": {
    "ExecuteTime": {
     "end_time": "2019-11-11T19:27:31.785002Z",
     "start_time": "2019-11-11T19:27:31.769523Z"
    }
   },
   "outputs": [],
   "source": [
    "def rb_constrained_admm_ccd(lambd, phi, omega, c, mu, r, sig, x_init, prec_admm=1e-8, prec_ccd=1e-8,\\\n",
    "                            max_iter_ccd = 1000, k_max=1000):\n",
    "    # initialize x, z, and u.\n",
    "    x_prev = x_init.copy()\n",
    "    z_prev = x_init.copy()\n",
    "    u_prev = np.zeros(x_init.shape)\n",
    "    \n",
    "    n = len(x_init)\n",
    "    \n",
    "    # admm algo frameworks\n",
    "    for k in range(k_max):\n",
    "        \n",
    "        # step 1: x-update\n",
    "        v_x_new = z_prev - u_prev\n",
    "        x_tilde = x_prev.copy()\n",
    "        iter_num_ccd = 0\n",
    "        \n",
    "        while True:\n",
    "            # see if max iter num for ccd is reached.\n",
    "            if iter_num_ccd >= max_iter_ccd:\n",
    "                return 'ccd time out'\n",
    "            \n",
    "            # use ccd for x-update.\n",
    "            x_tilde_prev = x_tilde.copy()\n",
    "            \n",
    "            for i in range(n):\n",
    "                sig_x = np.sqrt(float(np.dot(np.dot(x_tilde.T, sig), x_tilde)))\n",
    "                \n",
    "                alpha_i = c*sig[i][i] + phi*sig_x\n",
    "                beta_i = c*np.sum(x_tilde*sig[i, :].T)-c*x_tilde[i]*sig[i][i] - (pi[i]+phi*v_x_new[i])*sig_x\n",
    "                gamma_i = -lambd*b[i]*sig_x\n",
    "                \n",
    "                x_tilde[i] = (-beta_i+np.sqrt(beta_i**2-4*alpha_i*gamma_i)) / (2*alpha_i)\n",
    "            \n",
    "            if np.sum(np.square(x_tilde_prev-x_tilde)) <= prec_ccd: break\n",
    "            iter_num_ccd += 1\n",
    "        \n",
    "        x_new = x_tilde.copy()\n",
    "        \n",
    "        # step 2: z-update\n",
    "        # use standard projection for z update.\n",
    "        v_z_new = x_new + u_prev\n",
    "        z_new = std_proj_box_constraint(v_z_new, omega)\n",
    "        \n",
    "        # step 3: u-update\n",
    "        u_new = u_prev + x_new - z_new\n",
    "        \n",
    "        # step 4: convergence test\n",
    "        if np.sum(np.square(x_new-z_new)) <= prec_admm:\n",
    "            return x_new\n",
    "        \n",
    "        x_prev, z_prev, u_prev = x_new.copy(), z_new.copy(), u_new.copy()\n",
    "        \n",
    "    return 'admm step time out.'"
   ]
  },
  {
   "cell_type": "code",
   "execution_count": null,
   "metadata": {},
   "outputs": [],
   "source": []
  }
 ],
 "metadata": {
  "kernelspec": {
   "display_name": "Python 3",
   "language": "python",
   "name": "python3"
  },
  "language_info": {
   "codemirror_mode": {
    "name": "ipython",
    "version": 3
   },
   "file_extension": ".py",
   "mimetype": "text/x-python",
   "name": "python",
   "nbconvert_exporter": "python",
   "pygments_lexer": "ipython3",
   "version": "3.7.4"
  },
  "varInspector": {
   "cols": {
    "lenName": 16,
    "lenType": 16,
    "lenVar": 40
   },
   "kernels_config": {
    "python": {
     "delete_cmd_postfix": "",
     "delete_cmd_prefix": "del ",
     "library": "var_list.py",
     "varRefreshCmd": "print(var_dic_list())"
    },
    "r": {
     "delete_cmd_postfix": ") ",
     "delete_cmd_prefix": "rm(",
     "library": "var_list.r",
     "varRefreshCmd": "cat(var_dic_list()) "
    }
   },
   "types_to_exclude": [
    "module",
    "function",
    "builtin_function_or_method",
    "instance",
    "_Feature"
   ],
   "window_display": false
  }
 },
 "nbformat": 4,
 "nbformat_minor": 2
}
